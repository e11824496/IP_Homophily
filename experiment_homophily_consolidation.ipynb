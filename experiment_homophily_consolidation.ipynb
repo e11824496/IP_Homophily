{
 "cells": [
  {
   "cell_type": "code",
   "execution_count": 1,
   "metadata": {},
   "outputs": [],
   "source": [
    "%load_ext autoreload\n",
    "%autoreload 2"
   ]
  },
  {
   "cell_type": "code",
   "execution_count": 2,
   "metadata": {},
   "outputs": [],
   "source": [
    "import numpy as np\n",
    "import networkx as nx\n",
    "import matplotlib.pyplot as plt\n",
    "import network_generation as homomul\n",
    "import spread_simulation\n",
    "from tqdm.notebook import tqdm"
   ]
  },
  {
   "attachments": {},
   "cell_type": "markdown",
   "metadata": {},
   "source": [
    "# Spread based on Consolidation and Homophily"
   ]
  },
  {
   "cell_type": "code",
   "execution_count": 15,
   "metadata": {},
   "outputs": [
    {
     "data": {
      "text/plain": [
       "(0.008906250000000001, 0.0)"
      ]
     },
     "execution_count": 15,
     "metadata": {},
     "output_type": "execute_result"
    }
   ],
   "source": [
    "model_settings = {\n",
    "    'N': 3200, \n",
    "    'm': 5, \n",
    "    'consolidation_param': 0.1,\n",
    "    'marginal_distribution': [[0.5,0.5],[0.5,0.5]], \n",
    "    'homophily': 0.8, \n",
    "    'complex_threshold': 0.16,\n",
    "    'initial_seed_filter': lambda x: x.nodes\n",
    "}\n",
    "\n",
    "experiment_settings = {\n",
    "    'n_networks': 2,\n",
    "    'n_initial_seeds': 5\n",
    "}\n",
    "\n",
    "def batch_simulate(N: int, m: int, consolidation_param: float, homophily: float,\n",
    "                       marginal_distribution: list = [[0.5,0.5],[0.5,0.5]], complex_threshold: float = 0.16,\n",
    "                       initial_seed_filter = lambda x: x.nodes,\n",
    "                       n_networks: int = 3, n_initial_seeds: int = 10) -> list[float]: \n",
    "    \n",
    "    comp_pop_frac_tnsr = homomul.consol_comp_pop_frac_tnsr(marginal_distribution, consolidation_param)\n",
    "\n",
    "    h1 = np.array([[homophily, 1-homophily], [1-homophily, homophily]])\n",
    "    h2 = h1.copy()\n",
    "    h_mtrx_lst = np.array([h1,h2])\n",
    "\n",
    "    results = []\n",
    "\n",
    "    for _ in range(n_networks): \n",
    "        g = homomul.am_v2(\n",
    "                    h_mtrx_lst,\n",
    "                    comp_pop_frac_tnsr,\n",
    "                    homophily_kind='all',\n",
    "                    directed=False,\n",
    "                    pop_fracs_lst = marginal_distribution,\n",
    "                    N=N,\n",
    "                    m=m\n",
    "                    )\n",
    "        \n",
    "        filterd_nodes = initial_seed_filter(g)\n",
    "        n = min(n_initial_seeds, len(filterd_nodes))   \n",
    "        initial_seeds = np.random.choice(filterd_nodes, n, replace=False)\n",
    "\n",
    "        for initial in initial_seeds:         \n",
    "            initial = [initial] + [x for x in g.neighbors(initial)]\n",
    "            g = spread_simulation.complex_spread(g, initial, complex_threshold)\n",
    "            results.append(spread_simulation.fraction_infected(g))\n",
    "\n",
    "    return np.average(results), np.average([x > 0.9 for x in results])\n",
    "\n",
    "batch_simulate(**model_settings, **experiment_settings)"
   ]
  },
  {
   "cell_type": "code",
   "execution_count": 4,
   "metadata": {},
   "outputs": [],
   "source": [
    "def setting_simulate(v1_key, v1_settings, v2_key, v2_settings, default_model_setting: dict, experiment_settings: dict): \n",
    "\n",
    "    results_average = np.zeros((v1_settings.size, v2_settings.size))\n",
    "    results_global_spread = results_average.copy()\n",
    "\n",
    "    progress_bar = tqdm(total=v1_settings.size * v2_settings.size)\n",
    "\n",
    "    for i, v1 in enumerate(v1_settings): \n",
    "        for j, v2 in enumerate(v2_settings):\n",
    "\n",
    "            default_model_setting[v1_key] = v1\n",
    "            default_model_setting[v2_key] = v2\n",
    "\n",
    "            r_average, r_global_spread = batch_simulate(**default_model_setting, **experiment_settings)\n",
    "            tqdm.write(f'{v1_key}: {v1:.2f} / {v2_key}: {v2:0.2f} => average = {r_average:0.2f}; global = {r_global_spread:0.2f}')\n",
    "\n",
    "            results_average[i, j] = r_average\n",
    "            results_global_spread[i, j] = r_global_spread\n",
    "\n",
    "            progress_bar.update()\n",
    "\n",
    "    progress_bar.close()\n",
    "\n",
    "    return results_average, results_global_spread\n"
   ]
  },
  {
   "cell_type": "code",
   "execution_count": 5,
   "metadata": {},
   "outputs": [
    {
     "data": {
      "application/vnd.jupyter.widget-view+json": {
       "model_id": "cc7340088c814b51a50e81b9b6a98938",
       "version_major": 2,
       "version_minor": 0
      },
      "text/plain": [
       "  0%|          | 0/66 [00:00<?, ?it/s]"
      ]
     },
     "metadata": {},
     "output_type": "display_data"
    },
    {
     "name": "stdout",
     "output_type": "stream",
     "text": [
      "consolidation_param: 0.00 / homophily: 0.00 => average = 0.01; global = 0.00\n",
      "consolidation_param: 0.00 / homophily: 0.10 => average = 0.01; global = 0.00\n",
      "consolidation_param: 0.00 / homophily: 0.20 => average = 0.11; global = 0.10\n",
      "consolidation_param: 0.00 / homophily: 0.30 => average = 0.01; global = 0.00\n",
      "consolidation_param: 0.00 / homophily: 0.40 => average = 0.01; global = 0.00\n",
      "consolidation_param: 0.00 / homophily: 0.50 => average = 0.01; global = 0.00\n",
      "consolidation_param: 0.00 / homophily: 0.60 => average = 0.01; global = 0.00\n",
      "consolidation_param: 0.00 / homophily: 0.70 => average = 0.01; global = 0.00\n",
      "consolidation_param: 0.00 / homophily: 0.80 => average = 0.21; global = 0.20\n",
      "consolidation_param: 0.00 / homophily: 0.90 => average = 0.40; global = 0.40\n",
      "consolidation_param: 0.00 / homophily: 1.00 => average = 0.15; global = 0.00\n",
      "consolidation_param: 0.10 / homophily: 0.00 => average = 0.01; global = 0.00\n",
      "consolidation_param: 0.10 / homophily: 0.10 => average = 0.21; global = 0.20\n",
      "consolidation_param: 0.10 / homophily: 0.20 => average = 0.01; global = 0.00\n",
      "consolidation_param: 0.10 / homophily: 0.30 => average = 0.01; global = 0.00\n",
      "consolidation_param: 0.10 / homophily: 0.40 => average = 0.01; global = 0.00\n",
      "consolidation_param: 0.10 / homophily: 0.50 => average = 0.11; global = 0.10\n",
      "consolidation_param: 0.10 / homophily: 0.60 => average = 0.01; global = 0.00\n",
      "consolidation_param: 0.10 / homophily: 0.70 => average = 0.01; global = 0.00\n",
      "consolidation_param: 0.10 / homophily: 0.80 => average = 0.11; global = 0.10\n",
      "consolidation_param: 0.10 / homophily: 0.90 => average = 0.41; global = 0.40\n",
      "consolidation_param: 0.10 / homophily: 1.00 => average = 0.14; global = 0.00\n",
      "consolidation_param: 0.20 / homophily: 0.00 => average = 0.06; global = 0.00\n",
      "consolidation_param: 0.20 / homophily: 0.10 => average = 0.80; global = 0.80\n",
      "consolidation_param: 0.20 / homophily: 0.20 => average = 0.11; global = 0.10\n",
      "consolidation_param: 0.20 / homophily: 0.30 => average = 0.01; global = 0.00\n",
      "consolidation_param: 0.20 / homophily: 0.40 => average = 0.11; global = 0.10\n",
      "consolidation_param: 0.20 / homophily: 0.50 => average = 0.01; global = 0.00\n",
      "consolidation_param: 0.20 / homophily: 0.60 => average = 0.01; global = 0.00\n",
      "consolidation_param: 0.20 / homophily: 0.70 => average = 0.21; global = 0.20\n",
      "consolidation_param: 0.20 / homophily: 0.80 => average = 0.01; global = 0.00\n",
      "consolidation_param: 0.20 / homophily: 0.90 => average = 0.90; global = 0.90\n",
      "consolidation_param: 0.20 / homophily: 1.00 => average = 0.04; global = 0.00\n",
      "consolidation_param: 0.30 / homophily: 0.00 => average = 0.13; global = 0.00\n",
      "consolidation_param: 0.30 / homophily: 0.10 => average = 0.80; global = 0.80\n",
      "consolidation_param: 0.30 / homophily: 0.20 => average = 0.01; global = 0.00\n",
      "consolidation_param: 0.30 / homophily: 0.30 => average = 0.01; global = 0.00\n",
      "consolidation_param: 0.30 / homophily: 0.40 => average = 0.01; global = 0.00\n",
      "consolidation_param: 0.30 / homophily: 0.50 => average = 0.01; global = 0.00\n",
      "consolidation_param: 0.30 / homophily: 0.60 => average = 0.11; global = 0.10\n",
      "consolidation_param: 0.30 / homophily: 0.70 => average = 0.01; global = 0.00\n",
      "consolidation_param: 0.30 / homophily: 0.80 => average = 0.01; global = 0.00\n",
      "consolidation_param: 0.30 / homophily: 0.90 => average = 0.80; global = 0.80\n",
      "consolidation_param: 0.30 / homophily: 1.00 => average = 0.14; global = 0.00\n",
      "consolidation_param: 0.40 / homophily: 0.00 => average = 0.21; global = 0.00\n",
      "consolidation_param: 0.40 / homophily: 0.10 => average = 0.31; global = 0.30\n",
      "consolidation_param: 0.40 / homophily: 0.20 => average = 0.01; global = 0.00\n",
      "consolidation_param: 0.40 / homophily: 0.30 => average = 0.01; global = 0.00\n",
      "consolidation_param: 0.40 / homophily: 0.40 => average = 0.01; global = 0.00\n",
      "consolidation_param: 0.40 / homophily: 0.50 => average = 0.01; global = 0.00\n",
      "consolidation_param: 0.40 / homophily: 0.60 => average = 0.01; global = 0.00\n",
      "consolidation_param: 0.40 / homophily: 0.70 => average = 0.01; global = 0.00\n",
      "consolidation_param: 0.40 / homophily: 0.80 => average = 0.01; global = 0.00\n",
      "consolidation_param: 0.40 / homophily: 0.90 => average = 0.50; global = 0.50\n",
      "consolidation_param: 0.40 / homophily: 1.00 => average = 0.19; global = 0.00\n",
      "consolidation_param: 0.50 / homophily: 0.00 => average = 0.20; global = 0.00\n",
      "consolidation_param: 0.50 / homophily: 0.10 => average = 0.01; global = 0.00\n",
      "consolidation_param: 0.50 / homophily: 0.20 => average = 0.01; global = 0.00\n",
      "consolidation_param: 0.50 / homophily: 0.30 => average = 0.01; global = 0.00\n",
      "consolidation_param: 0.50 / homophily: 0.40 => average = 0.01; global = 0.00\n",
      "consolidation_param: 0.50 / homophily: 0.50 => average = 0.01; global = 0.00\n",
      "consolidation_param: 0.50 / homophily: 0.60 => average = 0.01; global = 0.00\n",
      "consolidation_param: 0.50 / homophily: 0.70 => average = 0.01; global = 0.00\n",
      "consolidation_param: 0.50 / homophily: 0.80 => average = 0.11; global = 0.10\n",
      "consolidation_param: 0.50 / homophily: 0.90 => average = 0.50; global = 0.50\n",
      "consolidation_param: 0.50 / homophily: 1.00 => average = 0.18; global = 0.00\n"
     ]
    }
   ],
   "source": [
    "homophily_settings = np.linspace(0,1,11)\n",
    "consolidation_settings = np.linspace(0,0.5, 6)\n",
    "\n",
    "results_average, results_global_spread = setting_simulate('consolidation_param', consolidation_settings, \n",
    "                                                          'homophily', homophily_settings, \n",
    "                                                          model_settings, experiment_settings)\n"
   ]
  },
  {
   "attachments": {},
   "cell_type": "markdown",
   "metadata": {},
   "source": [
    "**Average Spread**"
   ]
  },
  {
   "cell_type": "code",
   "execution_count": 10,
   "metadata": {},
   "outputs": [
    {
     "data": {
      "image/png": "[encoded data removed]",
      "text/plain": [
       "<Figure size 640x480 with 2 Axes>"
      ]
     },
     "metadata": {},
     "output_type": "display_data"
    }
   ],
   "source": [
    "plt.imshow(results_average, interpolation='nearest')\n",
    "plt.xticks(np.arange(homophily_settings.size), [f'{x:0.1f}' for x in homophily_settings])\n",
    "plt.yticks(np.arange(consolidation_settings.size), [f'{x:0.1f}' for x in consolidation_settings])\n",
    "plt.colorbar()\n",
    "plt.show()"
   ]
  },
  {
   "attachments": {},
   "cell_type": "markdown",
   "metadata": {},
   "source": [
    "**Proportion of Global Spread**"
   ]
  },
  {
   "cell_type": "code",
   "execution_count": 7,
   "metadata": {},
   "outputs": [
    {
     "data": {
      "image/png": "[encoded data removed]",
      "text/plain": [
       "<Figure size 640x480 with 2 Axes>"
      ]
     },
     "metadata": {},
     "output_type": "display_data"
    }
   ],
   "source": [
    "plt.imshow(results_global_spread, interpolation='nearest')\n",
    "plt.xticks(np.arange(homophily_settings.size), [f'{x:0.1f}' for x in homophily_settings])\n",
    "plt.yticks(np.arange(consolidation_settings.size), [f'{x:0.1f}' for x in consolidation_settings])\n",
    "plt.colorbar()\n",
    "plt.show()"
   ]
  },
  {
   "attachments": {},
   "cell_type": "markdown",
   "metadata": {},
   "source": [
    "## Groups ability to spread: \n"
   ]
  },
  {
   "cell_type": "code",
   "execution_count": null,
   "metadata": {},
   "outputs": [],
   "source": [
    "def filter_by_group(group): \n",
    "    def f(g: nx.Graph) -> list:\n",
    "        return [x for x, attr in g.nodes('attr') if attr == group]\n",
    "    \n",
    "    return f\n",
    "    \n",
    "model_settings['initial_seed_filter'] = filter_by_group((0,0))\n",
    "results_average, results_global_spread = setting_simulate('consolidation_param', consolidation_settings, \n",
    "                                                          'homophily', homophily_settings, \n",
    "                                                          model_settings, experiment_settings)"
   ]
  },
  {
   "cell_type": "code",
   "execution_count": 17,
   "metadata": {},
   "outputs": [
    {
     "data": {
      "image/png": "[encoded data removed]",
      "text/plain": [
       "<Figure size 640x480 with 2 Axes>"
      ]
     },
     "metadata": {},
     "output_type": "display_data"
    }
   ],
   "source": [
    "plt.imshow(results_global_spread, interpolation='nearest')\n",
    "plt.xticks(np.arange(homophily_settings.size), [f'{x:0.1f}' for x in homophily_settings])\n",
    "plt.yticks(np.arange(consolidation_settings.size), [f'{x:0.1f}' for x in consolidation_settings])\n",
    "plt.colorbar()\n",
    "plt.show()"
   ]
  },
  {
   "cell_type": "code",
   "execution_count": 18,
   "metadata": {},
   "outputs": [
    {
     "data": {
      "application/vnd.jupyter.widget-view+json": {
       "model_id": "5c67aec68dc848ce83adb48e7c62e0a6",
       "version_major": 2,
       "version_minor": 0
      },
      "text/plain": [
       "  0%|          | 0/66 [00:00<?, ?it/s]"
      ]
     },
     "metadata": {},
     "output_type": "display_data"
    },
    {
     "name": "stdout",
     "output_type": "stream",
     "text": [
      "consolidation_param: 0.00 / homophily: 0.00 => average = 0.01; global = 0.00\n",
      "consolidation_param: 0.00 / homophily: 0.10 => average = 0.01; global = 0.00\n",
      "consolidation_param: 0.00 / homophily: 0.20 => average = 0.01; global = 0.00\n",
      "consolidation_param: 0.00 / homophily: 0.30 => average = 0.01; global = 0.00\n",
      "consolidation_param: 0.00 / homophily: 0.40 => average = 0.01; global = 0.00\n",
      "consolidation_param: 0.00 / homophily: 0.50 => average = 0.01; global = 0.00\n",
      "consolidation_param: 0.00 / homophily: 0.60 => average = 0.01; global = 0.00\n",
      "consolidation_param: 0.00 / homophily: 0.70 => average = 0.11; global = 0.10\n",
      "consolidation_param: 0.00 / homophily: 0.80 => average = 0.21; global = 0.20\n",
      "consolidation_param: 0.00 / homophily: 0.90 => average = 0.30; global = 0.30\n",
      "consolidation_param: 0.00 / homophily: 1.00 => average = 0.11; global = 0.00\n",
      "consolidation_param: 0.10 / homophily: 0.00 => average = 0.01; global = 0.00\n",
      "consolidation_param: 0.10 / homophily: 0.10 => average = 0.01; global = 0.00\n",
      "consolidation_param: 0.10 / homophily: 0.20 => average = 0.01; global = 0.00\n",
      "consolidation_param: 0.10 / homophily: 0.30 => average = 0.01; global = 0.00\n",
      "consolidation_param: 0.10 / homophily: 0.40 => average = 0.01; global = 0.00\n",
      "consolidation_param: 0.10 / homophily: 0.50 => average = 0.01; global = 0.00\n",
      "consolidation_param: 0.10 / homophily: 0.60 => average = 0.11; global = 0.10\n",
      "consolidation_param: 0.10 / homophily: 0.70 => average = 0.01; global = 0.00\n",
      "consolidation_param: 0.10 / homophily: 0.80 => average = 0.21; global = 0.20\n",
      "consolidation_param: 0.10 / homophily: 0.90 => average = 0.40; global = 0.40\n",
      "consolidation_param: 0.10 / homophily: 1.00 => average = 0.05; global = 0.00\n",
      "consolidation_param: 0.20 / homophily: 0.00 => average = 0.01; global = 0.00\n",
      "consolidation_param: 0.20 / homophily: 0.10 => average = 0.90; global = 0.90\n",
      "consolidation_param: 0.20 / homophily: 0.20 => average = 0.11; global = 0.10\n",
      "consolidation_param: 0.20 / homophily: 0.30 => average = 0.01; global = 0.00\n",
      "consolidation_param: 0.20 / homophily: 0.40 => average = 0.01; global = 0.00\n",
      "consolidation_param: 0.20 / homophily: 0.50 => average = 0.01; global = 0.00\n",
      "consolidation_param: 0.20 / homophily: 0.60 => average = 0.11; global = 0.10\n",
      "consolidation_param: 0.20 / homophily: 0.70 => average = 0.01; global = 0.00\n",
      "consolidation_param: 0.20 / homophily: 0.80 => average = 0.11; global = 0.10\n",
      "consolidation_param: 0.20 / homophily: 0.90 => average = 0.80; global = 0.80\n",
      "consolidation_param: 0.20 / homophily: 1.00 => average = 0.09; global = 0.00\n",
      "consolidation_param: 0.30 / homophily: 0.00 => average = 0.01; global = 0.00\n",
      "consolidation_param: 0.30 / homophily: 0.10 => average = 0.50; global = 0.50\n",
      "consolidation_param: 0.30 / homophily: 0.20 => average = 0.01; global = 0.00\n",
      "consolidation_param: 0.30 / homophily: 0.30 => average = 0.01; global = 0.00\n",
      "consolidation_param: 0.30 / homophily: 0.40 => average = 0.01; global = 0.00\n",
      "consolidation_param: 0.30 / homophily: 0.50 => average = 0.01; global = 0.00\n",
      "consolidation_param: 0.30 / homophily: 0.60 => average = 0.01; global = 0.00\n",
      "consolidation_param: 0.30 / homophily: 0.70 => average = 0.01; global = 0.00\n",
      "consolidation_param: 0.30 / homophily: 0.80 => average = 0.21; global = 0.20\n",
      "consolidation_param: 0.30 / homophily: 0.90 => average = 0.70; global = 0.70\n",
      "consolidation_param: 0.30 / homophily: 1.00 => average = 0.18; global = 0.00\n",
      "consolidation_param: 0.40 / homophily: 0.00 => average = 0.01; global = 0.00\n",
      "consolidation_param: 0.40 / homophily: 0.10 => average = 0.11; global = 0.10\n",
      "consolidation_param: 0.40 / homophily: 0.20 => average = 0.11; global = 0.10\n",
      "consolidation_param: 0.40 / homophily: 0.30 => average = 0.01; global = 0.00\n",
      "consolidation_param: 0.40 / homophily: 0.40 => average = 0.01; global = 0.00\n",
      "consolidation_param: 0.40 / homophily: 0.50 => average = 0.01; global = 0.00\n",
      "consolidation_param: 0.40 / homophily: 0.60 => average = 0.01; global = 0.00\n",
      "consolidation_param: 0.40 / homophily: 0.70 => average = 0.01; global = 0.00\n",
      "consolidation_param: 0.40 / homophily: 0.80 => average = 0.01; global = 0.00\n",
      "consolidation_param: 0.40 / homophily: 0.90 => average = 0.50; global = 0.50\n",
      "consolidation_param: 0.40 / homophily: 1.00 => average = 0.15; global = 0.00\n",
      "consolidation_param: 0.50 / homophily: 0.00 => average = 0.16; global = 0.00\n",
      "consolidation_param: 0.50 / homophily: 0.10 => average = 0.01; global = 0.00\n",
      "consolidation_param: 0.50 / homophily: 0.20 => average = 0.01; global = 0.00\n",
      "consolidation_param: 0.50 / homophily: 0.30 => average = 0.01; global = 0.00\n",
      "consolidation_param: 0.50 / homophily: 0.40 => average = 0.01; global = 0.00\n",
      "consolidation_param: 0.50 / homophily: 0.50 => average = 0.01; global = 0.00\n",
      "consolidation_param: 0.50 / homophily: 0.60 => average = 0.01; global = 0.00\n",
      "consolidation_param: 0.50 / homophily: 0.70 => average = 0.11; global = 0.10\n",
      "consolidation_param: 0.50 / homophily: 0.80 => average = 0.01; global = 0.00\n",
      "consolidation_param: 0.50 / homophily: 0.90 => average = 0.41; global = 0.40\n",
      "consolidation_param: 0.50 / homophily: 1.00 => average = 0.20; global = 0.00\n"
     ]
    },
    {
     "data": {
      "image/png": "[encoded data removed]",
      "text/plain": [
       "<Figure size 640x480 with 2 Axes>"
      ]
     },
     "metadata": {},
     "output_type": "display_data"
    }
   ],
   "source": [
    "model_settings['initial_seed_filter'] = filter_by_group((0,1))\n",
    "results_average, results_global_spread = setting_simulate('consolidation_param', consolidation_settings, \n",
    "                                                          'homophily', homophily_settings, \n",
    "                                                          model_settings, experiment_settings)\n",
    "\n",
    "plt.imshow(results_global_spread, interpolation='nearest')\n",
    "plt.xticks(np.arange(homophily_settings.size), [f'{x:0.1f}' for x in homophily_settings])\n",
    "plt.yticks(np.arange(consolidation_settings.size), [f'{x:0.1f}' for x in consolidation_settings])\n",
    "plt.colorbar()\n",
    "plt.show()"
   ]
  },
  {
   "cell_type": "code",
   "execution_count": null,
   "metadata": {},
   "outputs": [],
   "source": []
  }
 ],
 "metadata": {
  "kernelspec": {
   "display_name": ".venv",
   "language": "python",
   "name": "python3"
  },
  "language_info": {
   "codemirror_mode": {
    "name": "ipython",
    "version": 3
   },
   "file_extension": ".py",
   "mimetype": "text/x-python",
   "name": "python",
   "nbconvert_exporter": "python",
   "pygments_lexer": "ipython3",
   "version": "3.10.6"
  },
  "orig_nbformat": 4
 },
 "nbformat": 4,
 "nbformat_minor": 2
}
