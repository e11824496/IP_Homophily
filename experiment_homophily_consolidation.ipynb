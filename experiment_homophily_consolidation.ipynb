{
 "cells": [
  {
   "cell_type": "code",
   "execution_count": 1,
   "metadata": {},
   "outputs": [],
   "source": [
    "%load_ext autoreload\n",
    "%autoreload 2"
   ]
  },
  {
   "cell_type": "code",
   "execution_count": 2,
   "metadata": {},
   "outputs": [],
   "source": [
    "import networkx as nx\n",
    "import numpy as np\n",
    "import matplotlib.pyplot as plt\n",
    "from pprint import pprint\n",
    "import network_generation as homomul\n",
    "import spread_simulation\n",
    "import homophily_multi_attr_viz as homomul_viz"
   ]
  },
  {
   "cell_type": "code",
   "execution_count": 3,
   "metadata": {},
   "outputs": [
    {
     "data": {
      "text/plain": [
       "0.14252083333333332"
      ]
     },
     "execution_count": 3,
     "metadata": {},
     "output_type": "execute_result"
    }
   ],
   "source": [
    "model_settings = {\n",
    "    'N': 3200, \n",
    "    'm': 5, \n",
    "    'consolidation_param': 0.1,\n",
    "    'marginal_distribution': [[0.5,0.5],[0.5,0.5]], \n",
    "    'homophily': 0.8, \n",
    "    'complex_threshold': 0.16\n",
    "}\n",
    "\n",
    "experiment_settings = {\n",
    "    'n_networks': 3,\n",
    "    'n_initial_seeds': 10\n",
    "}\n",
    "\n",
    "def perform_experiment(N: int, m: int, consolidation_param: float, homophily: float,\n",
    "                       marginal_distribution: list = [[0.5,0.5],[0.5,0.5]], complex_threshold: float = 0.16, \n",
    "                       n_networks: int = 3, n_initial_seeds: int = 10) -> list[float]: \n",
    "    \n",
    "    comp_pop_frac_tnsr = homomul.consol_comp_pop_frac_tnsr(marginal_distribution, consolidation_param)\n",
    "\n",
    "    h1 = np.array([[homophily, 1-homophily], [1-homophily, homophily]])\n",
    "    h2 = h1.copy()\n",
    "    h_mtrx_lst = np.array([h1,h2])\n",
    "\n",
    "    results = []\n",
    "\n",
    "    for _ in range(n_networks): \n",
    "        g = homomul.am_v2(\n",
    "                    h_mtrx_lst,\n",
    "                    comp_pop_frac_tnsr,\n",
    "                    homophily_kind='all',\n",
    "                    directed=False,\n",
    "                    pop_fracs_lst = marginal_distribution,\n",
    "                    N=N,\n",
    "                    m=m\n",
    "                    )\n",
    "        \n",
    "        initial_seeds = np.random.choice(g.nodes, n_initial_seeds, replace=False)\n",
    "        for initial in initial_seeds: \n",
    "        \n",
    "            initial = [initial] + [x for x in g.neighbors(initial)]\n",
    "            g = spread_simulation.complex_spread(g, initial, 0.16)\n",
    "            results.append(spread_simulation.fraction_infected(g))\n",
    "\n",
    "    return np.average(results)\n",
    "\n",
    "perform_experiment(**model_settings, **experiment_settings)"
   ]
  },
  {
   "cell_type": "code",
   "execution_count": null,
   "metadata": {},
   "outputs": [],
   "source": [
    "homophily_settings = np.linspace(0,1,11)\n",
    "consolidation_settings = np.linspace(0,0.5, 6)\n",
    "\n",
    "results = np.zeros((homophily_settings.size(), consolidation_settings.size()))\n",
    "for i, homophily in enumerate(homophily_settings): \n",
    "    for j, consolidation_param in enumerate(consolidation_settings):\n",
    "\n",
    "        print(f'homophily: {homophily} / consolidation: {consolidation_param}')\n",
    "        model_settings['homophily'] = homophily\n",
    "        model_settings['consolidation_param'] = consolidation_param\n",
    "\n",
    "        r = perform_experiment(**model_settings, **experiment_settings)\n",
    "        results[i, j] = r\n"
   ]
  }
 ],
 "metadata": {
  "kernelspec": {
   "display_name": ".venv",
   "language": "python",
   "name": "python3"
  },
  "language_info": {
   "codemirror_mode": {
    "name": "ipython",
    "version": 3
   },
   "file_extension": ".py",
   "mimetype": "text/x-python",
   "name": "python",
   "nbconvert_exporter": "python",
   "pygments_lexer": "ipython3",
   "version": "3.10.6"
  },
  "orig_nbformat": 4
 },
 "nbformat": 4,
 "nbformat_minor": 2
}
