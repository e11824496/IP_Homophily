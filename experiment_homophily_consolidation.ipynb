{
 "cells": [
  {
   "cell_type": "code",
   "execution_count": 19,
   "metadata": {},
   "outputs": [
    {
     "name": "stdout",
     "output_type": "stream",
     "text": [
      "The autoreload extension is already loaded. To reload it, use:\n",
      "  %reload_ext autoreload\n"
     ]
    }
   ],
   "source": [
    "%load_ext autoreload\n",
    "%autoreload 2"
   ]
  },
  {
   "cell_type": "code",
   "execution_count": 20,
   "metadata": {},
   "outputs": [],
   "source": [
    "import networkx as nx\n",
    "import numpy as np\n",
    "import matplotlib.pyplot as plt\n",
    "from pprint import pprint\n",
    "import network_generation as homomul\n",
    "import spread_simulation\n",
    "import homophily_multi_attr_viz as homomul_viz"
   ]
  },
  {
   "cell_type": "code",
   "execution_count": 21,
   "metadata": {},
   "outputs": [
    {
     "data": {
      "text/plain": [
       "(0.20678125, 0.2)"
      ]
     },
     "execution_count": 21,
     "metadata": {},
     "output_type": "execute_result"
    }
   ],
   "source": [
    "model_settings = {\n",
    "    'N': 3200, \n",
    "    'm': 5, \n",
    "    'consolidation_param': 0.1,\n",
    "    'marginal_distribution': [[0.5,0.5],[0.5,0.5]], \n",
    "    'homophily': 0.8, \n",
    "    'complex_threshold': 0.16\n",
    "}\n",
    "\n",
    "experiment_settings = {\n",
    "    'n_networks': 2,\n",
    "    'n_initial_seeds': 5\n",
    "}\n",
    "\n",
    "def perform_experiment(N: int, m: int, consolidation_param: float, homophily: float,\n",
    "                       marginal_distribution: list = [[0.5,0.5],[0.5,0.5]], complex_threshold: float = 0.16,\n",
    "                       n_networks: int = 3, n_initial_seeds: int = 10) -> list[float]: \n",
    "    \n",
    "    comp_pop_frac_tnsr = homomul.consol_comp_pop_frac_tnsr(marginal_distribution, consolidation_param)\n",
    "\n",
    "    h1 = np.array([[homophily, 1-homophily], [1-homophily, homophily]])\n",
    "    h2 = h1.copy()\n",
    "    h_mtrx_lst = np.array([h1,h2])\n",
    "\n",
    "    results = []\n",
    "\n",
    "    for _ in range(n_networks): \n",
    "        g = homomul.am_v2(\n",
    "                    h_mtrx_lst,\n",
    "                    comp_pop_frac_tnsr,\n",
    "                    homophily_kind='all',\n",
    "                    directed=False,\n",
    "                    pop_fracs_lst = marginal_distribution,\n",
    "                    N=N,\n",
    "                    m=m\n",
    "                    )\n",
    "        \n",
    "        initial_seeds = np.random.choice(g.nodes, n_initial_seeds, replace=False)\n",
    "        for initial in initial_seeds: \n",
    "        \n",
    "            initial = [initial] + [x for x in g.neighbors(initial)]\n",
    "            g = spread_simulation.complex_spread(g, initial, complex_threshold)\n",
    "            results.append(spread_simulation.fraction_infected(g))\n",
    "\n",
    "    return np.average(results), np.average([x > 0.9 for x in results])\n",
    "\n",
    "perform_experiment(**model_settings, **experiment_settings)"
   ]
  },
  {
   "cell_type": "code",
   "execution_count": 22,
   "metadata": {},
   "outputs": [
    {
     "name": "stdout",
     "output_type": "stream",
     "text": [
      "homophily: 0.0 / consolidation: 0.00 => average = 0.01; global = 0.00\n",
      "homophily: 0.0 / consolidation: 0.10 => average = 0.01; global = 0.00\n",
      "homophily: 0.0 / consolidation: 0.20 => average = 0.04; global = 0.00\n",
      "homophily: 0.0 / consolidation: 0.30 => average = 0.12; global = 0.00\n",
      "homophily: 0.0 / consolidation: 0.40 => average = 0.20; global = 0.00\n",
      "homophily: 0.0 / consolidation: 0.50 => average = 0.16; global = 0.00\n",
      "homophily: 0.1 / consolidation: 0.00 => average = 0.01; global = 0.00\n",
      "homophily: 0.1 / consolidation: 0.10 => average = 0.31; global = 0.30\n",
      "homophily: 0.1 / consolidation: 0.20 => average = 0.90; global = 0.90\n",
      "homophily: 0.1 / consolidation: 0.30 => average = 0.50; global = 0.50\n",
      "homophily: 0.1 / consolidation: 0.40 => average = 0.01; global = 0.00\n",
      "homophily: 0.1 / consolidation: 0.50 => average = 0.01; global = 0.00\n",
      "homophily: 0.2 / consolidation: 0.00 => average = 0.01; global = 0.00\n",
      "homophily: 0.2 / consolidation: 0.10 => average = 0.01; global = 0.00\n",
      "homophily: 0.2 / consolidation: 0.20 => average = 0.01; global = 0.00\n",
      "homophily: 0.2 / consolidation: 0.30 => average = 0.01; global = 0.00\n",
      "homophily: 0.2 / consolidation: 0.40 => average = 0.01; global = 0.00\n",
      "homophily: 0.2 / consolidation: 0.50 => average = 0.01; global = 0.00\n",
      "homophily: 0.30000000000000004 / consolidation: 0.00 => average = 0.01; global = 0.00\n",
      "homophily: 0.30000000000000004 / consolidation: 0.10 => average = 0.01; global = 0.00\n",
      "homophily: 0.30000000000000004 / consolidation: 0.20 => average = 0.11; global = 0.10\n",
      "homophily: 0.30000000000000004 / consolidation: 0.30 => average = 0.01; global = 0.00\n",
      "homophily: 0.30000000000000004 / consolidation: 0.40 => average = 0.01; global = 0.00\n",
      "homophily: 0.30000000000000004 / consolidation: 0.50 => average = 0.01; global = 0.00\n",
      "homophily: 0.4 / consolidation: 0.00 => average = 0.01; global = 0.00\n",
      "homophily: 0.4 / consolidation: 0.10 => average = 0.11; global = 0.10\n",
      "homophily: 0.4 / consolidation: 0.20 => average = 0.01; global = 0.00\n",
      "homophily: 0.4 / consolidation: 0.30 => average = 0.01; global = 0.00\n",
      "homophily: 0.4 / consolidation: 0.40 => average = 0.01; global = 0.00\n",
      "homophily: 0.4 / consolidation: 0.50 => average = 0.01; global = 0.00\n",
      "homophily: 0.5 / consolidation: 0.00 => average = 0.01; global = 0.00\n",
      "homophily: 0.5 / consolidation: 0.10 => average = 0.01; global = 0.00\n",
      "homophily: 0.5 / consolidation: 0.20 => average = 0.01; global = 0.00\n",
      "homophily: 0.5 / consolidation: 0.30 => average = 0.01; global = 0.00\n",
      "homophily: 0.5 / consolidation: 0.40 => average = 0.01; global = 0.00\n",
      "homophily: 0.5 / consolidation: 0.50 => average = 0.01; global = 0.00\n",
      "homophily: 0.6000000000000001 / consolidation: 0.00 => average = 0.01; global = 0.00\n",
      "homophily: 0.6000000000000001 / consolidation: 0.10 => average = 0.01; global = 0.00\n",
      "homophily: 0.6000000000000001 / consolidation: 0.20 => average = 0.01; global = 0.00\n",
      "homophily: 0.6000000000000001 / consolidation: 0.30 => average = 0.01; global = 0.00\n",
      "homophily: 0.6000000000000001 / consolidation: 0.40 => average = 0.01; global = 0.00\n",
      "homophily: 0.6000000000000001 / consolidation: 0.50 => average = 0.01; global = 0.00\n",
      "homophily: 0.7000000000000001 / consolidation: 0.00 => average = 0.11; global = 0.10\n",
      "homophily: 0.7000000000000001 / consolidation: 0.10 => average = 0.01; global = 0.00\n",
      "homophily: 0.7000000000000001 / consolidation: 0.20 => average = 0.01; global = 0.00\n",
      "homophily: 0.7000000000000001 / consolidation: 0.30 => average = 0.01; global = 0.00\n",
      "homophily: 0.7000000000000001 / consolidation: 0.40 => average = 0.01; global = 0.00\n",
      "homophily: 0.7000000000000001 / consolidation: 0.50 => average = 0.01; global = 0.00\n",
      "homophily: 0.8 / consolidation: 0.00 => average = 0.21; global = 0.20\n",
      "homophily: 0.8 / consolidation: 0.10 => average = 0.11; global = 0.10\n",
      "homophily: 0.8 / consolidation: 0.20 => average = 0.31; global = 0.30\n",
      "homophily: 0.8 / consolidation: 0.30 => average = 0.01; global = 0.00\n",
      "homophily: 0.8 / consolidation: 0.40 => average = 0.11; global = 0.10\n",
      "homophily: 0.8 / consolidation: 0.50 => average = 0.01; global = 0.00\n",
      "homophily: 0.9 / consolidation: 0.00 => average = 0.31; global = 0.30\n",
      "homophily: 0.9 / consolidation: 0.10 => average = 0.31; global = 0.30\n",
      "homophily: 0.9 / consolidation: 0.20 => average = 0.80; global = 0.80\n",
      "homophily: 0.9 / consolidation: 0.30 => average = 0.80; global = 0.80\n",
      "homophily: 0.9 / consolidation: 0.40 => average = 0.21; global = 0.20\n",
      "homophily: 0.9 / consolidation: 0.50 => average = 0.21; global = 0.20\n",
      "homophily: 1.0 / consolidation: 0.00 => average = 0.20; global = 0.00\n",
      "homophily: 1.0 / consolidation: 0.10 => average = 0.10; global = 0.00\n",
      "homophily: 1.0 / consolidation: 0.20 => average = 0.08; global = 0.00\n",
      "homophily: 1.0 / consolidation: 0.30 => average = 0.10; global = 0.00\n",
      "homophily: 1.0 / consolidation: 0.40 => average = 0.14; global = 0.00\n",
      "homophily: 1.0 / consolidation: 0.50 => average = 0.20; global = 0.00\n"
     ]
    }
   ],
   "source": [
    "homophily_settings = np.linspace(0,1,11)\n",
    "consolidation_settings = np.linspace(0,0.5, 6)\n",
    "\n",
    "results_average = np.zeros((homophily_settings.size, consolidation_settings.size))\n",
    "results_global_spread = np.zeros((homophily_settings.size, consolidation_settings.size))\n",
    "\n",
    "for i, homophily in enumerate(homophily_settings): \n",
    "    for j, consolidation_param in enumerate(consolidation_settings):\n",
    "\n",
    "        model_settings['homophily'] = homophily\n",
    "        model_settings['consolidation_param'] = consolidation_param\n",
    "\n",
    "        r_average, r_global_spread = perform_experiment(**model_settings, **experiment_settings)\n",
    "        print(f'homophily: {homophily:.2f} / consolidation: {consolidation_param:0.2f} => average = {r_average:0.2f}; global = {r_global_spread:0.2f}')\n",
    "\n",
    "        results_average[i, j] = r_average\n",
    "        results_global_spread[i, j] = r_global_spread\n"
   ]
  },
  {
   "cell_type": "code",
   "execution_count": 25,
   "metadata": {},
   "outputs": [
    {
     "data": {
      "image/png": "[encoded data removed]",
      "text/plain": [
       "<Figure size 640x480 with 2 Axes>"
      ]
     },
     "metadata": {},
     "output_type": "display_data"
    }
   ],
   "source": [
    "plt.imshow(results_average.T, interpolation='nearest')\n",
    "plt.xticks(np.arange(homophily_settings.size), [f'{x:0.1f}' for x in homophily_settings])\n",
    "plt.yticks(np.arange(consolidation_settings.size), [f'{x:0.1f}' for x in consolidation_settings])\n",
    "plt.colorbar()\n",
    "plt.show()"
   ]
  },
  {
   "cell_type": "code",
   "execution_count": 26,
   "metadata": {},
   "outputs": [
    {
     "data": {
      "image/png": "[encoded data removed]",
      "text/plain": [
       "<Figure size 640x480 with 2 Axes>"
      ]
     },
     "metadata": {},
     "output_type": "display_data"
    }
   ],
   "source": [
    "plt.imshow(results_global_spread.T, interpolation='nearest')\n",
    "plt.xticks(np.arange(homophily_settings.size), [f'{x:0.1f}' for x in homophily_settings])\n",
    "plt.yticks(np.arange(consolidation_settings.size), [f'{x:0.1f}' for x in consolidation_settings])\n",
    "plt.colorbar()\n",
    "plt.show()"
   ]
  },
  {
   "cell_type": "code",
   "execution_count": null,
   "metadata": {},
   "outputs": [],
   "source": []
  }
 ],
 "metadata": {
  "kernelspec": {
   "display_name": ".venv",
   "language": "python",
   "name": "python3"
  },
  "language_info": {
   "codemirror_mode": {
    "name": "ipython",
    "version": 3
   },
   "file_extension": ".py",
   "mimetype": "text/x-python",
   "name": "python",
   "nbconvert_exporter": "python",
   "pygments_lexer": "ipython3",
   "version": "3.10.6"
  },
  "orig_nbformat": 4
 },
 "nbformat": 4,
 "nbformat_minor": 2
}
