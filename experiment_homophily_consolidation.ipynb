{
 "cells": [
  {
   "cell_type": "code",
   "execution_count": 1,
   "metadata": {},
   "outputs": [],
   "source": [
    "%load_ext autoreload\n",
    "%autoreload 2"
   ]
  },
  {
   "cell_type": "code",
   "execution_count": 2,
   "metadata": {},
   "outputs": [],
   "source": [
    "import networkx as nx\n",
    "import numpy as np\n",
    "import matplotlib.pyplot as plt\n",
    "from pprint import pprint\n",
    "import network_generation as homomul\n",
    "import spread_simulation\n",
    "import homophily_multi_attr_viz as homomul_viz"
   ]
  },
  {
   "cell_type": "code",
   "execution_count": 7,
   "metadata": {},
   "outputs": [
    {
     "data": {
      "text/plain": [
       "0.20815624999999996"
      ]
     },
     "execution_count": 7,
     "metadata": {},
     "output_type": "execute_result"
    }
   ],
   "source": [
    "model_settings = {\n",
    "    'N': 3200, \n",
    "    'm': 5, \n",
    "    'consolidation_param': 0.1,\n",
    "    'marginal_distribution': [[0.5,0.5],[0.5,0.5]], \n",
    "    'homophily': 0.8, \n",
    "    'complex_threshold': 0.16\n",
    "}\n",
    "\n",
    "experiment_settings = {\n",
    "    'n_networks': 2,\n",
    "    'n_initial_seeds': 5\n",
    "}\n",
    "\n",
    "def perform_experiment(N: int, m: int, consolidation_param: float, homophily: float,\n",
    "                       marginal_distribution: list = [[0.5,0.5],[0.5,0.5]], complex_threshold: float = 0.16, \n",
    "                       n_networks: int = 3, n_initial_seeds: int = 10) -> list[float]: \n",
    "    \n",
    "    comp_pop_frac_tnsr = homomul.consol_comp_pop_frac_tnsr(marginal_distribution, consolidation_param)\n",
    "\n",
    "    h1 = np.array([[homophily, 1-homophily], [1-homophily, homophily]])\n",
    "    h2 = h1.copy()\n",
    "    h_mtrx_lst = np.array([h1,h2])\n",
    "\n",
    "    results = []\n",
    "\n",
    "    for _ in range(n_networks): \n",
    "        g = homomul.am_v2(\n",
    "                    h_mtrx_lst,\n",
    "                    comp_pop_frac_tnsr,\n",
    "                    homophily_kind='all',\n",
    "                    directed=False,\n",
    "                    pop_fracs_lst = marginal_distribution,\n",
    "                    N=N,\n",
    "                    m=m\n",
    "                    )\n",
    "        \n",
    "        initial_seeds = np.random.choice(g.nodes, n_initial_seeds, replace=False)\n",
    "        for initial in initial_seeds: \n",
    "        \n",
    "            initial = [initial] + [x for x in g.neighbors(initial)]\n",
    "            g = spread_simulation.complex_spread(g, initial, 0.16)\n",
    "            results.append(spread_simulation.fraction_infected(g))\n",
    "\n",
    "    return np.average(results)\n",
    "\n",
    "perform_experiment(**model_settings, **experiment_settings)"
   ]
  },
  {
   "cell_type": "code",
   "execution_count": 8,
   "metadata": {},
   "outputs": [
    {
     "name": "stdout",
     "output_type": "stream",
     "text": [
      "homophily: 0.0 / consolidation: 0.0\n",
      "homophily: 0.0 / consolidation: 0.1\n",
      "homophily: 0.0 / consolidation: 0.2\n",
      "homophily: 0.0 / consolidation: 0.30000000000000004\n",
      "homophily: 0.0 / consolidation: 0.4\n",
      "homophily: 0.0 / consolidation: 0.5\n",
      "homophily: 0.1 / consolidation: 0.0\n",
      "homophily: 0.1 / consolidation: 0.1\n",
      "homophily: 0.1 / consolidation: 0.2\n",
      "homophily: 0.1 / consolidation: 0.30000000000000004\n",
      "homophily: 0.1 / consolidation: 0.4\n",
      "homophily: 0.1 / consolidation: 0.5\n",
      "homophily: 0.2 / consolidation: 0.0\n",
      "homophily: 0.2 / consolidation: 0.1\n",
      "homophily: 0.2 / consolidation: 0.2\n",
      "homophily: 0.2 / consolidation: 0.30000000000000004\n",
      "homophily: 0.2 / consolidation: 0.4\n",
      "homophily: 0.2 / consolidation: 0.5\n",
      "homophily: 0.30000000000000004 / consolidation: 0.0\n",
      "homophily: 0.30000000000000004 / consolidation: 0.1\n",
      "homophily: 0.30000000000000004 / consolidation: 0.2\n",
      "homophily: 0.30000000000000004 / consolidation: 0.30000000000000004\n",
      "homophily: 0.30000000000000004 / consolidation: 0.4\n",
      "homophily: 0.30000000000000004 / consolidation: 0.5\n",
      "homophily: 0.4 / consolidation: 0.0\n",
      "homophily: 0.4 / consolidation: 0.1\n",
      "homophily: 0.4 / consolidation: 0.2\n",
      "homophily: 0.4 / consolidation: 0.30000000000000004\n",
      "homophily: 0.4 / consolidation: 0.4\n",
      "homophily: 0.4 / consolidation: 0.5\n",
      "homophily: 0.5 / consolidation: 0.0\n",
      "homophily: 0.5 / consolidation: 0.1\n",
      "homophily: 0.5 / consolidation: 0.2\n",
      "homophily: 0.5 / consolidation: 0.30000000000000004\n",
      "homophily: 0.5 / consolidation: 0.4\n",
      "homophily: 0.5 / consolidation: 0.5\n",
      "homophily: 0.6000000000000001 / consolidation: 0.0\n",
      "homophily: 0.6000000000000001 / consolidation: 0.1\n",
      "homophily: 0.6000000000000001 / consolidation: 0.2\n",
      "homophily: 0.6000000000000001 / consolidation: 0.30000000000000004\n",
      "homophily: 0.6000000000000001 / consolidation: 0.4\n",
      "homophily: 0.6000000000000001 / consolidation: 0.5\n",
      "homophily: 0.7000000000000001 / consolidation: 0.0\n",
      "homophily: 0.7000000000000001 / consolidation: 0.1\n",
      "homophily: 0.7000000000000001 / consolidation: 0.2\n",
      "homophily: 0.7000000000000001 / consolidation: 0.30000000000000004\n",
      "homophily: 0.7000000000000001 / consolidation: 0.4\n",
      "homophily: 0.7000000000000001 / consolidation: 0.5\n",
      "homophily: 0.8 / consolidation: 0.0\n",
      "homophily: 0.8 / consolidation: 0.1\n",
      "homophily: 0.8 / consolidation: 0.2\n",
      "homophily: 0.8 / consolidation: 0.30000000000000004\n",
      "homophily: 0.8 / consolidation: 0.4\n",
      "homophily: 0.8 / consolidation: 0.5\n",
      "homophily: 0.9 / consolidation: 0.0\n",
      "homophily: 0.9 / consolidation: 0.1\n",
      "homophily: 0.9 / consolidation: 0.2\n",
      "homophily: 0.9 / consolidation: 0.30000000000000004\n",
      "homophily: 0.9 / consolidation: 0.4\n",
      "homophily: 0.9 / consolidation: 0.5\n",
      "homophily: 1.0 / consolidation: 0.0\n",
      "homophily: 1.0 / consolidation: 0.1\n",
      "homophily: 1.0 / consolidation: 0.2\n",
      "homophily: 1.0 / consolidation: 0.30000000000000004\n",
      "homophily: 1.0 / consolidation: 0.4\n",
      "homophily: 1.0 / consolidation: 0.5\n"
     ]
    }
   ],
   "source": [
    "homophily_settings = np.linspace(0,1,11)\n",
    "consolidation_settings = np.linspace(0,0.5, 6)\n",
    "\n",
    "results = np.zeros((homophily_settings.size, consolidation_settings.size))\n",
    "for i, homophily in enumerate(homophily_settings): \n",
    "    for j, consolidation_param in enumerate(consolidation_settings):\n",
    "\n",
    "        print(f'homophily: {homophily} / consolidation: {consolidation_param}')\n",
    "        model_settings['homophily'] = homophily\n",
    "        model_settings['consolidation_param'] = consolidation_param\n",
    "\n",
    "        r = perform_experiment(**model_settings, **experiment_settings)\n",
    "        results[i, j] = r\n"
   ]
  },
  {
   "cell_type": "code",
   "execution_count": 9,
   "metadata": {},
   "outputs": [
    {
     "data": {
      "text/plain": [
       "array([[0.00925   , 0.00690625, 0.06065625, 0.0350625 , 0.1651875 ,\n",
       "        0.10484375],\n",
       "       [0.00721875, 0.21740625, 0.8999375 , 0.30659375, 0.10771875,\n",
       "        0.008     ],\n",
       "       [0.00715625, 0.11034375, 0.01203125, 0.1109375 , 0.00625   ,\n",
       "        0.00859375],\n",
       "       [0.10771875, 0.01103125, 0.0079375 , 0.0073125 , 0.01028125,\n",
       "        0.007     ],\n",
       "       [0.011125  , 0.00690625, 0.007625  , 0.00609375, 0.00778125,\n",
       "        0.1083125 ],\n",
       "       [0.007875  , 0.00440625, 0.009     , 0.00528125, 0.007     ,\n",
       "        0.00765625],\n",
       "       [0.00678125, 0.00759375, 0.01075   , 0.0084375 , 0.00871875,\n",
       "        0.0089375 ],\n",
       "       [0.00709375, 0.0069375 , 0.00871875, 0.00703125, 0.00653125,\n",
       "        0.008     ],\n",
       "       [0.00928125, 0.20884375, 0.0109375 , 0.10721875, 0.10671875,\n",
       "        0.0083125 ],\n",
       "       [0.50240625, 0.3043125 , 0.89921875, 0.80096875, 0.40334375,\n",
       "        0.2070625 ],\n",
       "       [0.05771875, 0.0955625 , 0.13975   , 0.095875  , 0.15290625,\n",
       "        0.1984375 ]])"
      ]
     },
     "execution_count": 9,
     "metadata": {},
     "output_type": "execute_result"
    }
   ],
   "source": [
    "results"
   ]
  },
  {
   "cell_type": "code",
   "execution_count": 17,
   "metadata": {},
   "outputs": [
    {
     "data": {
      "image/png": "[encoded data removed]",
      "text/plain": [
       "<Figure size 640x480 with 2 Axes>"
      ]
     },
     "metadata": {},
     "output_type": "display_data"
    }
   ],
   "source": [
    "plt.imshow(results.T, interpolation='nearest')\n",
    "plt.xticks(np.arange(homophily_settings.size), [f'{x:0.1f}' for x in homophily_settings])\n",
    "plt.yticks(np.arange(consolidation_settings.size), [f'{x:0.1f}' for x in consolidation_settings])\n",
    "plt.colorbar()\n",
    "plt.show()"
   ]
  },
  {
   "cell_type": "code",
   "execution_count": null,
   "metadata": {},
   "outputs": [],
   "source": []
  }
 ],
 "metadata": {
  "kernelspec": {
   "display_name": ".venv",
   "language": "python",
   "name": "python3"
  },
  "language_info": {
   "codemirror_mode": {
    "name": "ipython",
    "version": 3
   },
   "file_extension": ".py",
   "mimetype": "text/x-python",
   "name": "python",
   "nbconvert_exporter": "python",
   "pygments_lexer": "ipython3",
   "version": "3.10.6"
  },
  "orig_nbformat": 4
 },
 "nbformat": 4,
 "nbformat_minor": 2
}
