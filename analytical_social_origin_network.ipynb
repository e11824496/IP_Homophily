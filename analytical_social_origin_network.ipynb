{
 "cells": [
  {
   "cell_type": "code",
   "execution_count": 1,
   "metadata": {},
   "outputs": [],
   "source": [
    "import homophily_multi_attr_viz as viz\n",
    "import numpy as np\n",
    "import matplotlib.pyplot as plt\n",
    "import itertools"
   ]
  },
  {
   "attachments": {},
   "cell_type": "markdown",
   "metadata": {},
   "source": [
    "# Analytical Approach \n",
    "\n",
    "This notebook explores the social origin networks published in he paper titled \"The Social Origins of Networks and Diffusion\" by Centola (available at https://www.jstor.org/stable/10.1086/681275). \n",
    "\n",
    "The goal is do describe this approach in a marginal matrix and multidimensional composite affinity matrix. This allows us to compare the two network-generation approaches and sheds light on how they differ. "
   ]
  },
  {
   "attachments": {},
   "cell_type": "markdown",
   "metadata": {},
   "source": [
    "## Marginal Matrix\n",
    "\n",
    "As described in the paper, each node gets randomly assigned an attribute in the first dimension. The correlation between an individual’s social positions across dimensions is modeled by assigning an individual’s social positions in $h_2 \\dots h_H$ at distance $y$ from her position in $h_1$ with the probability \n",
    "$$\n",
    "p_c(y) = ce^{-\\beta y}\n",
    "$$\n",
    "\n",
    "Where $\\beta$ is a tunable social consolidation parameter, and c is a normalizing constant.\n",
    "\n",
    "\n",
    "Because we only consider 2 dimensions with 2 attributes the probaility of getting a node with attribute 0,0 written as $p_m(0,0)$, boils down to the following: \n",
    "\n",
    "$$\n",
    "p_m(0,0) = p_m(1,1) = 0.5 c e^{-\\beta} \\\\\n",
    "p_m(0,1) = p_m(1,0) = 0.5 c e^{-2\\beta}\n",
    "$$\n",
    "\n",
    "We are only interested in the normalized version: \n",
    "\n",
    "$$\n",
    "p_m(0,0) = p_m(1,1) = \\tilde{c} \\\\\n",
    "p_m(0,1) = p_m(1,0) =  \\tilde{c} e^{-\\beta}\n",
    "$$"
   ]
  },
  {
   "cell_type": "code",
   "execution_count": 2,
   "metadata": {},
   "outputs": [
    {
     "data": {
      "image/png": "[encoded data removed]",
      "text/plain": [
       "<Figure size 200x150 with 1 Axes>"
      ]
     },
     "metadata": {},
     "output_type": "display_data"
    }
   ],
   "source": [
    "# analytical solution\n",
    "a = 1\n",
    "b = 1\n",
    "\n",
    "def marginal_matrix(a,b): \n",
    "    marginal_matrix = np.array([[1, np.exp(-b)],\n",
    "                                [np.exp(-b), 1]]).reshape(2, 2)\n",
    "    marginal_matrix = marginal_matrix / marginal_matrix.sum()\n",
    "\n",
    "    return marginal_matrix\n",
    "\n",
    "m = marginal_matrix(a,b)\n",
    "\n",
    "viz.fig_colored_matrix(\n",
    "            m,\n",
    "            xticks=range(2),\n",
    "            yticks=range(2),\n",
    "            show_colorbar=False,\n",
    "            figsize=None,\n",
    "            vmin=0)\n",
    "plt.show()"
   ]
  },
  {
   "attachments": {},
   "cell_type": "markdown",
   "metadata": {},
   "source": [
    "## Multidimensional composite affinity matrix\n",
    "\n",
    "The social origins model models homophily with the following method. \n",
    "\n",
    "The probability that a social tie will form between individuals $i$ and $j$ increases with their social proximity. This is modeled by choosing an individual $i$ at random and a distance $x$ with probability \n",
    "$$\n",
    "p_h(x) = ce^{-\\alpha x}\n",
    "$$\n",
    "Where $\\alpha$ is a tunable parameter that controls homophily, and $c$ is a normalizing constant. A node $j$ is then chosen randomly from among all nodes at distance $x$ from $i$. This process is repeated until a network is constructed. \n",
    "\n",
    "Similarly to before, we can reduce this to two dimension and attributes. \n",
    "We need to trick a bit to get it to the same form. What does this matrix actually tell us?\n",
    "If two nodes are selected by random, what is the probability that we connect them! One interesting fact on this, if we multiply the entire matrix by a constant we will get the same network (or at least with the same characteristics), as we will reject less in all cases. \n",
    "So we don't need to worry about the absolute value and only consider the relatives to each other. \n",
    "\n",
    "To get from the algorithm above, where we selcte one node and the second one based on the distance and connect those (as long as the link does not yet exist) to one where we select two nodes and connect them based on some probabilty, we will rewrite it in an alternative way. \n",
    "\n",
    "1. Randomly select Node n1\n",
    "2. Randomly select Node n2\n",
    "3. Connect them with the probability that n2 would be selected in algo 1 (probability that this distance would be selected divided by the number of nodes satisfying this distance)\n",
    "$$\n",
    "p(n1 \\leftrightarrow n2) = \\frac{p_h(x = distance(n1, n2))}{|\\{n \\in N | distance(n1,n2) = distance(n, n1)\\}|} \n",
    "$$\n",
    "\n",
    "\n",
    "The distance between two nodes is defined as the minimum distance through all dimensions. Therefore the nodes 0,0 and 0,1 have a distance of 1 whereas 0,0 and 1,1 have a distance of 2. "
   ]
  },
  {
   "attachments": {},
   "cell_type": "markdown",
   "metadata": {},
   "source": [
    "We can calculate this probability for all possible groups. We need to consider both directions, as we are working with an undirected network.\n",
    "\n",
    "$$\n",
    "\\begin{align*}\n",
    "p(0,0 \\leftrightarrow 0,0) &= p_h(1) \\cdot \\frac{1}{|N| \\cdot (p_m(0,0) + p_m(0,1) + p_m(1,0))} \\cdot 2 \\\\\n",
    "p(0,0 \\leftrightarrow 0,1) &= p_h(1) \\cdot \\frac{1}{|N| \\cdot (p_m(0,0) + p_m(0,1) + p_m(1,0))} \\\\\n",
    "&\\quad+ p_h(1) \\cdot \\frac{1}{|N| \\cdot (p_m(0,0) + p_m(0,1) + p_m(1,1))} \\\\\n",
    "p(0,0 \\leftrightarrow 1,1) &= p_h(2) \\cdot \\frac{1}{|N| \\cdot (p_m(1,1))} + p_h(2) \\cdot \\frac{1}{|N| \\cdot (p_m(0,0))} \\\\\n",
    "\\dots\n",
    "\\end{align*}\n",
    "$$"
   ]
  },
  {
   "attachments": {},
   "cell_type": "markdown",
   "metadata": {},
   "source": [
    "We can reduce this to the following: \n",
    "$$\n",
    "\\begin{align*}\n",
    "p(0,0 \\leftrightarrow 0,0) = p(1,1 \\leftrightarrow 1,1) &= \\frac{2}{1 + 2e^{-b}} \\\\\n",
    "p(0,0 \\leftrightarrow 0,1) = p(0,0 \\leftrightarrow 1,0) &= p(1, 1 \\leftrightarrow 0,1) = p(1,1 \\leftrightarrow 1,0) \\\\\n",
    "&= \\frac{1}{1+ 2e^{-b}} + \\frac{1}{2+ e^{-b}} \\\\\n",
    "p(0,0 \\leftrightarrow 1,1) &= 2 e^{-a} \\\\\n",
    "\\\\\n",
    "p(0,1 \\leftrightarrow 0,1) = p(1,0 \\leftrightarrow 1,0) &= \\frac{2}{2 + e^{-b}} \\\\\n",
    "\\\\\n",
    "p(0,1 \\leftrightarrow 1,0) &= \\frac{2 e^{-a}}{e^{-b}}\n",
    "\\end{align*}\n",
    "$$\n"
   ]
  },
  {
   "cell_type": "code",
   "execution_count": 3,
   "metadata": {},
   "outputs": [
    {
     "data": {
      "image/png": "[encoded data removed]",
      "text/plain": [
       "<Figure size 400x300 with 1 Axes>"
      ]
     },
     "metadata": {},
     "output_type": "display_data"
    }
   ],
   "source": [
    "a = 1\n",
    "b = 1\n",
    "\n",
    "h_matrix = np.zeros((4, 4))\n",
    "d1 = 1\n",
    "d2 = np.exp(-a) * d1\n",
    "\n",
    "m = marginal_matrix(a,b)\n",
    "\n",
    "h_matrix[0, 0] = d1 * 1/(m[0,0] + m[1, 0] + m[0,1]) * 2\n",
    "h_matrix[0, 1] = h_matrix[0, 2] = d1 * (1/(m[0,0] + m[1, 0] + m[0,1]) + 1/(m[1,1] + m[0,1] + m[0,0]))\n",
    "h_matrix[0, 3] = d2 / m[0,0] * 2\n",
    "\n",
    "h_matrix[1, 1] = d1 * 1/(m[0,0] + m[1, 0] + m[1,1]) * 2\n",
    "h_matrix[1, 2] = d2 / m[1,0] * 2\n",
    "h_matrix[1, 3] = h_matrix[0,1]\n",
    "\n",
    "h_matrix[2, 2] = h_matrix[1,1]\n",
    "h_matrix[2, 3] = h_matrix[0,1]\n",
    "\n",
    "h_matrix[3, 3] = h_matrix[0,0]\n",
    "\n",
    "h_matrix = h_matrix / h_matrix.max()\n",
    "\n",
    "\n",
    "viz.fig_colored_matrix(\n",
    "            h_matrix,\n",
    "            xticks=itertools.product(range(2), repeat=2),\n",
    "            yticks=itertools.product(range(2), repeat=2),\n",
    "            show_colorbar=False,\n",
    "            figsize=None,\n",
    "            vmin=0)\n",
    "plt.show()"
   ]
  },
  {
   "attachments": {},
   "cell_type": "markdown",
   "metadata": {},
   "source": [
    "## Using Max Distnace instead of Min\n",
    "\n",
    "The definition of distance between two nodes in the original paper is the minimum distance through all dimension. Because we used affinity in all dimensions in our other approach, this turns out to be really different. Therefore I looked how it would behave if we used the max distance in all dimension."
   ]
  },
  {
   "attachments": {},
   "cell_type": "markdown",
   "metadata": {},
   "source": [
    "We can reduce this to the following: \n",
    "$$\n",
    "\\begin{align*}\n",
    "p(0,0 \\leftrightarrow 0,0) = p(1,1 \\leftrightarrow 1,1) &= 1 \\\\\n",
    "p(0,0 \\leftrightarrow 0,1) = p(0,0 \\leftrightarrow 1,0) &= p(1, 1 \\leftrightarrow 0,1) = p(1,1 \\leftrightarrow 1,0) \\\\\n",
    "&= e^{-a} \\cdot (\\frac{1}{1+ 2e^{-b}} + \\frac{1}{2+ e^{-b}})\\\\\n",
    "p(0,0 \\leftrightarrow 1,1) &= \\frac{2 e^{-a}}{1 + 2e^{-b}} \\\\\n",
    "\\\\\n",
    "p(0,1 \\leftrightarrow 0,1) = p(1,0 \\leftrightarrow 1,0) &= \\frac{2}{e^{-b}} \\\\\n",
    "\\\\\n",
    "p(0,1 \\leftrightarrow 1,0) &= \\frac{2 e^{-a}}{2+e^{-b}}\n",
    "\\end{align*}\n",
    "$$\n"
   ]
  },
  {
   "cell_type": "code",
   "execution_count": 4,
   "metadata": {},
   "outputs": [
    {
     "data": {
      "image/png": "[encoded data removed]",
      "text/plain": [
       "<Figure size 400x300 with 1 Axes>"
      ]
     },
     "metadata": {},
     "output_type": "display_data"
    }
   ],
   "source": [
    "a = 1\n",
    "b = 1\n",
    "\n",
    "h_matrix = np.zeros((4, 4))\n",
    "d1 = 1\n",
    "d2 = np.exp(-a) * d1\n",
    "\n",
    "m = marginal_matrix(a,b)\n",
    "\n",
    "h_matrix[0, 0] = d1 * 2 / m[0,0]\n",
    "h_matrix[0, 1] = h_matrix[0, 2] = d2 * (1/(m[0,0] + m[1, 0] + m[0,1]) + 1/(m[1,1] + m[0,1] + m[0,0]))\n",
    "h_matrix[0, 3] = d2 * 1/(m[1, 1] + m[1, 0] + m[0, 1]) * 2\n",
    "\n",
    "h_matrix[1, 1] = d1 * 1/(m[0,1]) * 2\n",
    "h_matrix[1, 2] = d2 * 1/(m[0,1] + m[0,0] + m[1,1])* 2\n",
    "h_matrix[1, 3] = h_matrix[0,1]\n",
    "\n",
    "h_matrix[2, 2] = h_matrix[1,1]\n",
    "h_matrix[2, 3] = h_matrix[0,1]\n",
    "\n",
    "h_matrix[3, 3] = h_matrix[0,0]\n",
    "\n",
    "h_matrix = h_matrix / h_matrix.max()\n",
    "\n",
    "\n",
    "viz.fig_colored_matrix(\n",
    "            h_matrix,\n",
    "            xticks=itertools.product(range(2), repeat=2),\n",
    "            yticks=itertools.product(range(2), repeat=2),\n",
    "            show_colorbar=False,\n",
    "            figsize=None,\n",
    "            vmin=0)\n",
    "plt.show()"
   ]
  },
  {
   "cell_type": "code",
   "execution_count": null,
   "metadata": {},
   "outputs": [],
   "source": []
  }
 ],
 "metadata": {
  "kernelspec": {
   "display_name": ".venv",
   "language": "python",
   "name": "python3"
  },
  "language_info": {
   "codemirror_mode": {
    "name": "ipython",
    "version": 3
   },
   "file_extension": ".py",
   "mimetype": "text/x-python",
   "name": "python",
   "nbconvert_exporter": "python",
   "pygments_lexer": "ipython3",
   "version": "3.10.6"
  },
  "orig_nbformat": 4
 },
 "nbformat": 4,
 "nbformat_minor": 2
}
