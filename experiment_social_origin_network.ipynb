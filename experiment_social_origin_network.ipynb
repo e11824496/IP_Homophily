{
  "cells": [
    {
      "cell_type": "code",
      "execution_count": null,
      "metadata": {
        "id": "wLAAUuMwLFFh"
      },
      "outputs": [],
      "source": [
        "%load_ext autoreload\n",
        "%autoreload 2"
      ]
    },
    {
      "cell_type": "code",
      "execution_count": null,
      "metadata": {
        "id": "YlBytXwNLFFm"
      },
      "outputs": [],
      "source": [
        "import numpy as np\n",
        "import networkx as nx\n",
        "import matplotlib.pyplot as plt\n",
        "import network_generation as homomul\n",
        "import spread_simulation\n",
        "import homophily_multi_attr_viz as viz\n",
        "from tqdm.notebook import tqdm"
      ]
    },
    {
      "cell_type": "markdown",
      "metadata": {
        "id": "RaXmQpH0q87y"
      },
      "source": [
        "# Reproduction: Social Origins of Networks and Diffusion\n",
        "\n",
        "The paper titled \"The Social Origins of Networks and Diffusion\" by Centola (available at https://www.jstor.org/stable/10.1086/681275) delves into the relationship between consolidation and homophily. It argues that a certain level of homophily and consolidation is necessary to facilitate global cascades in social networks.\n",
        "\n",
        "## Reproduction Model\n",
        "\n",
        "The Idea is to see how the model proposed by Centola behaves with only two dimensions and attributes per dimension. To verify the implementation, the first experiment approximately reproduces the results found in figure 4. They explore the amount of consolidation and homophily necessary to result in a global cascade.\n",
        "\n",
        "For implementation details see the paper."
      ]
    },
    {
      "cell_type": "code",
      "execution_count": null,
      "metadata": {
        "id": "0IVAYLTeLFFn"
      },
      "outputs": [],
      "source": [
        "model_settings = {\n",
        "    'N': 1600,\n",
        "    'm': 5,\n",
        "    'alpha': 1,\n",
        "    'beta': 1,\n",
        "    'complex_threshold': 0.18,\n",
        "    'initial_seed_filter': lambda x: x.nodes,\n",
        "    'model_type': 'social_origins_network'\n",
        "}\n",
        "\n",
        "experiment_settings = {\n",
        "    'n_networks': 2,\n",
        "    'n_initial_seeds': 5\n",
        "    }\n",
        "\n",
        "\n",
        "spread_simulation.batch_simulate(model_settings, experiment_settings)"
      ]
    },
    {
      "cell_type": "markdown",
      "metadata": {
        "id": "43NP2Y0R05wE"
      },
      "source": [
        "## Affect on Social Diffiusion\n",
        "\n",
        "Here we basically reproduce the plot in figure 4 in the paper. It is only half the nodes (to spead up the process) but as Zhao and Garip pointed out in their paper 'Network Diffusion Under Homophily and Consolidation as a Mechanism for Social Inequality', this is enough to reproduce the results. Furhtermore the original paper performed a complex spread where the absolut number of infected neighbouring nodes is used as a threshold rather than a relative number. Meaning that regardless of how many neighbours a node has, if two of its neighbours are infected, it gets infected.\n",
        "\n",
        "We can basically see the same plot as both previously mentioned papers.\n",
        "\n"
      ]
    },
    {
      "cell_type": "code",
      "execution_count": null,
      "metadata": {
        "colab": {
          "base_uri": "https://localhost:8080/",
          "height": 1000,
          "referenced_widgets": [
            "7930c1332dbd406ab6426b2cc32b09b3",
            "11d82d2036a34c51a143283e71d25ae4",
            "26aed773f6d5430f9e272743f387a295",
            "21bdd0cc36464ecbb06c772d875662cb",
            "88e38ed3b29343b9985e72dd4cfccdf2",
            "7897cfc30e9a41109295388059452429",
            "53838cb029f347c78544c324101cafc6",
            "5d2acda0dbe940a3b96c087988a4feb1",
            "5f9c0210925b433ca2b9a82d87509516",
            "96c9379790d44417b01a9d6ce15d518e",
            "12558be3fcf34040829152aa26d3c132"
          ]
        },
        "id": "G0iQkeICLFFo",
        "outputId": "511b2cc8-5472-48ab-c6f9-a1db2f8d9a17"
      },
      "outputs": [
        {
          "data": {
            "application/vnd.jupyter.widget-view+json": {
              "model_id": "7930c1332dbd406ab6426b2cc32b09b3",
              "version_major": 2,
              "version_minor": 0
            },
            "text/plain": [
              "  0%|          | 0/100 [00:00<?, ?it/s]"
            ]
          },
          "metadata": {},
          "output_type": "display_data"
        },
        {
          "name": "stdout",
          "output_type": "stream",
          "text": [
            "alpha: -1.00 / beta: -1.00 => avg = 0.11; global = 0.10\n",
            "alpha: -1.00 / beta: -0.56 => avg = 0.01; global = 0.00\n",
            "alpha: -1.00 / beta: -0.11 => avg = 0.60; global = 0.60\n",
            "alpha: -1.00 / beta: 0.33 => avg = 0.31; global = 0.30\n",
            "alpha: -1.00 / beta: 0.78 => avg = 0.01; global = 0.00\n",
            "alpha: -1.00 / beta: 1.22 => avg = 0.11; global = 0.10\n",
            "alpha: -1.00 / beta: 1.67 => avg = 0.01; global = 0.00\n",
            "alpha: -1.00 / beta: 2.11 => avg = 0.01; global = 0.00\n",
            "alpha: -1.00 / beta: 2.56 => avg = 0.01; global = 0.00\n",
            "alpha: -1.00 / beta: 3.00 => avg = 0.01; global = 0.00\n",
            "alpha: -0.56 / beta: -1.00 => avg = 0.11; global = 0.10\n",
            "alpha: -0.56 / beta: -0.56 => avg = 0.01; global = 0.00\n",
            "alpha: -0.56 / beta: -0.11 => avg = 0.31; global = 0.30\n",
            "alpha: -0.56 / beta: 0.33 => avg = 0.01; global = 0.00\n",
            "alpha: -0.56 / beta: 0.78 => avg = 0.01; global = 0.00\n",
            "alpha: -0.56 / beta: 1.22 => avg = 0.11; global = 0.10\n",
            "alpha: -0.56 / beta: 1.67 => avg = 0.01; global = 0.00\n",
            "alpha: -0.56 / beta: 2.11 => avg = 0.01; global = 0.00\n",
            "alpha: -0.56 / beta: 2.56 => avg = 0.01; global = 0.00\n",
            "alpha: -0.56 / beta: 3.00 => avg = 0.01; global = 0.00\n",
            "alpha: -0.11 / beta: -1.00 => avg = 0.01; global = 0.00\n",
            "alpha: -0.11 / beta: -0.56 => avg = 0.01; global = 0.00\n",
            "alpha: -0.11 / beta: -0.11 => avg = 0.01; global = 0.00\n",
            "alpha: -0.11 / beta: 0.33 => avg = 0.01; global = 0.00\n",
            "alpha: -0.11 / beta: 0.78 => avg = 0.01; global = 0.00\n",
            "alpha: -0.11 / beta: 1.22 => avg = 0.01; global = 0.00\n",
            "alpha: -0.11 / beta: 1.67 => avg = 0.01; global = 0.00\n",
            "alpha: -0.11 / beta: 2.11 => avg = 0.01; global = 0.00\n",
            "alpha: -0.11 / beta: 2.56 => avg = 0.01; global = 0.00\n",
            "alpha: -0.11 / beta: 3.00 => avg = 0.11; global = 0.10\n",
            "alpha: 0.33 / beta: -1.00 => avg = 0.01; global = 0.00\n",
            "alpha: 0.33 / beta: -0.56 => avg = 0.01; global = 0.00\n",
            "alpha: 0.33 / beta: -0.11 => avg = 0.01; global = 0.00\n",
            "alpha: 0.33 / beta: 0.33 => avg = 0.01; global = 0.00\n",
            "alpha: 0.33 / beta: 0.78 => avg = 0.11; global = 0.10\n",
            "alpha: 0.33 / beta: 1.22 => avg = 0.51; global = 0.50\n",
            "alpha: 0.33 / beta: 1.67 => avg = 0.60; global = 0.60\n",
            "alpha: 0.33 / beta: 2.11 => avg = 0.80; global = 0.80\n",
            "alpha: 0.33 / beta: 2.56 => avg = 0.70; global = 0.70\n",
            "alpha: 0.33 / beta: 3.00 => avg = 0.70; global = 0.70\n",
            "alpha: 0.78 / beta: -1.00 => avg = 0.01; global = 0.00\n",
            "alpha: 0.78 / beta: -0.56 => avg = 0.01; global = 0.00\n",
            "alpha: 0.78 / beta: -0.11 => avg = 0.01; global = 0.00\n",
            "alpha: 0.78 / beta: 0.33 => avg = 0.01; global = 0.00\n",
            "alpha: 0.78 / beta: 0.78 => avg = 0.31; global = 0.30\n",
            "alpha: 0.78 / beta: 1.22 => avg = 0.80; global = 0.80\n",
            "alpha: 0.78 / beta: 1.67 => avg = 0.75; global = 0.60\n",
            "alpha: 0.78 / beta: 2.11 => avg = 0.80; global = 0.60\n",
            "alpha: 0.78 / beta: 2.56 => avg = 0.41; global = 0.00\n",
            "alpha: 0.78 / beta: 3.00 => avg = 0.90; global = 0.80\n",
            "alpha: 1.22 / beta: -1.00 => avg = 0.01; global = 0.00\n",
            "alpha: 1.22 / beta: -0.56 => avg = 0.01; global = 0.00\n",
            "alpha: 1.22 / beta: -0.11 => avg = 0.01; global = 0.00\n",
            "alpha: 1.22 / beta: 0.33 => avg = 0.11; global = 0.10\n",
            "alpha: 1.22 / beta: 0.78 => avg = 0.31; global = 0.30\n",
            "alpha: 1.22 / beta: 1.22 => avg = 1.00; global = 1.00\n",
            "alpha: 1.22 / beta: 1.67 => avg = 0.59; global = 0.50\n",
            "alpha: 1.22 / beta: 2.11 => avg = 0.28; global = 0.00\n",
            "alpha: 1.22 / beta: 2.56 => avg = 0.19; global = 0.00\n",
            "alpha: 1.22 / beta: 3.00 => avg = 0.23; global = 0.00\n",
            "alpha: 1.67 / beta: -1.00 => avg = 0.01; global = 0.00\n",
            "alpha: 1.67 / beta: -0.56 => avg = 0.01; global = 0.00\n",
            "alpha: 1.67 / beta: -0.11 => avg = 0.01; global = 0.00\n",
            "alpha: 1.67 / beta: 0.33 => avg = 0.01; global = 0.00\n",
            "alpha: 1.67 / beta: 0.78 => avg = 0.70; global = 0.70\n",
            "alpha: 1.67 / beta: 1.22 => avg = 0.90; global = 0.90\n",
            "alpha: 1.67 / beta: 1.67 => avg = 0.43; global = 0.10\n",
            "alpha: 1.67 / beta: 2.11 => avg = 0.26; global = 0.00\n",
            "alpha: 1.67 / beta: 2.56 => avg = 0.14; global = 0.00\n",
            "alpha: 1.67 / beta: 3.00 => avg = 0.14; global = 0.00\n",
            "alpha: 2.11 / beta: -1.00 => avg = 0.01; global = 0.00\n",
            "alpha: 2.11 / beta: -0.56 => avg = 0.01; global = 0.00\n",
            "alpha: 2.11 / beta: -0.11 => avg = 0.01; global = 0.00\n",
            "alpha: 2.11 / beta: 0.33 => avg = 0.11; global = 0.10\n",
            "alpha: 2.11 / beta: 0.78 => avg = 0.70; global = 0.70\n",
            "alpha: 2.11 / beta: 1.22 => avg = 0.70; global = 0.40\n",
            "alpha: 2.11 / beta: 1.67 => avg = 0.22; global = 0.00\n",
            "alpha: 2.11 / beta: 2.11 => avg = 0.22; global = 0.00\n",
            "alpha: 2.11 / beta: 2.56 => avg = 0.18; global = 0.00\n",
            "alpha: 2.11 / beta: 3.00 => avg = 0.14; global = 0.00\n",
            "alpha: 2.56 / beta: -1.00 => avg = 0.01; global = 0.00\n",
            "alpha: 2.56 / beta: -0.56 => avg = 0.01; global = 0.00\n",
            "alpha: 2.56 / beta: -0.11 => avg = 0.01; global = 0.00\n",
            "alpha: 2.56 / beta: 0.33 => avg = 0.11; global = 0.10\n",
            "alpha: 2.56 / beta: 0.78 => avg = 0.60; global = 0.60\n",
            "alpha: 2.56 / beta: 1.22 => avg = 0.51; global = 0.20\n",
            "alpha: 2.56 / beta: 1.67 => avg = 0.26; global = 0.00\n",
            "alpha: 2.56 / beta: 2.11 => avg = 0.18; global = 0.00\n",
            "alpha: 2.56 / beta: 2.56 => avg = 0.16; global = 0.00\n",
            "alpha: 2.56 / beta: 3.00 => avg = 0.12; global = 0.00\n",
            "alpha: 3.00 / beta: -1.00 => avg = 0.01; global = 0.00\n",
            "alpha: 3.00 / beta: -0.56 => avg = 0.01; global = 0.00\n",
            "alpha: 3.00 / beta: -0.11 => avg = 0.01; global = 0.00\n",
            "alpha: 3.00 / beta: 0.33 => avg = 0.01; global = 0.00\n",
            "alpha: 3.00 / beta: 0.78 => avg = 0.60; global = 0.60\n",
            "alpha: 3.00 / beta: 1.22 => avg = 0.75; global = 0.60\n",
            "alpha: 3.00 / beta: 1.67 => avg = 0.35; global = 0.00\n",
            "alpha: 3.00 / beta: 2.11 => avg = 0.24; global = 0.00\n",
            "alpha: 3.00 / beta: 2.56 => avg = 0.12; global = 0.00\n",
            "alpha: 3.00 / beta: 3.00 => avg = 0.11; global = 0.00\n"
          ]
        },
        {
          "data": {
            "image/png": "[encoded data removed]",
            "text/plain": [
              "<Figure size 640x480 with 2 Axes>"
            ]
          },
          "metadata": {},
          "output_type": "display_data"
        },
        {
          "data": {
            "image/png": "[encoded data removed]",
            "text/plain": [
              "<Figure size 640x480 with 2 Axes>"
            ]
          },
          "metadata": {},
          "output_type": "display_data"
        }
      ],
      "source": [
        "alpha_settings = np.linspace(-1,3,10)\n",
        "beta_settings = np.linspace(-1,3,10)\n",
        "\n",
        "results_average, results_global_spread = spread_simulation.setting_simulate('alpha', alpha_settings,\n",
        "                                                          'beta', beta_settings,\n",
        "                                                          model_settings, experiment_settings)\n"
      ]
    },
    {
      "cell_type": "markdown",
      "metadata": {
        "id": "1DGSXJVk1RhL"
      },
      "source": [
        "## Reducing\n",
        "What happens if we reduce it two two dimension with two attributes?"
      ]
    },
    {
      "cell_type": "code",
      "execution_count": null,
      "metadata": {
        "colab": {
          "base_uri": "https://localhost:8080/"
        },
        "id": "srwXkbNN1OwR",
        "outputId": "6c0eb7e6-c68d-47ca-ff94-9253671fc854"
      },
      "outputs": [
        {
          "data": {
            "text/plain": [
              "(0.31012500000000004, 0.3)"
            ]
          },
          "execution_count": 12,
          "metadata": {},
          "output_type": "execute_result"
        }
      ],
      "source": [
        "model_settings = {\n",
        "    'N': 1600,\n",
        "    'm': 5,\n",
        "    'H': 2,\n",
        "    'D': 2,\n",
        "    'alpha': 1,\n",
        "    'beta': 1,\n",
        "    'complex_threshold': 0.16,\n",
        "    'initial_seed_filter': lambda x: x.nodes,\n",
        "    'model_type': 'social_origins_network'\n",
        "}\n",
        "\n",
        "spread_simulation.batch_simulate(model_settings, experiment_settings)"
      ]
    },
    {
      "cell_type": "code",
      "execution_count": null,
      "metadata": {
        "colab": {
          "base_uri": "https://localhost:8080/",
          "height": 1000,
          "referenced_widgets": [
            "9811f37de3df4923a5d84839dcda068d",
            "1e246cb685f94ead82753272241b4109",
            "fce8fb7c42964706bd412f8c684cdefe",
            "448e7cf364e74a8495320dc762efa360",
            "93ae4d71dc3c432ea49c72a1756c63df",
            "c953e7a7353540858db88c539cfba169",
            "a6d7e9d35bdb458099fd754d9298bf2a",
            "53ba2defb366411daa13237a0f6477f7",
            "9e0374536ed74a34bb1ca868efb5f5c3",
            "096cb8056ee146f599f0f170c4d73ee6",
            "e1fdbb14f402472d9cc45d8dcdf763cf"
          ]
        },
        "id": "YPf1AYZf1x8R",
        "outputId": "cac664f9-5822-4dd7-8441-faad89f0c2e9"
      },
      "outputs": [
        {
          "data": {
            "application/vnd.jupyter.widget-view+json": {
              "model_id": "9811f37de3df4923a5d84839dcda068d",
              "version_major": 2,
              "version_minor": 0
            },
            "text/plain": [
              "  0%|          | 0/100 [00:00<?, ?it/s]"
            ]
          },
          "metadata": {},
          "output_type": "display_data"
        },
        {
          "name": "stdout",
          "output_type": "stream",
          "text": [
            "alpha: -1.00 / beta: -1.00 => avg = 0.51; global = 0.50\n",
            "alpha: -1.00 / beta: -0.56 => avg = 0.41; global = 0.40\n",
            "alpha: -1.00 / beta: -0.11 => avg = 0.21; global = 0.20\n",
            "alpha: -1.00 / beta: 0.33 => avg = 0.51; global = 0.50\n",
            "alpha: -1.00 / beta: 0.78 => avg = 0.41; global = 0.40\n",
            "alpha: -1.00 / beta: 1.22 => avg = 0.41; global = 0.40\n",
            "alpha: -1.00 / beta: 1.67 => avg = 0.61; global = 0.60\n",
            "alpha: -1.00 / beta: 2.11 => avg = 0.11; global = 0.10\n",
            "alpha: -1.00 / beta: 2.56 => avg = 0.31; global = 0.30\n",
            "alpha: -1.00 / beta: 3.00 => avg = 0.21; global = 0.20\n",
            "alpha: -0.56 / beta: -1.00 => avg = 0.51; global = 0.50\n",
            "alpha: -0.56 / beta: -0.56 => avg = 0.70; global = 0.70\n",
            "alpha: -0.56 / beta: -0.11 => avg = 0.51; global = 0.50\n",
            "alpha: -0.56 / beta: 0.33 => avg = 0.21; global = 0.20\n",
            "alpha: -0.56 / beta: 0.78 => avg = 0.31; global = 0.30\n",
            "alpha: -0.56 / beta: 1.22 => avg = 0.41; global = 0.40\n",
            "alpha: -0.56 / beta: 1.67 => avg = 0.11; global = 0.10\n",
            "alpha: -0.56 / beta: 2.11 => avg = 0.41; global = 0.40\n",
            "alpha: -0.56 / beta: 2.56 => avg = 0.31; global = 0.30\n",
            "alpha: -0.56 / beta: 3.00 => avg = 0.11; global = 0.10\n",
            "alpha: -0.11 / beta: -1.00 => avg = 0.41; global = 0.40\n",
            "alpha: -0.11 / beta: -0.56 => avg = 0.21; global = 0.20\n",
            "alpha: -0.11 / beta: -0.11 => avg = 0.21; global = 0.20\n",
            "alpha: -0.11 / beta: 0.33 => avg = 0.51; global = 0.50\n",
            "alpha: -0.11 / beta: 0.78 => avg = 0.21; global = 0.20\n",
            "alpha: -0.11 / beta: 1.22 => avg = 0.41; global = 0.40\n",
            "alpha: -0.11 / beta: 1.67 => avg = 0.51; global = 0.50\n",
            "alpha: -0.11 / beta: 2.11 => avg = 0.31; global = 0.30\n",
            "alpha: -0.11 / beta: 2.56 => avg = 0.12; global = 0.10\n",
            "alpha: -0.11 / beta: 3.00 => avg = 0.31; global = 0.30\n",
            "alpha: 0.33 / beta: -1.00 => avg = 0.61; global = 0.60\n",
            "alpha: 0.33 / beta: -0.56 => avg = 0.31; global = 0.30\n",
            "alpha: 0.33 / beta: -0.11 => avg = 0.21; global = 0.20\n",
            "alpha: 0.33 / beta: 0.33 => avg = 0.31; global = 0.30\n",
            "alpha: 0.33 / beta: 0.78 => avg = 0.31; global = 0.30\n",
            "alpha: 0.33 / beta: 1.22 => avg = 0.31; global = 0.30\n",
            "alpha: 0.33 / beta: 1.67 => avg = 0.61; global = 0.60\n",
            "alpha: 0.33 / beta: 2.11 => avg = 0.21; global = 0.20\n",
            "alpha: 0.33 / beta: 2.56 => avg = 0.31; global = 0.30\n",
            "alpha: 0.33 / beta: 3.00 => avg = 0.70; global = 0.70\n",
            "alpha: 0.78 / beta: -1.00 => avg = 0.11; global = 0.10\n",
            "alpha: 0.78 / beta: -0.56 => avg = 0.31; global = 0.30\n",
            "alpha: 0.78 / beta: -0.11 => avg = 0.41; global = 0.40\n",
            "alpha: 0.78 / beta: 0.33 => avg = 0.51; global = 0.50\n",
            "alpha: 0.78 / beta: 0.78 => avg = 0.31; global = 0.30\n",
            "alpha: 0.78 / beta: 1.22 => avg = 0.51; global = 0.50\n",
            "alpha: 0.78 / beta: 1.67 => avg = 0.31; global = 0.30\n",
            "alpha: 0.78 / beta: 2.11 => avg = 0.21; global = 0.20\n",
            "alpha: 0.78 / beta: 2.56 => avg = 0.11; global = 0.10\n",
            "alpha: 0.78 / beta: 3.00 => avg = 0.21; global = 0.20\n",
            "alpha: 1.22 / beta: -1.00 => avg = 0.31; global = 0.30\n",
            "alpha: 1.22 / beta: -0.56 => avg = 0.21; global = 0.20\n",
            "alpha: 1.22 / beta: -0.11 => avg = 0.41; global = 0.40\n",
            "alpha: 1.22 / beta: 0.33 => avg = 0.41; global = 0.40\n",
            "alpha: 1.22 / beta: 0.78 => avg = 0.51; global = 0.50\n",
            "alpha: 1.22 / beta: 1.22 => avg = 0.51; global = 0.50\n",
            "alpha: 1.22 / beta: 1.67 => avg = 0.31; global = 0.30\n",
            "alpha: 1.22 / beta: 2.11 => avg = 0.41; global = 0.40\n",
            "alpha: 1.22 / beta: 2.56 => avg = 0.41; global = 0.40\n",
            "alpha: 1.22 / beta: 3.00 => avg = 0.21; global = 0.20\n",
            "alpha: 1.67 / beta: -1.00 => avg = 0.41; global = 0.40\n",
            "alpha: 1.67 / beta: -0.56 => avg = 0.41; global = 0.40\n",
            "alpha: 1.67 / beta: -0.11 => avg = 0.11; global = 0.10\n",
            "alpha: 1.67 / beta: 0.33 => avg = 0.41; global = 0.40\n",
            "alpha: 1.67 / beta: 0.78 => avg = 0.51; global = 0.50\n",
            "alpha: 1.67 / beta: 1.22 => avg = 0.41; global = 0.40\n",
            "alpha: 1.67 / beta: 1.67 => avg = 0.61; global = 0.60\n",
            "alpha: 1.67 / beta: 2.11 => avg = 0.51; global = 0.50\n",
            "alpha: 1.67 / beta: 2.56 => avg = 0.51; global = 0.50\n",
            "alpha: 1.67 / beta: 3.00 => avg = 0.31; global = 0.30\n",
            "alpha: 2.11 / beta: -1.00 => avg = 0.31; global = 0.30\n",
            "alpha: 2.11 / beta: -0.56 => avg = 0.31; global = 0.30\n",
            "alpha: 2.11 / beta: -0.11 => avg = 0.31; global = 0.30\n",
            "alpha: 2.11 / beta: 0.33 => avg = 0.21; global = 0.20\n",
            "alpha: 2.11 / beta: 0.78 => avg = 0.11; global = 0.10\n",
            "alpha: 2.11 / beta: 1.22 => avg = 0.51; global = 0.50\n",
            "alpha: 2.11 / beta: 1.67 => avg = 0.61; global = 0.60\n",
            "alpha: 2.11 / beta: 2.11 => avg = 0.31; global = 0.30\n",
            "alpha: 2.11 / beta: 2.56 => avg = 0.31; global = 0.30\n",
            "alpha: 2.11 / beta: 3.00 => avg = 0.21; global = 0.20\n",
            "alpha: 2.56 / beta: -1.00 => avg = 0.11; global = 0.10\n",
            "alpha: 2.56 / beta: -0.56 => avg = 0.11; global = 0.10\n",
            "alpha: 2.56 / beta: -0.11 => avg = 0.11; global = 0.10\n",
            "alpha: 2.56 / beta: 0.33 => avg = 0.51; global = 0.50\n",
            "alpha: 2.56 / beta: 0.78 => avg = 0.31; global = 0.30\n",
            "alpha: 2.56 / beta: 1.22 => avg = 0.21; global = 0.20\n",
            "alpha: 2.56 / beta: 1.67 => avg = 0.51; global = 0.50\n",
            "alpha: 2.56 / beta: 2.11 => avg = 0.90; global = 0.90\n",
            "alpha: 2.56 / beta: 2.56 => avg = 0.51; global = 0.50\n",
            "alpha: 2.56 / beta: 3.00 => avg = 0.70; global = 0.70\n",
            "alpha: 3.00 / beta: -1.00 => avg = 0.31; global = 0.30\n",
            "alpha: 3.00 / beta: -0.56 => avg = 0.31; global = 0.30\n",
            "alpha: 3.00 / beta: -0.11 => avg = 0.41; global = 0.40\n",
            "alpha: 3.00 / beta: 0.33 => avg = 0.60; global = 0.60\n",
            "alpha: 3.00 / beta: 0.78 => avg = 0.31; global = 0.30\n",
            "alpha: 3.00 / beta: 1.22 => avg = 0.41; global = 0.40\n",
            "alpha: 3.00 / beta: 1.67 => avg = 0.41; global = 0.40\n",
            "alpha: 3.00 / beta: 2.11 => avg = 0.61; global = 0.60\n",
            "alpha: 3.00 / beta: 2.56 => avg = 0.61; global = 0.60\n",
            "alpha: 3.00 / beta: 3.00 => avg = 0.80; global = 0.80\n"
          ]
        },
        {
          "data": {
            "image/png": "[encoded data removed]",
            "text/plain": [
              "<Figure size 640x480 with 2 Axes>"
            ]
          },
          "metadata": {},
          "output_type": "display_data"
        },
        {
          "data": {
            "image/png": "[encoded data removed]",
            "text/plain": [
              "<Figure size 640x480 with 2 Axes>"
            ]
          },
          "metadata": {},
          "output_type": "display_data"
        }
      ],
      "source": [
        "alpha_settings = np.linspace(-1,3,10)\n",
        "beta_settings = np.linspace(-1,3,10)\n",
        "\n",
        "results_average, results_global_spread = spread_simulation.setting_simulate('alpha', alpha_settings,\n",
        "                                                          'beta', beta_settings,\n",
        "                                                          model_settings, experiment_settings)"
      ]
    },
    {
      "cell_type": "code",
      "execution_count": null,
      "metadata": {
        "colab": {
          "base_uri": "https://localhost:8080/",
          "height": 34
        },
        "id": "C9c32M3ZGBaO",
        "outputId": "18eecb5a-e623-4618-9348-a6545d4d8166"
      },
      "outputs": [
        {
          "data": {
            "text/plain": [
              "(0.4065625, 0.4)"
            ]
          },
          "execution_count": 7,
          "metadata": {},
          "output_type": "execute_result"
        }
      ],
      "source": [
        "model_settings = {\n",
        "    'N': 800,\n",
        "    'm': 5,\n",
        "    'H': 2,\n",
        "    'D': 2,\n",
        "    'alpha': 1,\n",
        "    'beta': 1,\n",
        "    'complex_threshold': 0.18,\n",
        "    'initial_seed_filter': lambda x: x.nodes,\n",
        "    'model_type': 'social_origins_network'\n",
        "}\n",
        "\n",
        "spread_simulation.batch_simulate(model_settings, experiment_settings)"
      ]
    },
    {
      "cell_type": "code",
      "execution_count": null,
      "metadata": {
        "colab": {
          "base_uri": "https://localhost:8080/",
          "height": 1000,
          "referenced_widgets": [
            "d74ed90b3098482eae76fc69322058e6",
            "01a56f443a584a89aa9fa7e0b4171e61",
            "636d775e76b9492d864063d88f19df60",
            "5de82c956849432ab9da38a8a9da3803",
            "0b80f859cb1d4832afd0583c93ab97bd",
            "ba406f0c0d164e40b9118c4c95062a31",
            "87748a84d7b24343a681803ffe5a233e",
            "a7c66be85ef6425a9576e4d5d175c28f",
            "a67a8cd8346448f091b5a9564ee38099",
            "a183b545b7094c269303c315b692ea58",
            "f6e84189b3854331af7556cf5adb2dd3"
          ]
        },
        "id": "FY91I1HAGI6M",
        "outputId": "7ca14fa6-7565-414e-e137-dd1e308f5abf"
      },
      "outputs": [
        {
          "data": {
            "application/vnd.jupyter.widget-view+json": {
              "model_id": "d74ed90b3098482eae76fc69322058e6",
              "version_major": 2,
              "version_minor": 0
            },
            "text/plain": [
              "  0%|          | 0/100 [00:00<?, ?it/s]"
            ]
          },
          "metadata": {},
          "output_type": "display_data"
        },
        {
          "name": "stdout",
          "output_type": "stream",
          "text": [
            "alpha: -1.00 / beta: -1.00 => avg = 0.31; global = 0.30\n",
            "alpha: -1.00 / beta: -0.56 => avg = 0.22; global = 0.20\n",
            "alpha: -1.00 / beta: -0.11 => avg = 0.51; global = 0.50\n",
            "alpha: -1.00 / beta: 0.33 => avg = 0.71; global = 0.70\n",
            "alpha: -1.00 / beta: 0.78 => avg = 0.52; global = 0.50\n",
            "alpha: -1.00 / beta: 1.22 => avg = 0.31; global = 0.30\n",
            "alpha: -1.00 / beta: 1.67 => avg = 0.31; global = 0.30\n",
            "alpha: -1.00 / beta: 2.11 => avg = 0.32; global = 0.30\n",
            "alpha: -1.00 / beta: 2.56 => avg = 0.22; global = 0.20\n",
            "alpha: -1.00 / beta: 3.00 => avg = 0.41; global = 0.40\n",
            "alpha: -0.56 / beta: -1.00 => avg = 0.51; global = 0.50\n",
            "alpha: -0.56 / beta: -0.56 => avg = 0.31; global = 0.30\n",
            "alpha: -0.56 / beta: -0.11 => avg = 0.51; global = 0.50\n",
            "alpha: -0.56 / beta: 0.33 => avg = 0.32; global = 0.30\n",
            "alpha: -0.56 / beta: 0.78 => avg = 0.42; global = 0.40\n",
            "alpha: -0.56 / beta: 1.22 => avg = 0.22; global = 0.20\n",
            "alpha: -0.56 / beta: 1.67 => avg = 0.51; global = 0.50\n",
            "alpha: -0.56 / beta: 2.11 => avg = 0.61; global = 0.60\n",
            "alpha: -0.56 / beta: 2.56 => avg = 0.32; global = 0.30\n",
            "alpha: -0.56 / beta: 3.00 => avg = 0.41; global = 0.40\n",
            "alpha: -0.11 / beta: -1.00 => avg = 0.22; global = 0.20\n",
            "alpha: -0.11 / beta: -0.56 => avg = 0.32; global = 0.30\n",
            "alpha: -0.11 / beta: -0.11 => avg = 0.31; global = 0.30\n",
            "alpha: -0.11 / beta: 0.33 => avg = 0.51; global = 0.50\n",
            "alpha: -0.11 / beta: 0.78 => avg = 0.22; global = 0.20\n",
            "alpha: -0.11 / beta: 1.22 => avg = 0.41; global = 0.40\n",
            "alpha: -0.11 / beta: 1.67 => avg = 0.31; global = 0.30\n",
            "alpha: -0.11 / beta: 2.11 => avg = 0.41; global = 0.40\n",
            "alpha: -0.11 / beta: 2.56 => avg = 0.41; global = 0.40\n",
            "alpha: -0.11 / beta: 3.00 => avg = 0.02; global = 0.00\n",
            "alpha: 0.33 / beta: -1.00 => avg = 0.32; global = 0.30\n",
            "alpha: 0.33 / beta: -0.56 => avg = 0.22; global = 0.20\n",
            "alpha: 0.33 / beta: -0.11 => avg = 0.12; global = 0.10\n",
            "alpha: 0.33 / beta: 0.33 => avg = 0.12; global = 0.10\n",
            "alpha: 0.33 / beta: 0.78 => avg = 0.51; global = 0.50\n",
            "alpha: 0.33 / beta: 1.22 => avg = 0.32; global = 0.30\n",
            "alpha: 0.33 / beta: 1.67 => avg = 0.51; global = 0.50\n",
            "alpha: 0.33 / beta: 2.11 => avg = 0.22; global = 0.20\n",
            "alpha: 0.33 / beta: 2.56 => avg = 0.32; global = 0.30\n",
            "alpha: 0.33 / beta: 3.00 => avg = 0.51; global = 0.50\n",
            "alpha: 0.78 / beta: -1.00 => avg = 0.41; global = 0.40\n",
            "alpha: 0.78 / beta: -0.56 => avg = 0.32; global = 0.30\n",
            "alpha: 0.78 / beta: -0.11 => avg = 0.31; global = 0.30\n",
            "alpha: 0.78 / beta: 0.33 => avg = 0.02; global = 0.00\n",
            "alpha: 0.78 / beta: 0.78 => avg = 0.12; global = 0.10\n",
            "alpha: 0.78 / beta: 1.22 => avg = 0.42; global = 0.40\n",
            "alpha: 0.78 / beta: 1.67 => avg = 0.21; global = 0.20\n",
            "alpha: 0.78 / beta: 2.11 => avg = 0.32; global = 0.30\n",
            "alpha: 0.78 / beta: 2.56 => avg = 0.31; global = 0.30\n",
            "alpha: 0.78 / beta: 3.00 => avg = 0.31; global = 0.30\n",
            "alpha: 1.22 / beta: -1.00 => avg = 0.61; global = 0.60\n",
            "alpha: 1.22 / beta: -0.56 => avg = 0.22; global = 0.20\n",
            "alpha: 1.22 / beta: -0.11 => avg = 0.32; global = 0.30\n",
            "alpha: 1.22 / beta: 0.33 => avg = 0.22; global = 0.20\n",
            "alpha: 1.22 / beta: 0.78 => avg = 0.31; global = 0.30\n",
            "alpha: 1.22 / beta: 1.22 => avg = 0.22; global = 0.20\n",
            "alpha: 1.22 / beta: 1.67 => avg = 0.12; global = 0.10\n",
            "alpha: 1.22 / beta: 2.11 => avg = 0.21; global = 0.20\n",
            "alpha: 1.22 / beta: 2.56 => avg = 0.51; global = 0.50\n",
            "alpha: 1.22 / beta: 3.00 => avg = 0.22; global = 0.20\n",
            "alpha: 1.67 / beta: -1.00 => avg = 0.32; global = 0.30\n",
            "alpha: 1.67 / beta: -0.56 => avg = 0.31; global = 0.30\n",
            "alpha: 1.67 / beta: -0.11 => avg = 0.41; global = 0.40\n",
            "alpha: 1.67 / beta: 0.33 => avg = 0.31; global = 0.30\n",
            "alpha: 1.67 / beta: 0.78 => avg = 0.12; global = 0.10\n",
            "alpha: 1.67 / beta: 1.22 => avg = 0.22; global = 0.20\n",
            "alpha: 1.67 / beta: 1.67 => avg = 0.32; global = 0.30\n",
            "alpha: 1.67 / beta: 2.11 => avg = 0.70; global = 0.70\n",
            "alpha: 1.67 / beta: 2.56 => avg = 0.41; global = 0.40\n",
            "alpha: 1.67 / beta: 3.00 => avg = 0.32; global = 0.30\n",
            "alpha: 2.11 / beta: -1.00 => avg = 0.71; global = 0.70\n",
            "alpha: 2.11 / beta: -0.56 => avg = 0.31; global = 0.30\n",
            "alpha: 2.11 / beta: -0.11 => avg = 0.22; global = 0.20\n",
            "alpha: 2.11 / beta: 0.33 => avg = 0.22; global = 0.20\n",
            "alpha: 2.11 / beta: 0.78 => avg = 0.31; global = 0.30\n",
            "alpha: 2.11 / beta: 1.22 => avg = 0.32; global = 0.30\n",
            "alpha: 2.11 / beta: 1.67 => avg = 0.31; global = 0.30\n",
            "alpha: 2.11 / beta: 2.11 => avg = 0.61; global = 0.60\n",
            "alpha: 2.11 / beta: 2.56 => avg = 0.61; global = 0.60\n",
            "alpha: 2.11 / beta: 3.00 => avg = 0.51; global = 0.50\n",
            "alpha: 2.56 / beta: -1.00 => avg = 0.22; global = 0.20\n",
            "alpha: 2.56 / beta: -0.56 => avg = 0.22; global = 0.20\n",
            "alpha: 2.56 / beta: -0.11 => avg = 0.61; global = 0.60\n",
            "alpha: 2.56 / beta: 0.33 => avg = 0.32; global = 0.30\n",
            "alpha: 2.56 / beta: 0.78 => avg = 0.22; global = 0.20\n",
            "alpha: 2.56 / beta: 1.22 => avg = 0.61; global = 0.60\n",
            "alpha: 2.56 / beta: 1.67 => avg = 0.51; global = 0.50\n",
            "alpha: 2.56 / beta: 2.11 => avg = 0.32; global = 0.30\n",
            "alpha: 2.56 / beta: 2.56 => avg = 0.51; global = 0.50\n",
            "alpha: 2.56 / beta: 3.00 => avg = 0.51; global = 0.50\n",
            "alpha: 3.00 / beta: -1.00 => avg = 0.41; global = 0.40\n",
            "alpha: 3.00 / beta: -0.56 => avg = 0.22; global = 0.20\n",
            "alpha: 3.00 / beta: -0.11 => avg = 0.61; global = 0.60\n",
            "alpha: 3.00 / beta: 0.33 => avg = 0.41; global = 0.40\n",
            "alpha: 3.00 / beta: 0.78 => avg = 0.41; global = 0.40\n",
            "alpha: 3.00 / beta: 1.22 => avg = 0.41; global = 0.40\n",
            "alpha: 3.00 / beta: 1.67 => avg = 0.41; global = 0.40\n",
            "alpha: 3.00 / beta: 2.11 => avg = 0.41; global = 0.40\n",
            "alpha: 3.00 / beta: 2.56 => avg = 0.61; global = 0.60\n",
            "alpha: 3.00 / beta: 3.00 => avg = 0.90; global = 0.90\n"
          ]
        },
        {
          "data": {
            "image/png": "[encoded data removed]",
            "text/plain": [
              "<Figure size 640x480 with 2 Axes>"
            ]
          },
          "metadata": {},
          "output_type": "display_data"
        },
        {
          "data": {
            "image/png": "[encoded data removed]",
            "text/plain": [
              "<Figure size 640x480 with 2 Axes>"
            ]
          },
          "metadata": {},
          "output_type": "display_data"
        }
      ],
      "source": [
        "alpha_settings = np.linspace(-1,3,10)\n",
        "beta_settings = np.linspace(-1,3,10)\n",
        "\n",
        "results_average, results_global_spread = spread_simulation.setting_simulate('alpha', alpha_settings,\n",
        "                                                          'beta', beta_settings,\n",
        "                                                          model_settings, experiment_settings)"
      ]
    },
    {
      "cell_type": "markdown",
      "metadata": {
        "id": "TRg9W1SqtjYU"
      },
      "source": [
        "## Exploring Diffusion and Homophily"
      ]
    },
    {
      "cell_type": "code",
      "execution_count": null,
      "metadata": {
        "id": "GDBzEK6AtjYU"
      },
      "outputs": [],
      "source": [
        "import network_stats\n",
        "\n",
        "model_settings = {\n",
        "    'N': 1600,\n",
        "    'm': 5,\n",
        "    'H': 2,\n",
        "    'D': 2,\n",
        "    'alpha': 3,\n",
        "    'beta': 1,\n",
        "    'complex_threshold': 0.16,\n",
        "    'initial_seed_filter': lambda x: x.nodes,\n",
        "    'model_type': 'social_origins_network'\n",
        "}\n",
        "\n",
        "g = homomul.social_origins_network(**model_settings)"
      ]
    },
    {
      "cell_type": "code",
      "execution_count": null,
      "metadata": {
        "colab": {
          "base_uri": "https://localhost:8080/",
          "height": 788
        },
        "id": "IBgC-kYVtjYV",
        "outputId": "d2fdfc4e-90af-4d07-93ab-f8b5033847aa"
      },
      "outputs": [
        {
          "data": {
            "image/png": "[encoded data removed]",
            "text/plain": [
              "<Figure size 400x400 with 1 Axes>"
            ]
          },
          "metadata": {},
          "output_type": "display_data"
        },
        {
          "data": {
            "image/png": "[encoded data removed]",
            "text/plain": [
              "<Figure size 400x400 with 1 Axes>"
            ]
          },
          "metadata": {},
          "output_type": "display_data"
        },
        {
          "data": {
            "text/plain": [
              "array([[1.        , 0.84040465, 0.86557701, 0.08541481],\n",
              "       [0.84040465, 0.75453921, 0.26454998, 0.83409704],\n",
              "       [0.86557701, 0.26454998, 0.77507271, 0.81867382],\n",
              "       [0.08541481, 0.83409704, 0.81867382, 0.98238544]])"
            ]
          },
          "execution_count": 5,
          "metadata": {},
          "output_type": "execute_result"
        }
      ],
      "source": [
        "network_stats.marginal_matrix(g)\n",
        "network_stats.homophily_matrix(g)"
      ]
    },
    {
      "cell_type": "code",
      "execution_count": null,
      "metadata": {
        "colab": {
          "base_uri": "https://localhost:8080/",
          "height": 176
        },
        "id": "rZ3ggsHBtjYW",
        "outputId": "47a3b97b-ce31-4ed4-c466-e05da8b675e8"
      },
      "outputs": [
        {
          "data": {
            "image/png": "[encoded data removed]",
            "text/plain": [
              "<Figure size 200x150 with 1 Axes>"
            ]
          },
          "metadata": {},
          "output_type": "display_data"
        }
      ],
      "source": [
        "# analytical solution\n",
        "a = model_settings['alpha']\n",
        "b = model_settings['beta']\n",
        "\n",
        "marginal_matrix = np.array([[1, np.exp(-b)],\n",
        "                            [np.exp(-b), 1]]).reshape(2, 2)\n",
        "marginal_matrix = marginal_matrix / marginal_matrix.sum()\n",
        "\n",
        "viz.fig_colored_matrix(\n",
        "            marginal_matrix,\n",
        "            xticks=range(2),\n",
        "            yticks=range(2),\n",
        "            show_colorbar=False,\n",
        "            figsize=None,\n",
        "            vmin=0)\n",
        "plt.show()"
      ]
    },
    {
      "cell_type": "code",
      "execution_count": null,
      "metadata": {
        "colab": {
          "base_uri": "https://localhost:8080/",
          "height": 291
        },
        "id": "bLNV7H-4tjYX",
        "outputId": "d8ea1c65-cba6-4e9d-954f-13d7e74e1814"
      },
      "outputs": [
        {
          "data": {
            "image/png": "[encoded data removed]",
            "text/plain": [
              "<Figure size 400x300 with 1 Axes>"
            ]
          },
          "metadata": {},
          "output_type": "display_data"
        }
      ],
      "source": [
        "import itertools\n",
        "\n",
        "h_matrix = np.zeros((4, 4))\n",
        "d1 = 1\n",
        "d2 = np.exp(-a) * d1\n",
        "\n",
        "m = marginal_matrix\n",
        "\n",
        "h_matrix[0, 0] = d1 * 1/(m[0,0] + m[1, 0] + m[0,1]) * 2\n",
        "h_matrix[0, 1] = h_matrix[0, 2] = d1 * (1/(m[0,0] + m[1, 0] + m[0,1]) + 1/(m[1,1] + m[0,1] + m[0,0]))\n",
        "h_matrix[0, 3] = d2 / m[0,0] * 2\n",
        "\n",
        "h_matrix[1, 1] = d1 * 1/(m[0,0] + m[1, 0] + m[1,1]) * 2\n",
        "h_matrix[1, 2] = d2 / m[1,0] * 2\n",
        "h_matrix[1, 3] = d1 * (1/(m[0,0] + m[1, 0] + m[1,1]) + 1/(m[1,1] + m[0,1] + m[1,0]))\n",
        "\n",
        "h_matrix[2, 2] = d1 * 1/(m[1,1] + m[1,0] + m[0,0]) * 2\n",
        "h_matrix[2, 3] = d1 * (1/(m[1,1] + m[1,0] + m[0,0]) + 1/(m[1,1] + m[0,1] + m[1,0]))\n",
        "\n",
        "h_matrix[3, 3] = d1 * 1/(m[1,1] + m[0,1] + m[1,0]) * 2\n",
        "\n",
        "h_matrix = h_matrix / h_matrix.max()\n",
        "\n",
        "\n",
        "viz.fig_colored_matrix(\n",
        "            h_matrix,\n",
        "            xticks=itertools.product(range(2), repeat=2),\n",
        "            yticks=itertools.product(range(2), repeat=2),\n",
        "            show_colorbar=False,\n",
        "            figsize=None,\n",
        "            vmin=0)\n",
        "plt.show()"
      ]
    },
    {
      "cell_type": "markdown",
      "metadata": {
        "id": "AswWGh3XtmmA"
      },
      "source": [
        "## Changing Homophily Dimension Aggregation\n",
        "\n",
        "Currently, the homophily aggregation considers min distance accross all dimension. Our other model uses homophily in all-dimension which is considerably different. Therefore I changed the Link-generation to include a function to change homophily aggregation.\n",
        "\n",
        "**Max Distance within all dimensions**"
      ]
    },
    {
      "cell_type": "code",
      "execution_count": null,
      "metadata": {
        "id": "rsCszGzQngVH"
      },
      "outputs": [],
      "source": [
        "model_settings = {\n",
        "    'N': 1600,\n",
        "    'm': 5,\n",
        "    'alpha': 1,\n",
        "    'beta': 1,\n",
        "    'complex_threshold': 0.18,\n",
        "    'initial_seed_filter': lambda x: x.nodes,\n",
        "    'model_type': 'social_origins_network',\n",
        "    'dimension_aggrigation': max\n",
        "}\n",
        "\n",
        "\n",
        "experiment_settings = {\n",
        "    'n_networks': 2,\n",
        "    'n_initial_seeds': 5\n",
        "    }"
      ]
    },
    {
      "cell_type": "code",
      "execution_count": null,
      "metadata": {
        "colab": {
          "base_uri": "https://localhost:8080/",
          "height": 1000,
          "referenced_widgets": [
            "6bfef9ff4644401986cdbb6d13911abc",
            "ac93780fb61041f5a61f2fbc0c93afb5",
            "1da0b166a871472782ca58f56c45ddbd",
            "081710773b2b4b03bf77ec5cbf24e6eb",
            "6cc0276caf514e4c8d84e5dd3c2ed35a",
            "5e2a847fa1174884a1f88168cfa6ce72",
            "d5d6c146e77c49769e650cf54ede7554",
            "aabee0fcf1214f1888c93d257ddd99d8",
            "79d52b5b10cc490396fcf55167bec98d",
            "f1b0aea6e32e4ad09af6f923d640a5b9",
            "c0064ca959aa442e985c246b8745d071"
          ]
        },
        "id": "_AKBi9ENnse_",
        "outputId": "fcd626ba-bc4c-473e-b604-0653b9fa44c1"
      },
      "outputs": [
        {
          "data": {
            "application/vnd.jupyter.widget-view+json": {
              "model_id": "6bfef9ff4644401986cdbb6d13911abc",
              "version_major": 2,
              "version_minor": 0
            },
            "text/plain": [
              "  0%|          | 0/100 [00:00<?, ?it/s]"
            ]
          },
          "metadata": {},
          "output_type": "display_data"
        },
        {
          "name": "stdout",
          "output_type": "stream",
          "text": [
            "alpha: -1.00 / beta: -1.00 => avg = 0.01; global = 0.00\n",
            "alpha: -1.00 / beta: -0.56 => avg = 0.01; global = 0.00\n",
            "alpha: -1.00 / beta: -0.11 => avg = 0.01; global = 0.00\n",
            "alpha: -1.00 / beta: 0.33 => avg = 0.11; global = 0.10\n",
            "alpha: -1.00 / beta: 0.78 => avg = 0.01; global = 0.00\n",
            "alpha: -1.00 / beta: 1.22 => avg = 0.01; global = 0.00\n",
            "alpha: -1.00 / beta: 1.67 => avg = 0.01; global = 0.00\n",
            "alpha: -1.00 / beta: 2.11 => avg = 0.01; global = 0.00\n",
            "alpha: -1.00 / beta: 2.56 => avg = 0.01; global = 0.00\n",
            "alpha: -1.00 / beta: 3.00 => avg = 0.01; global = 0.00\n",
            "alpha: -0.56 / beta: -1.00 => avg = 0.01; global = 0.00\n",
            "alpha: -0.56 / beta: -0.56 => avg = 0.01; global = 0.00\n",
            "alpha: -0.56 / beta: -0.11 => avg = 0.11; global = 0.10\n",
            "alpha: -0.56 / beta: 0.33 => avg = 0.01; global = 0.00\n",
            "alpha: -0.56 / beta: 0.78 => avg = 0.01; global = 0.00\n",
            "alpha: -0.56 / beta: 1.22 => avg = 0.01; global = 0.00\n",
            "alpha: -0.56 / beta: 1.67 => avg = 0.01; global = 0.00\n",
            "alpha: -0.56 / beta: 2.11 => avg = 0.01; global = 0.00\n",
            "alpha: -0.56 / beta: 2.56 => avg = 0.01; global = 0.00\n",
            "alpha: -0.56 / beta: 3.00 => avg = 0.01; global = 0.00\n",
            "alpha: -0.11 / beta: -1.00 => avg = 0.01; global = 0.00\n",
            "alpha: -0.11 / beta: -0.56 => avg = 0.01; global = 0.00\n",
            "alpha: -0.11 / beta: -0.11 => avg = 0.01; global = 0.00\n",
            "alpha: -0.11 / beta: 0.33 => avg = 0.31; global = 0.30\n",
            "alpha: -0.11 / beta: 0.78 => avg = 0.01; global = 0.00\n",
            "alpha: -0.11 / beta: 1.22 => avg = 0.01; global = 0.00\n",
            "alpha: -0.11 / beta: 1.67 => avg = 0.01; global = 0.00\n",
            "alpha: -0.11 / beta: 2.11 => avg = 0.01; global = 0.00\n",
            "alpha: -0.11 / beta: 2.56 => avg = 0.01; global = 0.00\n",
            "alpha: -0.11 / beta: 3.00 => avg = 0.01; global = 0.00\n",
            "alpha: 0.33 / beta: -1.00 => avg = 0.02; global = 0.00\n",
            "alpha: 0.33 / beta: -0.56 => avg = 0.01; global = 0.00\n",
            "alpha: 0.33 / beta: -0.11 => avg = 0.31; global = 0.30\n",
            "alpha: 0.33 / beta: 0.33 => avg = 0.11; global = 0.10\n",
            "alpha: 0.33 / beta: 0.78 => avg = 0.31; global = 0.30\n",
            "alpha: 0.33 / beta: 1.22 => avg = 0.01; global = 0.00\n",
            "alpha: 0.33 / beta: 1.67 => avg = 0.11; global = 0.10\n",
            "alpha: 0.33 / beta: 2.11 => avg = 0.31; global = 0.30\n",
            "alpha: 0.33 / beta: 2.56 => avg = 0.60; global = 0.60\n",
            "alpha: 0.33 / beta: 3.00 => avg = 0.21; global = 0.20\n",
            "alpha: 0.78 / beta: -1.00 => avg = 0.01; global = 0.00\n",
            "alpha: 0.78 / beta: -0.56 => avg = 0.01; global = 0.00\n",
            "alpha: 0.78 / beta: -0.11 => avg = 0.31; global = 0.30\n",
            "alpha: 0.78 / beta: 0.33 => avg = 0.61; global = 0.60\n",
            "alpha: 0.78 / beta: 0.78 => avg = 0.30; global = 0.30\n",
            "alpha: 0.78 / beta: 1.22 => avg = 0.60; global = 0.60\n",
            "alpha: 0.78 / beta: 1.67 => avg = 0.70; global = 0.70\n",
            "alpha: 0.78 / beta: 2.11 => avg = 0.50; global = 0.40\n",
            "alpha: 0.78 / beta: 2.56 => avg = 0.70; global = 0.60\n",
            "alpha: 0.78 / beta: 3.00 => avg = 1.00; global = 1.00\n",
            "alpha: 1.22 / beta: -1.00 => avg = nan; global = nan\n",
            "alpha: 1.22 / beta: -0.56 => avg = nan; global = nan\n",
            "alpha: 1.22 / beta: -0.11 => avg = nan; global = nan\n",
            "alpha: 1.22 / beta: 0.33 => avg = 0.11; global = 0.10\n",
            "alpha: 1.22 / beta: 0.78 => avg = 0.35; global = 0.30\n",
            "alpha: 1.22 / beta: 1.22 => avg = 0.39; global = 0.10\n",
            "alpha: 1.22 / beta: 1.67 => avg = 0.22; global = 0.00\n",
            "alpha: 1.22 / beta: 2.11 => avg = 0.10; global = 0.00\n",
            "alpha: 1.22 / beta: 2.56 => avg = 0.20; global = 0.00\n",
            "alpha: 1.22 / beta: 3.00 => avg = 0.17; global = 0.00\n",
            "alpha: 1.67 / beta: -1.00 => avg = nan; global = nan\n",
            "alpha: 1.67 / beta: -0.56 => avg = nan; global = nan\n",
            "alpha: 1.67 / beta: -0.11 => avg = nan; global = nan\n",
            "alpha: 1.67 / beta: 0.33 => avg = nan; global = nan\n",
            "alpha: 1.67 / beta: 0.78 => avg = 0.24; global = 0.00\n",
            "alpha: 1.67 / beta: 1.22 => avg = 0.18; global = 0.00\n",
            "alpha: 1.67 / beta: 1.67 => avg = 0.08; global = 0.00\n",
            "alpha: 1.67 / beta: 2.11 => avg = 0.15; global = 0.00\n",
            "alpha: 1.67 / beta: 2.56 => avg = 0.14; global = 0.00\n",
            "alpha: 1.67 / beta: 3.00 => avg = 0.11; global = 0.00\n",
            "alpha: 2.11 / beta: -1.00 => avg = nan; global = nan\n",
            "alpha: 2.11 / beta: -0.56 => avg = nan; global = nan\n",
            "alpha: 2.11 / beta: -0.11 => avg = nan; global = nan\n",
            "alpha: 2.11 / beta: 0.33 => avg = nan; global = nan\n",
            "alpha: 2.11 / beta: 0.78 => avg = nan; global = nan\n",
            "alpha: 2.11 / beta: 1.22 => avg = 0.08; global = 0.00\n",
            "alpha: 2.11 / beta: 1.67 => avg = 0.12; global = 0.00\n",
            "alpha: 2.11 / beta: 2.11 => avg = 0.07; global = 0.00\n",
            "alpha: 2.11 / beta: 2.56 => avg = 0.08; global = 0.00\n",
            "alpha: 2.11 / beta: 3.00 => avg = 0.07; global = 0.00\n",
            "alpha: 2.56 / beta: -1.00 => avg = nan; global = nan\n",
            "alpha: 2.56 / beta: -0.56 => avg = nan; global = nan\n",
            "alpha: 2.56 / beta: -0.11 => avg = nan; global = nan\n",
            "alpha: 2.56 / beta: 0.33 => avg = nan; global = nan\n",
            "alpha: 2.56 / beta: 0.78 => avg = nan; global = nan\n",
            "alpha: 2.56 / beta: 1.22 => avg = 0.04; global = 0.00\n",
            "alpha: 2.56 / beta: 1.67 => avg = 0.10; global = 0.00\n",
            "alpha: 2.56 / beta: 2.11 => avg = 0.07; global = 0.00\n",
            "alpha: 2.56 / beta: 2.56 => avg = 0.03; global = 0.00\n",
            "alpha: 2.56 / beta: 3.00 => avg = 0.03; global = 0.00\n",
            "alpha: 3.00 / beta: -1.00 => avg = nan; global = nan\n",
            "alpha: 3.00 / beta: -0.56 => avg = nan; global = nan\n",
            "alpha: 3.00 / beta: -0.11 => avg = nan; global = nan\n",
            "alpha: 3.00 / beta: 0.33 => avg = nan; global = nan\n",
            "alpha: 3.00 / beta: 0.78 => avg = nan; global = nan\n",
            "alpha: 3.00 / beta: 1.22 => avg = 0.03; global = 0.00\n",
            "alpha: 3.00 / beta: 1.67 => avg = 0.06; global = 0.00\n",
            "alpha: 3.00 / beta: 2.11 => avg = 0.05; global = 0.00\n",
            "alpha: 3.00 / beta: 2.56 => avg = 0.01; global = 0.00\n",
            "alpha: 3.00 / beta: 3.00 => avg = 0.02; global = 0.00\n"
          ]
        },
        {
          "data": {
            "image/png": "[encoded data removed]",
            "text/plain": [
              "<Figure size 640x480 with 2 Axes>"
            ]
          },
          "metadata": {},
          "output_type": "display_data"
        },
        {
          "data": {
            "image/png": "[encoded data removed]",
            "text/plain": [
              "<Figure size 640x480 with 2 Axes>"
            ]
          },
          "metadata": {},
          "output_type": "display_data"
        }
      ],
      "source": [
        "alpha_settings = np.linspace(-1,3,10)\n",
        "beta_settings = np.linspace(-1,3,10)\n",
        "\n",
        "results_average, results_global_spread = spread_simulation.setting_simulate('alpha', alpha_settings,\n",
        "                                                          'beta', beta_settings,\n",
        "                                                          model_settings, experiment_settings)"
      ]
    },
    {
      "cell_type": "code",
      "execution_count": 49,
      "metadata": {
        "id": "zEKujEc9tjYY"
      },
      "outputs": [],
      "source": [
        "model_settings = {\n",
        "    'N': 1600,\n",
        "    'm': 5,\n",
        "    'H': 2,\n",
        "    'D': 2,\n",
        "    'alpha': 0.5,\n",
        "    'beta': 0.5,\n",
        "    'complex_threshold': 0.18,\n",
        "    'initial_seed_filter': lambda x: x.nodes,\n",
        "    'model_type': 'social_origins_network',\n",
        "    'dimension_aggrigation': max\n",
        "}"
      ]
    },
    {
      "cell_type": "code",
      "execution_count": null,
      "metadata": {
        "colab": {
          "background_save": true,
          "base_uri": "https://localhost:8080/",
          "height": 1000,
          "referenced_widgets": [
            "ab125d21ac55438289ed89617b8e7ad0",
            "798dfd5182d448d19faa2e1acd1c4969",
            "28ca42d032914739a0411da15a8d98ef",
            "897d646228a541fea092d373f789535c",
            "53cb3717d1cd45a1b05bfc2965511558",
            "67b49b4f94d34c7e8a0e1db674783af3",
            "9aafb53cbb104696beae90a44b635dd9",
            "8521554abaf148ca9c63fdb8efb34471",
            "ab2f7aadc0404474b48eb47e2dd47085",
            "8f25ac7dc2044b3c91d5692b15165b33",
            "620ed50b9ba642429d126d32050e17e3"
          ]
        },
        "id": "BnsDcBJjtjYY",
        "outputId": "f1a86c1b-2df2-4f33-ea57-87546f69f385"
      },
      "outputs": [
        {
          "data": {
            "application/vnd.jupyter.widget-view+json": {
              "model_id": "ab125d21ac55438289ed89617b8e7ad0",
              "version_major": 2,
              "version_minor": 0
            },
            "text/plain": [
              "  0%|          | 0/100 [00:00<?, ?it/s]"
            ]
          },
          "metadata": {},
          "output_type": "display_data"
        },
        {
          "name": "stdout",
          "output_type": "stream",
          "text": [
            "alpha: -1.00 / beta: -1.00 => avg = 0.01; global = 0.00\n",
            "alpha: -1.00 / beta: -0.56 => avg = 0.01; global = 0.00\n",
            "alpha: -1.00 / beta: -0.11 => avg = 0.01; global = 0.00\n",
            "alpha: -1.00 / beta: 0.33 => avg = 0.01; global = 0.00\n",
            "alpha: -1.00 / beta: 0.78 => avg = 0.01; global = 0.00\n",
            "alpha: -1.00 / beta: 1.22 => avg = 0.01; global = 0.00\n",
            "alpha: -1.00 / beta: 1.67 => avg = 0.01; global = 0.00\n",
            "alpha: -1.00 / beta: 2.11 => avg = 0.01; global = 0.00\n",
            "alpha: -1.00 / beta: 2.56 => avg = 0.01; global = 0.00\n",
            "alpha: -1.00 / beta: 3.00 => avg = 0.01; global = 0.00\n",
            "alpha: -0.56 / beta: -1.00 => avg = 0.01; global = 0.00\n",
            "alpha: -0.56 / beta: -0.56 => avg = 0.01; global = 0.00\n",
            "alpha: -0.56 / beta: -0.11 => avg = 0.01; global = 0.00\n",
            "alpha: -0.56 / beta: 0.33 => avg = 0.01; global = 0.00\n",
            "alpha: -0.56 / beta: 0.78 => avg = 0.01; global = 0.00\n",
            "alpha: -0.56 / beta: 1.22 => avg = 0.01; global = 0.00\n",
            "alpha: -0.56 / beta: 1.67 => avg = 0.01; global = 0.00\n",
            "alpha: -0.56 / beta: 2.11 => avg = 0.11; global = 0.10\n",
            "alpha: -0.56 / beta: 2.56 => avg = 0.01; global = 0.00\n",
            "alpha: -0.56 / beta: 3.00 => avg = 0.11; global = 0.10\n",
            "alpha: -0.11 / beta: -1.00 => avg = 0.11; global = 0.10\n",
            "alpha: -0.11 / beta: -0.56 => avg = 0.01; global = 0.00\n",
            "alpha: -0.11 / beta: -0.11 => avg = 0.01; global = 0.00\n",
            "alpha: -0.11 / beta: 0.33 => avg = 0.01; global = 0.00\n",
            "alpha: -0.11 / beta: 0.78 => avg = 0.01; global = 0.00\n",
            "alpha: -0.11 / beta: 1.22 => avg = 0.01; global = 0.00\n",
            "alpha: -0.11 / beta: 1.67 => avg = 0.01; global = 0.00\n",
            "alpha: -0.11 / beta: 2.11 => avg = 0.11; global = 0.10\n",
            "alpha: -0.11 / beta: 2.56 => avg = 0.01; global = 0.00\n",
            "alpha: -0.11 / beta: 3.00 => avg = 0.01; global = 0.00\n",
            "alpha: 0.33 / beta: -1.00 => avg = 0.01; global = 0.00\n",
            "alpha: 0.33 / beta: -0.56 => avg = 0.01; global = 0.00\n",
            "alpha: 0.33 / beta: -0.11 => avg = 0.01; global = 0.00\n",
            "alpha: 0.33 / beta: 0.33 => avg = 0.01; global = 0.00\n",
            "alpha: 0.33 / beta: 0.78 => avg = 0.01; global = 0.00\n",
            "alpha: 0.33 / beta: 1.22 => avg = 0.01; global = 0.00\n",
            "alpha: 0.33 / beta: 1.67 => avg = 0.01; global = 0.00\n",
            "alpha: 0.33 / beta: 2.11 => avg = 0.11; global = 0.10\n",
            "alpha: 0.33 / beta: 2.56 => avg = 0.01; global = 0.00\n",
            "alpha: 0.33 / beta: 3.00 => avg = 0.01; global = 0.00\n",
            "alpha: 0.78 / beta: -1.00 => avg = 0.11; global = 0.10\n",
            "alpha: 0.78 / beta: -0.56 => avg = 0.01; global = 0.00\n",
            "alpha: 0.78 / beta: -0.11 => avg = 0.01; global = 0.00\n",
            "alpha: 0.78 / beta: 0.33 => avg = 0.01; global = 0.00\n",
            "alpha: 0.78 / beta: 0.78 => avg = 0.11; global = 0.10\n",
            "alpha: 0.78 / beta: 1.22 => avg = 0.31; global = 0.30\n",
            "alpha: 0.78 / beta: 1.67 => avg = 0.11; global = 0.10\n",
            "alpha: 0.78 / beta: 2.11 => avg = 0.31; global = 0.30\n",
            "alpha: 0.78 / beta: 2.56 => avg = 0.01; global = 0.00\n",
            "alpha: 0.78 / beta: 3.00 => avg = 0.01; global = 0.00\n",
            "alpha: 1.22 / beta: -1.00 => avg = 0.21; global = 0.20\n",
            "alpha: 1.22 / beta: -0.56 => avg = 0.01; global = 0.00\n",
            "alpha: 1.22 / beta: -0.11 => avg = 0.41; global = 0.40\n",
            "alpha: 1.22 / beta: 0.33 => avg = 0.31; global = 0.30\n",
            "alpha: 1.22 / beta: 0.78 => avg = 0.11; global = 0.10\n",
            "alpha: 1.22 / beta: 1.22 => avg = 0.31; global = 0.30\n",
            "alpha: 1.22 / beta: 1.67 => avg = 0.11; global = 0.10\n",
            "alpha: 1.22 / beta: 2.11 => avg = 0.01; global = 0.00\n",
            "alpha: 1.22 / beta: 2.56 => avg = 0.02; global = 0.00\n",
            "alpha: 1.22 / beta: 3.00 => avg = 0.01; global = 0.00\n",
            "alpha: 1.67 / beta: -1.00 => avg = 0.41; global = 0.40\n",
            "alpha: 1.67 / beta: -0.56 => avg = 0.41; global = 0.40\n",
            "alpha: 1.67 / beta: -0.11 => avg = 0.70; global = 0.70\n",
            "alpha: 1.67 / beta: 0.33 => avg = 0.11; global = 0.10\n",
            "alpha: 1.67 / beta: 0.78 => avg = 0.21; global = 0.20\n",
            "alpha: 1.67 / beta: 1.22 => avg = 0.21; global = 0.20\n",
            "alpha: 1.67 / beta: 1.67 => avg = 0.01; global = 0.00\n",
            "alpha: 1.67 / beta: 2.11 => avg = 0.01; global = 0.00\n",
            "alpha: 1.67 / beta: 2.56 => avg = 0.11; global = 0.10\n",
            "alpha: 1.67 / beta: 3.00 => avg = 0.12; global = 0.10\n",
            "alpha: 2.11 / beta: -1.00 => avg = 0.60; global = 0.60\n",
            "alpha: 2.11 / beta: -0.56 => avg = 0.70; global = 0.70\n",
            "alpha: 2.11 / beta: -0.11 => avg = 0.70; global = 0.70\n",
            "alpha: 2.11 / beta: 0.33 => avg = 0.41; global = 0.40\n",
            "alpha: 2.11 / beta: 0.78 => avg = 0.60; global = 0.60\n",
            "alpha: 2.11 / beta: 1.22 => avg = 0.41; global = 0.40\n",
            "alpha: 2.11 / beta: 1.67 => avg = 0.21; global = 0.20\n",
            "alpha: 2.11 / beta: 2.11 => avg = 0.12; global = 0.10\n",
            "alpha: 2.11 / beta: 2.56 => avg = 0.21; global = 0.20\n",
            "alpha: 2.11 / beta: 3.00 => avg = 0.22; global = 0.20\n",
            "alpha: 2.56 / beta: -1.00 => avg = 0.18; global = 0.10\n",
            "alpha: 2.56 / beta: -0.56 => avg = 0.61; global = 0.60\n",
            "alpha: 2.56 / beta: -0.11 => avg = 0.50; global = 0.50\n",
            "alpha: 2.56 / beta: 0.33 => avg = 0.70; global = 0.70\n",
            "alpha: 2.56 / beta: 0.78 => avg = 0.20; global = 0.20\n",
            "alpha: 2.56 / beta: 1.22 => avg = 0.14; global = 0.10\n",
            "alpha: 2.56 / beta: 1.67 => avg = 0.13; global = 0.10\n",
            "alpha: 2.56 / beta: 2.11 => avg = 0.21; global = 0.20\n",
            "alpha: 2.56 / beta: 2.56 => avg = 0.21; global = 0.20\n",
            "alpha: 2.56 / beta: 3.00 => avg = 0.21; global = 0.20\n",
            "alpha: 3.00 / beta: -1.00 => avg = 0.52; global = 0.50\n",
            "alpha: 3.00 / beta: -0.56 => avg = 0.53; global = 0.50\n",
            "alpha: 3.00 / beta: -0.11 => avg = 0.46; global = 0.40\n",
            "alpha: 3.00 / beta: 0.33 => avg = 0.70; global = 0.70\n",
            "alpha: 3.00 / beta: 0.78 => avg = 0.50; global = 0.50\n",
            "alpha: 3.00 / beta: 1.22 => avg = 0.44; global = 0.40\n",
            "alpha: 3.00 / beta: 1.67 => avg = 0.21; global = 0.20\n",
            "alpha: 3.00 / beta: 2.11 => avg = 0.21; global = 0.20\n",
            "alpha: 3.00 / beta: 2.56 => avg = 0.12; global = 0.10\n",
            "alpha: 3.00 / beta: 3.00 => avg = 0.21; global = 0.20\n"
          ]
        },
        {
          "data": {
            "image/png": "[encoded data removed]",
            "text/plain": [
              "<Figure size 640x480 with 2 Axes>"
            ]
          },
          "metadata": {},
          "output_type": "display_data"
        },
        {
          "data": {
            "image/png": "[encoded data removed]",
            "text/plain": [
              "<Figure size 640x480 with 2 Axes>"
            ]
          },
          "metadata": {},
          "output_type": "display_data"
        }
      ],
      "source": [
        "alpha_settings = np.linspace(-1,3,10)\n",
        "beta_settings = np.linspace(-1,3,10)\n",
        "\n",
        "results_average, results_global_spread = spread_simulation.setting_simulate('alpha', alpha_settings,\n",
        "                                                          'beta', beta_settings,\n",
        "                                                          model_settings, experiment_settings)"
      ]
    },
    {
      "cell_type": "markdown",
      "metadata": {
        "id": "ZF_yfDxouZ_y"
      },
      "source": [
        "### How does the Homophily matrix look like?"
      ]
    },
    {
      "cell_type": "code",
      "execution_count": 50,
      "metadata": {
        "id": "TwZ-vvBduX8b"
      },
      "outputs": [],
      "source": [
        "g = homomul.social_origins_network(**model_settings)"
      ]
    },
    {
      "cell_type": "code",
      "execution_count": 51,
      "metadata": {
        "colab": {
          "base_uri": "https://localhost:8080/",
          "height": 788
        },
        "id": "ZNOeb5AnuoHB",
        "outputId": "41b73ddf-bfc3-46d6-e92c-f5ca4022a608"
      },
      "outputs": [
        {
          "output_type": "display_data",
          "data": {
            "text/plain": [
              "<Figure size 400x400 with 1 Axes>"
            ],
            "image/png": "[encoded data removed]"
          },
          "metadata": {}
        },
        {
          "output_type": "display_data",
          "data": {
            "text/plain": [
              "<Figure size 400x400 with 1 Axes>"
            ],
            "image/png": "[encoded data removed]"
          },
          "metadata": {}
        },
        {
          "output_type": "execute_result",
          "data": {
            "text/plain": [
              "array([[0.62795329, 0.17004453, 0.149394  , 0.16556146],\n",
              "       [0.17004453, 1.        , 0.13602968, 0.15175072],\n",
              "       [0.149394  , 0.13602968, 0.92034082, 0.14597751],\n",
              "       [0.16556146, 0.15175072, 0.14597751, 0.60713521]])"
            ]
          },
          "metadata": {},
          "execution_count": 51
        }
      ],
      "source": [
        "import network_stats\n",
        "network_stats.marginal_matrix(g)\n",
        "network_stats.homophily_matrix(g)"
      ]
    },
    {
      "cell_type": "code",
      "execution_count": 52,
      "metadata": {
        "colab": {
          "base_uri": "https://localhost:8080/",
          "height": 176
        },
        "id": "JM4xwUDdejSF",
        "outputId": "c24de619-4226-4514-824a-e5b427ed92eb"
      },
      "outputs": [
        {
          "output_type": "display_data",
          "data": {
            "text/plain": [
              "<Figure size 200x150 with 1 Axes>"
            ],
            "image/png": "[encoded data removed]"
          },
          "metadata": {}
        }
      ],
      "source": [
        "# analytical solution\n",
        "a = model_settings['alpha']\n",
        "b = model_settings['beta']\n",
        "\n",
        "marginal_matrix = np.array([[1, np.exp(-b)],\n",
        "                            [np.exp(-b), 1]]).reshape(2, 2)\n",
        "marginal_matrix = marginal_matrix / marginal_matrix.sum()\n",
        "\n",
        "viz.fig_colored_matrix(\n",
        "            marginal_matrix,\n",
        "            xticks=range(2),\n",
        "            yticks=range(2),\n",
        "            show_colorbar=False,\n",
        "            figsize=None,\n",
        "            vmin=0)\n",
        "plt.show()"
      ]
    },
    {
      "cell_type": "code",
      "execution_count": 54,
      "metadata": {
        "colab": {
          "base_uri": "https://localhost:8080/",
          "height": 291
        },
        "id": "W5gSF8k-uor2",
        "outputId": "67580d10-3554-4365-9b3c-a41cb08ba55b"
      },
      "outputs": [
        {
          "output_type": "display_data",
          "data": {
            "text/plain": [
              "<Figure size 400x300 with 1 Axes>"
            ],
            "image/png": "[encoded data removed]"
          },
          "metadata": {}
        }
      ],
      "source": [
        "h_matrix = np.zeros((4, 4))\n",
        "d1 = 1\n",
        "d2 = np.exp(-a) * d1\n",
        "\n",
        "m = marginal_matrix\n",
        "\n",
        "h_matrix[0, 0] = d1 * 2 / m[0,0]\n",
        "h_matrix[0, 1] = h_matrix[0, 2] = d2 * (1/(m[0,0] + m[1, 0] + m[0,1]) + 1/(m[1,1] + m[0,1] + m[0,0]))\n",
        "h_matrix[0, 3] = d2 * 1/(m[1, 1] + m[1, 0] + m[0, 1]) * 2\n",
        "\n",
        "h_matrix[1, 1] = d1 * 1/(m[0,1]) * 2\n",
        "h_matrix[1, 2] = d2 * 1/(m[0,1] + m[0,0] + m[1,1])* 2\n",
        "h_matrix[1, 3] = h_matrix[0,1]\n",
        "\n",
        "h_matrix[2, 2] = h_matrix[1,1]\n",
        "h_matrix[2, 3] = h_matrix[0,1]\n",
        "\n",
        "h_matrix[3, 3] = h_matrix[0,0]\n",
        "\n",
        "h_matrix = h_matrix / h_matrix.max()\n",
        "\n",
        "\n",
        "viz.fig_colored_matrix(\n",
        "            h_matrix,\n",
        "            xticks=itertools.product(range(2), repeat=2),\n",
        "            yticks=itertools.product(range(2), repeat=2),\n",
        "            show_colorbar=False,\n",
        "            figsize=None,\n",
        "            vmin=0)\n",
        "plt.show()"
      ]
    },
    {
      "cell_type": "code",
      "execution_count": null,
      "metadata": {
        "colab": {
          "background_save": true
        },
        "id": "rxSKyHXBnwbO"
      },
      "outputs": [],
      "source": []
    }
  ],
  "metadata": {
    "colab": {
      "provenance": []
    },
    "kernelspec": {
      "display_name": "Python 3",
      "name": "python3"
    },
    "language_info": {
      "codemirror_mode": {
        "name": "ipython",
        "version": 3
      },
      "file_extension": ".py",
      "mimetype": "text/x-python",
      "name": "python",
      "nbconvert_exporter": "python",
      "pygments_lexer": "ipython3",
      "version": "3.10.6"
    },
    "widgets": {
      "application/vnd.jupyter.widget-state+json": {
        "01a56f443a584a89aa9fa7e0b4171e61": {
          "model_module": "@jupyter-widgets/controls",
          "model_module_version": "1.5.0",
          "model_name": "HTMLModel",
          "state": {
            "_dom_classes": [],
            "_model_module": "@jupyter-widgets/controls",
            "_model_module_version": "1.5.0",
            "_model_name": "HTMLModel",
            "_view_count": null,
            "_view_module": "@jupyter-widgets/controls",
            "_view_module_version": "1.5.0",
            "_view_name": "HTMLView",
            "description": "",
            "description_tooltip": null,
            "layout": "IPY_MODEL_ba406f0c0d164e40b9118c4c95062a31",
            "placeholder": "​",
            "style": "IPY_MODEL_87748a84d7b24343a681803ffe5a233e",
            "value": "100%"
          }
        },
        "081710773b2b4b03bf77ec5cbf24e6eb": {
          "model_module": "@jupyter-widgets/controls",
          "model_module_version": "1.5.0",
          "model_name": "HTMLModel",
          "state": {
            "_dom_classes": [],
            "_model_module": "@jupyter-widgets/controls",
            "_model_module_version": "1.5.0",
            "_model_name": "HTMLModel",
            "_view_count": null,
            "_view_module": "@jupyter-widgets/controls",
            "_view_module_version": "1.5.0",
            "_view_name": "HTMLView",
            "description": "",
            "description_tooltip": null,
            "layout": "IPY_MODEL_f1b0aea6e32e4ad09af6f923d640a5b9",
            "placeholder": "​",
            "style": "IPY_MODEL_c0064ca959aa442e985c246b8745d071",
            "value": " 100/100 [40:20&lt;00:00, 26.21s/it]"
          }
        },
        "096cb8056ee146f599f0f170c4d73ee6": {
          "model_module": "@jupyter-widgets/base",
          "model_module_version": "1.2.0",
          "model_name": "LayoutModel",
          "state": {
            "_model_module": "@jupyter-widgets/base",
            "_model_module_version": "1.2.0",
            "_model_name": "LayoutModel",
            "_view_count": null,
            "_view_module": "@jupyter-widgets/base",
            "_view_module_version": "1.2.0",
            "_view_name": "LayoutView",
            "align_content": null,
            "align_items": null,
            "align_self": null,
            "border": null,
            "bottom": null,
            "display": null,
            "flex": null,
            "flex_flow": null,
            "grid_area": null,
            "grid_auto_columns": null,
            "grid_auto_flow": null,
            "grid_auto_rows": null,
            "grid_column": null,
            "grid_gap": null,
            "grid_row": null,
            "grid_template_areas": null,
            "grid_template_columns": null,
            "grid_template_rows": null,
            "height": null,
            "justify_content": null,
            "justify_items": null,
            "left": null,
            "margin": null,
            "max_height": null,
            "max_width": null,
            "min_height": null,
            "min_width": null,
            "object_fit": null,
            "object_position": null,
            "order": null,
            "overflow": null,
            "overflow_x": null,
            "overflow_y": null,
            "padding": null,
            "right": null,
            "top": null,
            "visibility": null,
            "width": null
          }
        },
        "0b80f859cb1d4832afd0583c93ab97bd": {
          "model_module": "@jupyter-widgets/base",
          "model_module_version": "1.2.0",
          "model_name": "LayoutModel",
          "state": {
            "_model_module": "@jupyter-widgets/base",
            "_model_module_version": "1.2.0",
            "_model_name": "LayoutModel",
            "_view_count": null,
            "_view_module": "@jupyter-widgets/base",
            "_view_module_version": "1.2.0",
            "_view_name": "LayoutView",
            "align_content": null,
            "align_items": null,
            "align_self": null,
            "border": null,
            "bottom": null,
            "display": null,
            "flex": null,
            "flex_flow": null,
            "grid_area": null,
            "grid_auto_columns": null,
            "grid_auto_flow": null,
            "grid_auto_rows": null,
            "grid_column": null,
            "grid_gap": null,
            "grid_row": null,
            "grid_template_areas": null,
            "grid_template_columns": null,
            "grid_template_rows": null,
            "height": null,
            "justify_content": null,
            "justify_items": null,
            "left": null,
            "margin": null,
            "max_height": null,
            "max_width": null,
            "min_height": null,
            "min_width": null,
            "object_fit": null,
            "object_position": null,
            "order": null,
            "overflow": null,
            "overflow_x": null,
            "overflow_y": null,
            "padding": null,
            "right": null,
            "top": null,
            "visibility": null,
            "width": null
          }
        },
        "11d82d2036a34c51a143283e71d25ae4": {
          "model_module": "@jupyter-widgets/controls",
          "model_module_version": "1.5.0",
          "model_name": "HTMLModel",
          "state": {
            "_dom_classes": [],
            "_model_module": "@jupyter-widgets/controls",
            "_model_module_version": "1.5.0",
            "_model_name": "HTMLModel",
            "_view_count": null,
            "_view_module": "@jupyter-widgets/controls",
            "_view_module_version": "1.5.0",
            "_view_name": "HTMLView",
            "description": "",
            "description_tooltip": null,
            "layout": "IPY_MODEL_7897cfc30e9a41109295388059452429",
            "placeholder": "​",
            "style": "IPY_MODEL_53838cb029f347c78544c324101cafc6",
            "value": "100%"
          }
        },
        "12558be3fcf34040829152aa26d3c132": {
          "model_module": "@jupyter-widgets/controls",
          "model_module_version": "1.5.0",
          "model_name": "DescriptionStyleModel",
          "state": {
            "_model_module": "@jupyter-widgets/controls",
            "_model_module_version": "1.5.0",
            "_model_name": "DescriptionStyleModel",
            "_view_count": null,
            "_view_module": "@jupyter-widgets/base",
            "_view_module_version": "1.2.0",
            "_view_name": "StyleView",
            "description_width": ""
          }
        },
        "1da0b166a871472782ca58f56c45ddbd": {
          "model_module": "@jupyter-widgets/controls",
          "model_module_version": "1.5.0",
          "model_name": "FloatProgressModel",
          "state": {
            "_dom_classes": [],
            "_model_module": "@jupyter-widgets/controls",
            "_model_module_version": "1.5.0",
            "_model_name": "FloatProgressModel",
            "_view_count": null,
            "_view_module": "@jupyter-widgets/controls",
            "_view_module_version": "1.5.0",
            "_view_name": "ProgressView",
            "bar_style": "success",
            "description": "",
            "description_tooltip": null,
            "layout": "IPY_MODEL_aabee0fcf1214f1888c93d257ddd99d8",
            "max": 100,
            "min": 0,
            "orientation": "horizontal",
            "style": "IPY_MODEL_79d52b5b10cc490396fcf55167bec98d",
            "value": 100
          }
        },
        "1e246cb685f94ead82753272241b4109": {
          "model_module": "@jupyter-widgets/controls",
          "model_module_version": "1.5.0",
          "model_name": "HTMLModel",
          "state": {
            "_dom_classes": [],
            "_model_module": "@jupyter-widgets/controls",
            "_model_module_version": "1.5.0",
            "_model_name": "HTMLModel",
            "_view_count": null,
            "_view_module": "@jupyter-widgets/controls",
            "_view_module_version": "1.5.0",
            "_view_name": "HTMLView",
            "description": "",
            "description_tooltip": null,
            "layout": "IPY_MODEL_c953e7a7353540858db88c539cfba169",
            "placeholder": "​",
            "style": "IPY_MODEL_a6d7e9d35bdb458099fd754d9298bf2a",
            "value": "100%"
          }
        },
        "21bdd0cc36464ecbb06c772d875662cb": {
          "model_module": "@jupyter-widgets/controls",
          "model_module_version": "1.5.0",
          "model_name": "HTMLModel",
          "state": {
            "_dom_classes": [],
            "_model_module": "@jupyter-widgets/controls",
            "_model_module_version": "1.5.0",
            "_model_name": "HTMLModel",
            "_view_count": null,
            "_view_module": "@jupyter-widgets/controls",
            "_view_module_version": "1.5.0",
            "_view_name": "HTMLView",
            "description": "",
            "description_tooltip": null,
            "layout": "IPY_MODEL_96c9379790d44417b01a9d6ce15d518e",
            "placeholder": "​",
            "style": "IPY_MODEL_12558be3fcf34040829152aa26d3c132",
            "value": " 100/100 [50:08&lt;00:00, 30.00s/it]"
          }
        },
        "26aed773f6d5430f9e272743f387a295": {
          "model_module": "@jupyter-widgets/controls",
          "model_module_version": "1.5.0",
          "model_name": "FloatProgressModel",
          "state": {
            "_dom_classes": [],
            "_model_module": "@jupyter-widgets/controls",
            "_model_module_version": "1.5.0",
            "_model_name": "FloatProgressModel",
            "_view_count": null,
            "_view_module": "@jupyter-widgets/controls",
            "_view_module_version": "1.5.0",
            "_view_name": "ProgressView",
            "bar_style": "success",
            "description": "",
            "description_tooltip": null,
            "layout": "IPY_MODEL_5d2acda0dbe940a3b96c087988a4feb1",
            "max": 100,
            "min": 0,
            "orientation": "horizontal",
            "style": "IPY_MODEL_5f9c0210925b433ca2b9a82d87509516",
            "value": 100
          }
        },
        "28ca42d032914739a0411da15a8d98ef": {
          "model_module": "@jupyter-widgets/controls",
          "model_module_version": "1.5.0",
          "model_name": "FloatProgressModel",
          "state": {
            "_dom_classes": [],
            "_model_module": "@jupyter-widgets/controls",
            "_model_module_version": "1.5.0",
            "_model_name": "FloatProgressModel",
            "_view_count": null,
            "_view_module": "@jupyter-widgets/controls",
            "_view_module_version": "1.5.0",
            "_view_name": "ProgressView",
            "bar_style": "",
            "description": "",
            "description_tooltip": null,
            "layout": "IPY_MODEL_8521554abaf148ca9c63fdb8efb34471",
            "max": 100,
            "min": 0,
            "orientation": "horizontal",
            "style": "IPY_MODEL_ab2f7aadc0404474b48eb47e2dd47085",
            "value": 77
          }
        },
        "448e7cf364e74a8495320dc762efa360": {
          "model_module": "@jupyter-widgets/controls",
          "model_module_version": "1.5.0",
          "model_name": "HTMLModel",
          "state": {
            "_dom_classes": [],
            "_model_module": "@jupyter-widgets/controls",
            "_model_module_version": "1.5.0",
            "_model_name": "HTMLModel",
            "_view_count": null,
            "_view_module": "@jupyter-widgets/controls",
            "_view_module_version": "1.5.0",
            "_view_name": "HTMLView",
            "description": "",
            "description_tooltip": null,
            "layout": "IPY_MODEL_096cb8056ee146f599f0f170c4d73ee6",
            "placeholder": "​",
            "style": "IPY_MODEL_e1fdbb14f402472d9cc45d8dcdf763cf",
            "value": " 100/100 [23:02&lt;00:00, 13.86s/it]"
          }
        },
        "53838cb029f347c78544c324101cafc6": {
          "model_module": "@jupyter-widgets/controls",
          "model_module_version": "1.5.0",
          "model_name": "DescriptionStyleModel",
          "state": {
            "_model_module": "@jupyter-widgets/controls",
            "_model_module_version": "1.5.0",
            "_model_name": "DescriptionStyleModel",
            "_view_count": null,
            "_view_module": "@jupyter-widgets/base",
            "_view_module_version": "1.2.0",
            "_view_name": "StyleView",
            "description_width": ""
          }
        },
        "53ba2defb366411daa13237a0f6477f7": {
          "model_module": "@jupyter-widgets/base",
          "model_module_version": "1.2.0",
          "model_name": "LayoutModel",
          "state": {
            "_model_module": "@jupyter-widgets/base",
            "_model_module_version": "1.2.0",
            "_model_name": "LayoutModel",
            "_view_count": null,
            "_view_module": "@jupyter-widgets/base",
            "_view_module_version": "1.2.0",
            "_view_name": "LayoutView",
            "align_content": null,
            "align_items": null,
            "align_self": null,
            "border": null,
            "bottom": null,
            "display": null,
            "flex": null,
            "flex_flow": null,
            "grid_area": null,
            "grid_auto_columns": null,
            "grid_auto_flow": null,
            "grid_auto_rows": null,
            "grid_column": null,
            "grid_gap": null,
            "grid_row": null,
            "grid_template_areas": null,
            "grid_template_columns": null,
            "grid_template_rows": null,
            "height": null,
            "justify_content": null,
            "justify_items": null,
            "left": null,
            "margin": null,
            "max_height": null,
            "max_width": null,
            "min_height": null,
            "min_width": null,
            "object_fit": null,
            "object_position": null,
            "order": null,
            "overflow": null,
            "overflow_x": null,
            "overflow_y": null,
            "padding": null,
            "right": null,
            "top": null,
            "visibility": null,
            "width": null
          }
        },
        "53cb3717d1cd45a1b05bfc2965511558": {
          "model_module": "@jupyter-widgets/base",
          "model_module_version": "1.2.0",
          "model_name": "LayoutModel",
          "state": {
            "_model_module": "@jupyter-widgets/base",
            "_model_module_version": "1.2.0",
            "_model_name": "LayoutModel",
            "_view_count": null,
            "_view_module": "@jupyter-widgets/base",
            "_view_module_version": "1.2.0",
            "_view_name": "LayoutView",
            "align_content": null,
            "align_items": null,
            "align_self": null,
            "border": null,
            "bottom": null,
            "display": null,
            "flex": null,
            "flex_flow": null,
            "grid_area": null,
            "grid_auto_columns": null,
            "grid_auto_flow": null,
            "grid_auto_rows": null,
            "grid_column": null,
            "grid_gap": null,
            "grid_row": null,
            "grid_template_areas": null,
            "grid_template_columns": null,
            "grid_template_rows": null,
            "height": null,
            "justify_content": null,
            "justify_items": null,
            "left": null,
            "margin": null,
            "max_height": null,
            "max_width": null,
            "min_height": null,
            "min_width": null,
            "object_fit": null,
            "object_position": null,
            "order": null,
            "overflow": null,
            "overflow_x": null,
            "overflow_y": null,
            "padding": null,
            "right": null,
            "top": null,
            "visibility": null,
            "width": null
          }
        },
        "5d2acda0dbe940a3b96c087988a4feb1": {
          "model_module": "@jupyter-widgets/base",
          "model_module_version": "1.2.0",
          "model_name": "LayoutModel",
          "state": {
            "_model_module": "@jupyter-widgets/base",
            "_model_module_version": "1.2.0",
            "_model_name": "LayoutModel",
            "_view_count": null,
            "_view_module": "@jupyter-widgets/base",
            "_view_module_version": "1.2.0",
            "_view_name": "LayoutView",
            "align_content": null,
            "align_items": null,
            "align_self": null,
            "border": null,
            "bottom": null,
            "display": null,
            "flex": null,
            "flex_flow": null,
            "grid_area": null,
            "grid_auto_columns": null,
            "grid_auto_flow": null,
            "grid_auto_rows": null,
            "grid_column": null,
            "grid_gap": null,
            "grid_row": null,
            "grid_template_areas": null,
            "grid_template_columns": null,
            "grid_template_rows": null,
            "height": null,
            "justify_content": null,
            "justify_items": null,
            "left": null,
            "margin": null,
            "max_height": null,
            "max_width": null,
            "min_height": null,
            "min_width": null,
            "object_fit": null,
            "object_position": null,
            "order": null,
            "overflow": null,
            "overflow_x": null,
            "overflow_y": null,
            "padding": null,
            "right": null,
            "top": null,
            "visibility": null,
            "width": null
          }
        },
        "5de82c956849432ab9da38a8a9da3803": {
          "model_module": "@jupyter-widgets/controls",
          "model_module_version": "1.5.0",
          "model_name": "HTMLModel",
          "state": {
            "_dom_classes": [],
            "_model_module": "@jupyter-widgets/controls",
            "_model_module_version": "1.5.0",
            "_model_name": "HTMLModel",
            "_view_count": null,
            "_view_module": "@jupyter-widgets/controls",
            "_view_module_version": "1.5.0",
            "_view_name": "HTMLView",
            "description": "",
            "description_tooltip": null,
            "layout": "IPY_MODEL_a183b545b7094c269303c315b692ea58",
            "placeholder": "​",
            "style": "IPY_MODEL_f6e84189b3854331af7556cf5adb2dd3",
            "value": " 100/100 [06:45&lt;00:00,  3.90s/it]"
          }
        },
        "5e2a847fa1174884a1f88168cfa6ce72": {
          "model_module": "@jupyter-widgets/base",
          "model_module_version": "1.2.0",
          "model_name": "LayoutModel",
          "state": {
            "_model_module": "@jupyter-widgets/base",
            "_model_module_version": "1.2.0",
            "_model_name": "LayoutModel",
            "_view_count": null,
            "_view_module": "@jupyter-widgets/base",
            "_view_module_version": "1.2.0",
            "_view_name": "LayoutView",
            "align_content": null,
            "align_items": null,
            "align_self": null,
            "border": null,
            "bottom": null,
            "display": null,
            "flex": null,
            "flex_flow": null,
            "grid_area": null,
            "grid_auto_columns": null,
            "grid_auto_flow": null,
            "grid_auto_rows": null,
            "grid_column": null,
            "grid_gap": null,
            "grid_row": null,
            "grid_template_areas": null,
            "grid_template_columns": null,
            "grid_template_rows": null,
            "height": null,
            "justify_content": null,
            "justify_items": null,
            "left": null,
            "margin": null,
            "max_height": null,
            "max_width": null,
            "min_height": null,
            "min_width": null,
            "object_fit": null,
            "object_position": null,
            "order": null,
            "overflow": null,
            "overflow_x": null,
            "overflow_y": null,
            "padding": null,
            "right": null,
            "top": null,
            "visibility": null,
            "width": null
          }
        },
        "5f9c0210925b433ca2b9a82d87509516": {
          "model_module": "@jupyter-widgets/controls",
          "model_module_version": "1.5.0",
          "model_name": "ProgressStyleModel",
          "state": {
            "_model_module": "@jupyter-widgets/controls",
            "_model_module_version": "1.5.0",
            "_model_name": "ProgressStyleModel",
            "_view_count": null,
            "_view_module": "@jupyter-widgets/base",
            "_view_module_version": "1.2.0",
            "_view_name": "StyleView",
            "bar_color": null,
            "description_width": ""
          }
        },
        "620ed50b9ba642429d126d32050e17e3": {
          "model_module": "@jupyter-widgets/controls",
          "model_module_version": "1.5.0",
          "model_name": "DescriptionStyleModel",
          "state": {
            "_model_module": "@jupyter-widgets/controls",
            "_model_module_version": "1.5.0",
            "_model_name": "DescriptionStyleModel",
            "_view_count": null,
            "_view_module": "@jupyter-widgets/base",
            "_view_module_version": "1.2.0",
            "_view_name": "StyleView",
            "description_width": ""
          }
        },
        "636d775e76b9492d864063d88f19df60": {
          "model_module": "@jupyter-widgets/controls",
          "model_module_version": "1.5.0",
          "model_name": "FloatProgressModel",
          "state": {
            "_dom_classes": [],
            "_model_module": "@jupyter-widgets/controls",
            "_model_module_version": "1.5.0",
            "_model_name": "FloatProgressModel",
            "_view_count": null,
            "_view_module": "@jupyter-widgets/controls",
            "_view_module_version": "1.5.0",
            "_view_name": "ProgressView",
            "bar_style": "success",
            "description": "",
            "description_tooltip": null,
            "layout": "IPY_MODEL_a7c66be85ef6425a9576e4d5d175c28f",
            "max": 100,
            "min": 0,
            "orientation": "horizontal",
            "style": "IPY_MODEL_a67a8cd8346448f091b5a9564ee38099",
            "value": 100
          }
        },
        "67b49b4f94d34c7e8a0e1db674783af3": {
          "model_module": "@jupyter-widgets/base",
          "model_module_version": "1.2.0",
          "model_name": "LayoutModel",
          "state": {
            "_model_module": "@jupyter-widgets/base",
            "_model_module_version": "1.2.0",
            "_model_name": "LayoutModel",
            "_view_count": null,
            "_view_module": "@jupyter-widgets/base",
            "_view_module_version": "1.2.0",
            "_view_name": "LayoutView",
            "align_content": null,
            "align_items": null,
            "align_self": null,
            "border": null,
            "bottom": null,
            "display": null,
            "flex": null,
            "flex_flow": null,
            "grid_area": null,
            "grid_auto_columns": null,
            "grid_auto_flow": null,
            "grid_auto_rows": null,
            "grid_column": null,
            "grid_gap": null,
            "grid_row": null,
            "grid_template_areas": null,
            "grid_template_columns": null,
            "grid_template_rows": null,
            "height": null,
            "justify_content": null,
            "justify_items": null,
            "left": null,
            "margin": null,
            "max_height": null,
            "max_width": null,
            "min_height": null,
            "min_width": null,
            "object_fit": null,
            "object_position": null,
            "order": null,
            "overflow": null,
            "overflow_x": null,
            "overflow_y": null,
            "padding": null,
            "right": null,
            "top": null,
            "visibility": null,
            "width": null
          }
        },
        "6bfef9ff4644401986cdbb6d13911abc": {
          "model_module": "@jupyter-widgets/controls",
          "model_module_version": "1.5.0",
          "model_name": "HBoxModel",
          "state": {
            "_dom_classes": [],
            "_model_module": "@jupyter-widgets/controls",
            "_model_module_version": "1.5.0",
            "_model_name": "HBoxModel",
            "_view_count": null,
            "_view_module": "@jupyter-widgets/controls",
            "_view_module_version": "1.5.0",
            "_view_name": "HBoxView",
            "box_style": "",
            "children": [
              "IPY_MODEL_ac93780fb61041f5a61f2fbc0c93afb5",
              "IPY_MODEL_1da0b166a871472782ca58f56c45ddbd",
              "IPY_MODEL_081710773b2b4b03bf77ec5cbf24e6eb"
            ],
            "layout": "IPY_MODEL_6cc0276caf514e4c8d84e5dd3c2ed35a"
          }
        },
        "6cc0276caf514e4c8d84e5dd3c2ed35a": {
          "model_module": "@jupyter-widgets/base",
          "model_module_version": "1.2.0",
          "model_name": "LayoutModel",
          "state": {
            "_model_module": "@jupyter-widgets/base",
            "_model_module_version": "1.2.0",
            "_model_name": "LayoutModel",
            "_view_count": null,
            "_view_module": "@jupyter-widgets/base",
            "_view_module_version": "1.2.0",
            "_view_name": "LayoutView",
            "align_content": null,
            "align_items": null,
            "align_self": null,
            "border": null,
            "bottom": null,
            "display": null,
            "flex": null,
            "flex_flow": null,
            "grid_area": null,
            "grid_auto_columns": null,
            "grid_auto_flow": null,
            "grid_auto_rows": null,
            "grid_column": null,
            "grid_gap": null,
            "grid_row": null,
            "grid_template_areas": null,
            "grid_template_columns": null,
            "grid_template_rows": null,
            "height": null,
            "justify_content": null,
            "justify_items": null,
            "left": null,
            "margin": null,
            "max_height": null,
            "max_width": null,
            "min_height": null,
            "min_width": null,
            "object_fit": null,
            "object_position": null,
            "order": null,
            "overflow": null,
            "overflow_x": null,
            "overflow_y": null,
            "padding": null,
            "right": null,
            "top": null,
            "visibility": null,
            "width": null
          }
        },
        "7897cfc30e9a41109295388059452429": {
          "model_module": "@jupyter-widgets/base",
          "model_module_version": "1.2.0",
          "model_name": "LayoutModel",
          "state": {
            "_model_module": "@jupyter-widgets/base",
            "_model_module_version": "1.2.0",
            "_model_name": "LayoutModel",
            "_view_count": null,
            "_view_module": "@jupyter-widgets/base",
            "_view_module_version": "1.2.0",
            "_view_name": "LayoutView",
            "align_content": null,
            "align_items": null,
            "align_self": null,
            "border": null,
            "bottom": null,
            "display": null,
            "flex": null,
            "flex_flow": null,
            "grid_area": null,
            "grid_auto_columns": null,
            "grid_auto_flow": null,
            "grid_auto_rows": null,
            "grid_column": null,
            "grid_gap": null,
            "grid_row": null,
            "grid_template_areas": null,
            "grid_template_columns": null,
            "grid_template_rows": null,
            "height": null,
            "justify_content": null,
            "justify_items": null,
            "left": null,
            "margin": null,
            "max_height": null,
            "max_width": null,
            "min_height": null,
            "min_width": null,
            "object_fit": null,
            "object_position": null,
            "order": null,
            "overflow": null,
            "overflow_x": null,
            "overflow_y": null,
            "padding": null,
            "right": null,
            "top": null,
            "visibility": null,
            "width": null
          }
        },
        "7930c1332dbd406ab6426b2cc32b09b3": {
          "model_module": "@jupyter-widgets/controls",
          "model_module_version": "1.5.0",
          "model_name": "HBoxModel",
          "state": {
            "_dom_classes": [],
            "_model_module": "@jupyter-widgets/controls",
            "_model_module_version": "1.5.0",
            "_model_name": "HBoxModel",
            "_view_count": null,
            "_view_module": "@jupyter-widgets/controls",
            "_view_module_version": "1.5.0",
            "_view_name": "HBoxView",
            "box_style": "",
            "children": [
              "IPY_MODEL_11d82d2036a34c51a143283e71d25ae4",
              "IPY_MODEL_26aed773f6d5430f9e272743f387a295",
              "IPY_MODEL_21bdd0cc36464ecbb06c772d875662cb"
            ],
            "layout": "IPY_MODEL_88e38ed3b29343b9985e72dd4cfccdf2"
          }
        },
        "798dfd5182d448d19faa2e1acd1c4969": {
          "model_module": "@jupyter-widgets/controls",
          "model_module_version": "1.5.0",
          "model_name": "HTMLModel",
          "state": {
            "_dom_classes": [],
            "_model_module": "@jupyter-widgets/controls",
            "_model_module_version": "1.5.0",
            "_model_name": "HTMLModel",
            "_view_count": null,
            "_view_module": "@jupyter-widgets/controls",
            "_view_module_version": "1.5.0",
            "_view_name": "HTMLView",
            "description": "",
            "description_tooltip": null,
            "layout": "IPY_MODEL_67b49b4f94d34c7e8a0e1db674783af3",
            "placeholder": "​",
            "style": "IPY_MODEL_9aafb53cbb104696beae90a44b635dd9",
            "value": " 77%"
          }
        },
        "79d52b5b10cc490396fcf55167bec98d": {
          "model_module": "@jupyter-widgets/controls",
          "model_module_version": "1.5.0",
          "model_name": "ProgressStyleModel",
          "state": {
            "_model_module": "@jupyter-widgets/controls",
            "_model_module_version": "1.5.0",
            "_model_name": "ProgressStyleModel",
            "_view_count": null,
            "_view_module": "@jupyter-widgets/base",
            "_view_module_version": "1.2.0",
            "_view_name": "StyleView",
            "bar_color": null,
            "description_width": ""
          }
        },
        "8521554abaf148ca9c63fdb8efb34471": {
          "model_module": "@jupyter-widgets/base",
          "model_module_version": "1.2.0",
          "model_name": "LayoutModel",
          "state": {
            "_model_module": "@jupyter-widgets/base",
            "_model_module_version": "1.2.0",
            "_model_name": "LayoutModel",
            "_view_count": null,
            "_view_module": "@jupyter-widgets/base",
            "_view_module_version": "1.2.0",
            "_view_name": "LayoutView",
            "align_content": null,
            "align_items": null,
            "align_self": null,
            "border": null,
            "bottom": null,
            "display": null,
            "flex": null,
            "flex_flow": null,
            "grid_area": null,
            "grid_auto_columns": null,
            "grid_auto_flow": null,
            "grid_auto_rows": null,
            "grid_column": null,
            "grid_gap": null,
            "grid_row": null,
            "grid_template_areas": null,
            "grid_template_columns": null,
            "grid_template_rows": null,
            "height": null,
            "justify_content": null,
            "justify_items": null,
            "left": null,
            "margin": null,
            "max_height": null,
            "max_width": null,
            "min_height": null,
            "min_width": null,
            "object_fit": null,
            "object_position": null,
            "order": null,
            "overflow": null,
            "overflow_x": null,
            "overflow_y": null,
            "padding": null,
            "right": null,
            "top": null,
            "visibility": null,
            "width": null
          }
        },
        "87748a84d7b24343a681803ffe5a233e": {
          "model_module": "@jupyter-widgets/controls",
          "model_module_version": "1.5.0",
          "model_name": "DescriptionStyleModel",
          "state": {
            "_model_module": "@jupyter-widgets/controls",
            "_model_module_version": "1.5.0",
            "_model_name": "DescriptionStyleModel",
            "_view_count": null,
            "_view_module": "@jupyter-widgets/base",
            "_view_module_version": "1.2.0",
            "_view_name": "StyleView",
            "description_width": ""
          }
        },
        "88e38ed3b29343b9985e72dd4cfccdf2": {
          "model_module": "@jupyter-widgets/base",
          "model_module_version": "1.2.0",
          "model_name": "LayoutModel",
          "state": {
            "_model_module": "@jupyter-widgets/base",
            "_model_module_version": "1.2.0",
            "_model_name": "LayoutModel",
            "_view_count": null,
            "_view_module": "@jupyter-widgets/base",
            "_view_module_version": "1.2.0",
            "_view_name": "LayoutView",
            "align_content": null,
            "align_items": null,
            "align_self": null,
            "border": null,
            "bottom": null,
            "display": null,
            "flex": null,
            "flex_flow": null,
            "grid_area": null,
            "grid_auto_columns": null,
            "grid_auto_flow": null,
            "grid_auto_rows": null,
            "grid_column": null,
            "grid_gap": null,
            "grid_row": null,
            "grid_template_areas": null,
            "grid_template_columns": null,
            "grid_template_rows": null,
            "height": null,
            "justify_content": null,
            "justify_items": null,
            "left": null,
            "margin": null,
            "max_height": null,
            "max_width": null,
            "min_height": null,
            "min_width": null,
            "object_fit": null,
            "object_position": null,
            "order": null,
            "overflow": null,
            "overflow_x": null,
            "overflow_y": null,
            "padding": null,
            "right": null,
            "top": null,
            "visibility": null,
            "width": null
          }
        },
        "897d646228a541fea092d373f789535c": {
          "model_module": "@jupyter-widgets/controls",
          "model_module_version": "1.5.0",
          "model_name": "HTMLModel",
          "state": {
            "_dom_classes": [],
            "_model_module": "@jupyter-widgets/controls",
            "_model_module_version": "1.5.0",
            "_model_name": "HTMLModel",
            "_view_count": null,
            "_view_module": "@jupyter-widgets/controls",
            "_view_module_version": "1.5.0",
            "_view_name": "HTMLView",
            "description": "",
            "description_tooltip": null,
            "layout": "IPY_MODEL_8f25ac7dc2044b3c91d5692b15165b33",
            "placeholder": "​",
            "style": "IPY_MODEL_620ed50b9ba642429d126d32050e17e3",
            "value": " 77/100 [11:55&lt;03:43,  9.71s/it]"
          }
        },
        "8f25ac7dc2044b3c91d5692b15165b33": {
          "model_module": "@jupyter-widgets/base",
          "model_module_version": "1.2.0",
          "model_name": "LayoutModel",
          "state": {
            "_model_module": "@jupyter-widgets/base",
            "_model_module_version": "1.2.0",
            "_model_name": "LayoutModel",
            "_view_count": null,
            "_view_module": "@jupyter-widgets/base",
            "_view_module_version": "1.2.0",
            "_view_name": "LayoutView",
            "align_content": null,
            "align_items": null,
            "align_self": null,
            "border": null,
            "bottom": null,
            "display": null,
            "flex": null,
            "flex_flow": null,
            "grid_area": null,
            "grid_auto_columns": null,
            "grid_auto_flow": null,
            "grid_auto_rows": null,
            "grid_column": null,
            "grid_gap": null,
            "grid_row": null,
            "grid_template_areas": null,
            "grid_template_columns": null,
            "grid_template_rows": null,
            "height": null,
            "justify_content": null,
            "justify_items": null,
            "left": null,
            "margin": null,
            "max_height": null,
            "max_width": null,
            "min_height": null,
            "min_width": null,
            "object_fit": null,
            "object_position": null,
            "order": null,
            "overflow": null,
            "overflow_x": null,
            "overflow_y": null,
            "padding": null,
            "right": null,
            "top": null,
            "visibility": null,
            "width": null
          }
        },
        "93ae4d71dc3c432ea49c72a1756c63df": {
          "model_module": "@jupyter-widgets/base",
          "model_module_version": "1.2.0",
          "model_name": "LayoutModel",
          "state": {
            "_model_module": "@jupyter-widgets/base",
            "_model_module_version": "1.2.0",
            "_model_name": "LayoutModel",
            "_view_count": null,
            "_view_module": "@jupyter-widgets/base",
            "_view_module_version": "1.2.0",
            "_view_name": "LayoutView",
            "align_content": null,
            "align_items": null,
            "align_self": null,
            "border": null,
            "bottom": null,
            "display": null,
            "flex": null,
            "flex_flow": null,
            "grid_area": null,
            "grid_auto_columns": null,
            "grid_auto_flow": null,
            "grid_auto_rows": null,
            "grid_column": null,
            "grid_gap": null,
            "grid_row": null,
            "grid_template_areas": null,
            "grid_template_columns": null,
            "grid_template_rows": null,
            "height": null,
            "justify_content": null,
            "justify_items": null,
            "left": null,
            "margin": null,
            "max_height": null,
            "max_width": null,
            "min_height": null,
            "min_width": null,
            "object_fit": null,
            "object_position": null,
            "order": null,
            "overflow": null,
            "overflow_x": null,
            "overflow_y": null,
            "padding": null,
            "right": null,
            "top": null,
            "visibility": null,
            "width": null
          }
        },
        "96c9379790d44417b01a9d6ce15d518e": {
          "model_module": "@jupyter-widgets/base",
          "model_module_version": "1.2.0",
          "model_name": "LayoutModel",
          "state": {
            "_model_module": "@jupyter-widgets/base",
            "_model_module_version": "1.2.0",
            "_model_name": "LayoutModel",
            "_view_count": null,
            "_view_module": "@jupyter-widgets/base",
            "_view_module_version": "1.2.0",
            "_view_name": "LayoutView",
            "align_content": null,
            "align_items": null,
            "align_self": null,
            "border": null,
            "bottom": null,
            "display": null,
            "flex": null,
            "flex_flow": null,
            "grid_area": null,
            "grid_auto_columns": null,
            "grid_auto_flow": null,
            "grid_auto_rows": null,
            "grid_column": null,
            "grid_gap": null,
            "grid_row": null,
            "grid_template_areas": null,
            "grid_template_columns": null,
            "grid_template_rows": null,
            "height": null,
            "justify_content": null,
            "justify_items": null,
            "left": null,
            "margin": null,
            "max_height": null,
            "max_width": null,
            "min_height": null,
            "min_width": null,
            "object_fit": null,
            "object_position": null,
            "order": null,
            "overflow": null,
            "overflow_x": null,
            "overflow_y": null,
            "padding": null,
            "right": null,
            "top": null,
            "visibility": null,
            "width": null
          }
        },
        "9811f37de3df4923a5d84839dcda068d": {
          "model_module": "@jupyter-widgets/controls",
          "model_module_version": "1.5.0",
          "model_name": "HBoxModel",
          "state": {
            "_dom_classes": [],
            "_model_module": "@jupyter-widgets/controls",
            "_model_module_version": "1.5.0",
            "_model_name": "HBoxModel",
            "_view_count": null,
            "_view_module": "@jupyter-widgets/controls",
            "_view_module_version": "1.5.0",
            "_view_name": "HBoxView",
            "box_style": "",
            "children": [
              "IPY_MODEL_1e246cb685f94ead82753272241b4109",
              "IPY_MODEL_fce8fb7c42964706bd412f8c684cdefe",
              "IPY_MODEL_448e7cf364e74a8495320dc762efa360"
            ],
            "layout": "IPY_MODEL_93ae4d71dc3c432ea49c72a1756c63df"
          }
        },
        "9aafb53cbb104696beae90a44b635dd9": {
          "model_module": "@jupyter-widgets/controls",
          "model_module_version": "1.5.0",
          "model_name": "DescriptionStyleModel",
          "state": {
            "_model_module": "@jupyter-widgets/controls",
            "_model_module_version": "1.5.0",
            "_model_name": "DescriptionStyleModel",
            "_view_count": null,
            "_view_module": "@jupyter-widgets/base",
            "_view_module_version": "1.2.0",
            "_view_name": "StyleView",
            "description_width": ""
          }
        },
        "9e0374536ed74a34bb1ca868efb5f5c3": {
          "model_module": "@jupyter-widgets/controls",
          "model_module_version": "1.5.0",
          "model_name": "ProgressStyleModel",
          "state": {
            "_model_module": "@jupyter-widgets/controls",
            "_model_module_version": "1.5.0",
            "_model_name": "ProgressStyleModel",
            "_view_count": null,
            "_view_module": "@jupyter-widgets/base",
            "_view_module_version": "1.2.0",
            "_view_name": "StyleView",
            "bar_color": null,
            "description_width": ""
          }
        },
        "a183b545b7094c269303c315b692ea58": {
          "model_module": "@jupyter-widgets/base",
          "model_module_version": "1.2.0",
          "model_name": "LayoutModel",
          "state": {
            "_model_module": "@jupyter-widgets/base",
            "_model_module_version": "1.2.0",
            "_model_name": "LayoutModel",
            "_view_count": null,
            "_view_module": "@jupyter-widgets/base",
            "_view_module_version": "1.2.0",
            "_view_name": "LayoutView",
            "align_content": null,
            "align_items": null,
            "align_self": null,
            "border": null,
            "bottom": null,
            "display": null,
            "flex": null,
            "flex_flow": null,
            "grid_area": null,
            "grid_auto_columns": null,
            "grid_auto_flow": null,
            "grid_auto_rows": null,
            "grid_column": null,
            "grid_gap": null,
            "grid_row": null,
            "grid_template_areas": null,
            "grid_template_columns": null,
            "grid_template_rows": null,
            "height": null,
            "justify_content": null,
            "justify_items": null,
            "left": null,
            "margin": null,
            "max_height": null,
            "max_width": null,
            "min_height": null,
            "min_width": null,
            "object_fit": null,
            "object_position": null,
            "order": null,
            "overflow": null,
            "overflow_x": null,
            "overflow_y": null,
            "padding": null,
            "right": null,
            "top": null,
            "visibility": null,
            "width": null
          }
        },
        "a67a8cd8346448f091b5a9564ee38099": {
          "model_module": "@jupyter-widgets/controls",
          "model_module_version": "1.5.0",
          "model_name": "ProgressStyleModel",
          "state": {
            "_model_module": "@jupyter-widgets/controls",
            "_model_module_version": "1.5.0",
            "_model_name": "ProgressStyleModel",
            "_view_count": null,
            "_view_module": "@jupyter-widgets/base",
            "_view_module_version": "1.2.0",
            "_view_name": "StyleView",
            "bar_color": null,
            "description_width": ""
          }
        },
        "a6d7e9d35bdb458099fd754d9298bf2a": {
          "model_module": "@jupyter-widgets/controls",
          "model_module_version": "1.5.0",
          "model_name": "DescriptionStyleModel",
          "state": {
            "_model_module": "@jupyter-widgets/controls",
            "_model_module_version": "1.5.0",
            "_model_name": "DescriptionStyleModel",
            "_view_count": null,
            "_view_module": "@jupyter-widgets/base",
            "_view_module_version": "1.2.0",
            "_view_name": "StyleView",
            "description_width": ""
          }
        },
        "a7c66be85ef6425a9576e4d5d175c28f": {
          "model_module": "@jupyter-widgets/base",
          "model_module_version": "1.2.0",
          "model_name": "LayoutModel",
          "state": {
            "_model_module": "@jupyter-widgets/base",
            "_model_module_version": "1.2.0",
            "_model_name": "LayoutModel",
            "_view_count": null,
            "_view_module": "@jupyter-widgets/base",
            "_view_module_version": "1.2.0",
            "_view_name": "LayoutView",
            "align_content": null,
            "align_items": null,
            "align_self": null,
            "border": null,
            "bottom": null,
            "display": null,
            "flex": null,
            "flex_flow": null,
            "grid_area": null,
            "grid_auto_columns": null,
            "grid_auto_flow": null,
            "grid_auto_rows": null,
            "grid_column": null,
            "grid_gap": null,
            "grid_row": null,
            "grid_template_areas": null,
            "grid_template_columns": null,
            "grid_template_rows": null,
            "height": null,
            "justify_content": null,
            "justify_items": null,
            "left": null,
            "margin": null,
            "max_height": null,
            "max_width": null,
            "min_height": null,
            "min_width": null,
            "object_fit": null,
            "object_position": null,
            "order": null,
            "overflow": null,
            "overflow_x": null,
            "overflow_y": null,
            "padding": null,
            "right": null,
            "top": null,
            "visibility": null,
            "width": null
          }
        },
        "aabee0fcf1214f1888c93d257ddd99d8": {
          "model_module": "@jupyter-widgets/base",
          "model_module_version": "1.2.0",
          "model_name": "LayoutModel",
          "state": {
            "_model_module": "@jupyter-widgets/base",
            "_model_module_version": "1.2.0",
            "_model_name": "LayoutModel",
            "_view_count": null,
            "_view_module": "@jupyter-widgets/base",
            "_view_module_version": "1.2.0",
            "_view_name": "LayoutView",
            "align_content": null,
            "align_items": null,
            "align_self": null,
            "border": null,
            "bottom": null,
            "display": null,
            "flex": null,
            "flex_flow": null,
            "grid_area": null,
            "grid_auto_columns": null,
            "grid_auto_flow": null,
            "grid_auto_rows": null,
            "grid_column": null,
            "grid_gap": null,
            "grid_row": null,
            "grid_template_areas": null,
            "grid_template_columns": null,
            "grid_template_rows": null,
            "height": null,
            "justify_content": null,
            "justify_items": null,
            "left": null,
            "margin": null,
            "max_height": null,
            "max_width": null,
            "min_height": null,
            "min_width": null,
            "object_fit": null,
            "object_position": null,
            "order": null,
            "overflow": null,
            "overflow_x": null,
            "overflow_y": null,
            "padding": null,
            "right": null,
            "top": null,
            "visibility": null,
            "width": null
          }
        },
        "ab125d21ac55438289ed89617b8e7ad0": {
          "model_module": "@jupyter-widgets/controls",
          "model_module_version": "1.5.0",
          "model_name": "HBoxModel",
          "state": {
            "_dom_classes": [],
            "_model_module": "@jupyter-widgets/controls",
            "_model_module_version": "1.5.0",
            "_model_name": "HBoxModel",
            "_view_count": null,
            "_view_module": "@jupyter-widgets/controls",
            "_view_module_version": "1.5.0",
            "_view_name": "HBoxView",
            "box_style": "",
            "children": [
              "IPY_MODEL_798dfd5182d448d19faa2e1acd1c4969",
              "IPY_MODEL_28ca42d032914739a0411da15a8d98ef",
              "IPY_MODEL_897d646228a541fea092d373f789535c"
            ],
            "layout": "IPY_MODEL_53cb3717d1cd45a1b05bfc2965511558"
          }
        },
        "ab2f7aadc0404474b48eb47e2dd47085": {
          "model_module": "@jupyter-widgets/controls",
          "model_module_version": "1.5.0",
          "model_name": "ProgressStyleModel",
          "state": {
            "_model_module": "@jupyter-widgets/controls",
            "_model_module_version": "1.5.0",
            "_model_name": "ProgressStyleModel",
            "_view_count": null,
            "_view_module": "@jupyter-widgets/base",
            "_view_module_version": "1.2.0",
            "_view_name": "StyleView",
            "bar_color": null,
            "description_width": ""
          }
        },
        "ac93780fb61041f5a61f2fbc0c93afb5": {
          "model_module": "@jupyter-widgets/controls",
          "model_module_version": "1.5.0",
          "model_name": "HTMLModel",
          "state": {
            "_dom_classes": [],
            "_model_module": "@jupyter-widgets/controls",
            "_model_module_version": "1.5.0",
            "_model_name": "HTMLModel",
            "_view_count": null,
            "_view_module": "@jupyter-widgets/controls",
            "_view_module_version": "1.5.0",
            "_view_name": "HTMLView",
            "description": "",
            "description_tooltip": null,
            "layout": "IPY_MODEL_5e2a847fa1174884a1f88168cfa6ce72",
            "placeholder": "​",
            "style": "IPY_MODEL_d5d6c146e77c49769e650cf54ede7554",
            "value": "100%"
          }
        },
        "ba406f0c0d164e40b9118c4c95062a31": {
          "model_module": "@jupyter-widgets/base",
          "model_module_version": "1.2.0",
          "model_name": "LayoutModel",
          "state": {
            "_model_module": "@jupyter-widgets/base",
            "_model_module_version": "1.2.0",
            "_model_name": "LayoutModel",
            "_view_count": null,
            "_view_module": "@jupyter-widgets/base",
            "_view_module_version": "1.2.0",
            "_view_name": "LayoutView",
            "align_content": null,
            "align_items": null,
            "align_self": null,
            "border": null,
            "bottom": null,
            "display": null,
            "flex": null,
            "flex_flow": null,
            "grid_area": null,
            "grid_auto_columns": null,
            "grid_auto_flow": null,
            "grid_auto_rows": null,
            "grid_column": null,
            "grid_gap": null,
            "grid_row": null,
            "grid_template_areas": null,
            "grid_template_columns": null,
            "grid_template_rows": null,
            "height": null,
            "justify_content": null,
            "justify_items": null,
            "left": null,
            "margin": null,
            "max_height": null,
            "max_width": null,
            "min_height": null,
            "min_width": null,
            "object_fit": null,
            "object_position": null,
            "order": null,
            "overflow": null,
            "overflow_x": null,
            "overflow_y": null,
            "padding": null,
            "right": null,
            "top": null,
            "visibility": null,
            "width": null
          }
        },
        "c0064ca959aa442e985c246b8745d071": {
          "model_module": "@jupyter-widgets/controls",
          "model_module_version": "1.5.0",
          "model_name": "DescriptionStyleModel",
          "state": {
            "_model_module": "@jupyter-widgets/controls",
            "_model_module_version": "1.5.0",
            "_model_name": "DescriptionStyleModel",
            "_view_count": null,
            "_view_module": "@jupyter-widgets/base",
            "_view_module_version": "1.2.0",
            "_view_name": "StyleView",
            "description_width": ""
          }
        },
        "c953e7a7353540858db88c539cfba169": {
          "model_module": "@jupyter-widgets/base",
          "model_module_version": "1.2.0",
          "model_name": "LayoutModel",
          "state": {
            "_model_module": "@jupyter-widgets/base",
            "_model_module_version": "1.2.0",
            "_model_name": "LayoutModel",
            "_view_count": null,
            "_view_module": "@jupyter-widgets/base",
            "_view_module_version": "1.2.0",
            "_view_name": "LayoutView",
            "align_content": null,
            "align_items": null,
            "align_self": null,
            "border": null,
            "bottom": null,
            "display": null,
            "flex": null,
            "flex_flow": null,
            "grid_area": null,
            "grid_auto_columns": null,
            "grid_auto_flow": null,
            "grid_auto_rows": null,
            "grid_column": null,
            "grid_gap": null,
            "grid_row": null,
            "grid_template_areas": null,
            "grid_template_columns": null,
            "grid_template_rows": null,
            "height": null,
            "justify_content": null,
            "justify_items": null,
            "left": null,
            "margin": null,
            "max_height": null,
            "max_width": null,
            "min_height": null,
            "min_width": null,
            "object_fit": null,
            "object_position": null,
            "order": null,
            "overflow": null,
            "overflow_x": null,
            "overflow_y": null,
            "padding": null,
            "right": null,
            "top": null,
            "visibility": null,
            "width": null
          }
        },
        "d5d6c146e77c49769e650cf54ede7554": {
          "model_module": "@jupyter-widgets/controls",
          "model_module_version": "1.5.0",
          "model_name": "DescriptionStyleModel",
          "state": {
            "_model_module": "@jupyter-widgets/controls",
            "_model_module_version": "1.5.0",
            "_model_name": "DescriptionStyleModel",
            "_view_count": null,
            "_view_module": "@jupyter-widgets/base",
            "_view_module_version": "1.2.0",
            "_view_name": "StyleView",
            "description_width": ""
          }
        },
        "d74ed90b3098482eae76fc69322058e6": {
          "model_module": "@jupyter-widgets/controls",
          "model_module_version": "1.5.0",
          "model_name": "HBoxModel",
          "state": {
            "_dom_classes": [],
            "_model_module": "@jupyter-widgets/controls",
            "_model_module_version": "1.5.0",
            "_model_name": "HBoxModel",
            "_view_count": null,
            "_view_module": "@jupyter-widgets/controls",
            "_view_module_version": "1.5.0",
            "_view_name": "HBoxView",
            "box_style": "",
            "children": [
              "IPY_MODEL_01a56f443a584a89aa9fa7e0b4171e61",
              "IPY_MODEL_636d775e76b9492d864063d88f19df60",
              "IPY_MODEL_5de82c956849432ab9da38a8a9da3803"
            ],
            "layout": "IPY_MODEL_0b80f859cb1d4832afd0583c93ab97bd"
          }
        },
        "e1fdbb14f402472d9cc45d8dcdf763cf": {
          "model_module": "@jupyter-widgets/controls",
          "model_module_version": "1.5.0",
          "model_name": "DescriptionStyleModel",
          "state": {
            "_model_module": "@jupyter-widgets/controls",
            "_model_module_version": "1.5.0",
            "_model_name": "DescriptionStyleModel",
            "_view_count": null,
            "_view_module": "@jupyter-widgets/base",
            "_view_module_version": "1.2.0",
            "_view_name": "StyleView",
            "description_width": ""
          }
        },
        "f1b0aea6e32e4ad09af6f923d640a5b9": {
          "model_module": "@jupyter-widgets/base",
          "model_module_version": "1.2.0",
          "model_name": "LayoutModel",
          "state": {
            "_model_module": "@jupyter-widgets/base",
            "_model_module_version": "1.2.0",
            "_model_name": "LayoutModel",
            "_view_count": null,
            "_view_module": "@jupyter-widgets/base",
            "_view_module_version": "1.2.0",
            "_view_name": "LayoutView",
            "align_content": null,
            "align_items": null,
            "align_self": null,
            "border": null,
            "bottom": null,
            "display": null,
            "flex": null,
            "flex_flow": null,
            "grid_area": null,
            "grid_auto_columns": null,
            "grid_auto_flow": null,
            "grid_auto_rows": null,
            "grid_column": null,
            "grid_gap": null,
            "grid_row": null,
            "grid_template_areas": null,
            "grid_template_columns": null,
            "grid_template_rows": null,
            "height": null,
            "justify_content": null,
            "justify_items": null,
            "left": null,
            "margin": null,
            "max_height": null,
            "max_width": null,
            "min_height": null,
            "min_width": null,
            "object_fit": null,
            "object_position": null,
            "order": null,
            "overflow": null,
            "overflow_x": null,
            "overflow_y": null,
            "padding": null,
            "right": null,
            "top": null,
            "visibility": null,
            "width": null
          }
        },
        "f6e84189b3854331af7556cf5adb2dd3": {
          "model_module": "@jupyter-widgets/controls",
          "model_module_version": "1.5.0",
          "model_name": "DescriptionStyleModel",
          "state": {
            "_model_module": "@jupyter-widgets/controls",
            "_model_module_version": "1.5.0",
            "_model_name": "DescriptionStyleModel",
            "_view_count": null,
            "_view_module": "@jupyter-widgets/base",
            "_view_module_version": "1.2.0",
            "_view_name": "StyleView",
            "description_width": ""
          }
        },
        "fce8fb7c42964706bd412f8c684cdefe": {
          "model_module": "@jupyter-widgets/controls",
          "model_module_version": "1.5.0",
          "model_name": "FloatProgressModel",
          "state": {
            "_dom_classes": [],
            "_model_module": "@jupyter-widgets/controls",
            "_model_module_version": "1.5.0",
            "_model_name": "FloatProgressModel",
            "_view_count": null,
            "_view_module": "@jupyter-widgets/controls",
            "_view_module_version": "1.5.0",
            "_view_name": "ProgressView",
            "bar_style": "success",
            "description": "",
            "description_tooltip": null,
            "layout": "IPY_MODEL_53ba2defb366411daa13237a0f6477f7",
            "max": 100,
            "min": 0,
            "orientation": "horizontal",
            "style": "IPY_MODEL_9e0374536ed74a34bb1ca868efb5f5c3",
            "value": 100
          }
        }
      }
    }
  },
  "nbformat": 4,
  "nbformat_minor": 0
}