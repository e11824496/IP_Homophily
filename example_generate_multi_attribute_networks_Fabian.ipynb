{
 "cells": [
  {
   "cell_type": "code",
   "execution_count": 14,
   "id": "886a67e3",
   "metadata": {},
   "outputs": [
    {
     "name": "stdout",
     "output_type": "stream",
     "text": [
      "The autoreload extension is already loaded. To reload it, use:\n",
      "  %reload_ext autoreload\n"
     ]
    }
   ],
   "source": [
    "%load_ext autoreload\n",
    "%autoreload 2"
   ]
  },
  {
   "cell_type": "code",
   "execution_count": 15,
   "id": "ab3b7a6c",
   "metadata": {},
   "outputs": [],
   "source": [
    "import networkx as nx\n",
    "import numpy as np\n",
    "import matplotlib.pyplot as plt\n",
    "from pprint import pprint\n",
    "import network_generation as homomul\n",
    "import spread_simulation\n",
    "import homophily_multi_attr_viz as homomul_viz"
   ]
  },
  {
   "attachments": {},
   "cell_type": "markdown",
   "id": "b55934ce",
   "metadata": {},
   "source": [
    "# Multi-Attribute Homophily\n",
    "\n",
    "The configuration of our social networks has a profound impact on our everyday lives. It\n",
    "determines our career success, socioeconomic status, and overall health. Homophily, the\n",
    "tendency to associate with similar individuals, is a critical factor in the formation of social\n",
    "ties. Traditional studies on homophily have focused on one sociodemographic dimension,\n",
    "such as ethnicity, gender, or socioeconomic status. However, this project aims to move\n",
    "beyond these limitations by examining the intersection and correlation of multiple dimensions.\n",
    "Our interactions are not solely determined by our group membership in one dimension but\n",
    "by the combination of several dimensions. The project’s objective is to investigate how\n",
    "multidimensional homophily and attribute correlation affect different social groups’ ability\n",
    "to spread and access information. To achieve this goal, we will use a multidimensional\n",
    "homophily network model to generate synthetic networks and perform spreading simulations."
   ]
  },
  {
   "attachments": {},
   "cell_type": "markdown",
   "id": "9e18ed98",
   "metadata": {},
   "source": [
    "## Model specs\n",
    "\n",
    "N = Number of nodes \\\n",
    "Average degree = 2m"
   ]
  },
  {
   "cell_type": "code",
   "execution_count": 16,
   "id": "1fa37f3a",
   "metadata": {},
   "outputs": [],
   "source": [
    "N = 3200\n",
    "m = 5"
   ]
  },
  {
   "attachments": {},
   "cell_type": "markdown",
   "id": "9ba4b9e3",
   "metadata": {},
   "source": [
    "### Population distribution"
   ]
  },
  {
   "cell_type": "code",
   "execution_count": 17,
   "id": "346510ee",
   "metadata": {},
   "outputs": [
    {
     "name": "stdout",
     "output_type": "stream",
     "text": [
      "array([[0.45, 0.05],\n",
      "       [0.05, 0.45]])\n"
     ]
    }
   ],
   "source": [
    "## Population fractions\n",
    "\n",
    "correl_param = 0.9 ## Between 0 and 1\n",
    "pop_fracs_lst = [[0.5,0.5],[0.5,0.5]] ## Marginal population distributions\n",
    "\n",
    "## Joint population distribution. It's a tensor T where each element T[i1,i2,i3,...,iD] corresponds to the population fraction\n",
    "## of the group (i1,i2,i3,...,iD). D is the total number of dimensions.\n",
    "comp_pop_frac_tnsr = homomul.consol_comp_pop_frac_tnsr(pop_fracs_lst, correl_param) \n",
    "pprint(comp_pop_frac_tnsr)"
   ]
  },
  {
   "cell_type": "code",
   "execution_count": 18,
   "id": "f07866b2",
   "metadata": {},
   "outputs": [
    {
     "data": {
      "image/png": "[encoded data removed]",
      "text/plain": [
       "<Figure size 300x300 with 3 Axes>"
      ]
     },
     "metadata": {},
     "output_type": "display_data"
    }
   ],
   "source": [
    "## Plot population distribution\n",
    "homomul_viz.fig_2bin_comp_pop_frac(comp_pop_frac_tnsr)\n",
    "plt.ylabel(\"Cooking\")\n",
    "plt.xlabel(\"Gender\")\n",
    "plt.show()"
   ]
  },
  {
   "attachments": {},
   "cell_type": "markdown",
   "id": "786a5e36",
   "metadata": {},
   "source": [
    "### Interaction preferences\n",
    "\n",
    "**One-dimensional homophily / heterophily matrices** \\\n",
    "These metricies describe the likelihood two persons connect based on their value in only one dimension. \n",
    "So for dimension one (for example gender) the matrix describes the affinity of two persons based on their value in this dimension. \n",
    "\n",
    "We can create these one-dimensional homophily / heterophily matrices for each dimension in our attribute vector."
   ]
  },
  {
   "cell_type": "code",
   "execution_count": 19,
   "id": "8af8d620",
   "metadata": {},
   "outputs": [],
   "source": [
    "## One-dimensional matrices of connection preference\n",
    "h=0.9\n",
    "h1 = np.array([[h,1-h], [1-h,h]])\n",
    "h2 = h1.copy()\n",
    "h_mtrx_lst = np.array([h1,h2])"
   ]
  },
  {
   "cell_type": "code",
   "execution_count": 20,
   "id": "286d36d6",
   "metadata": {},
   "outputs": [
    {
     "data": {
      "image/png": "[encoded data removed]",
      "text/plain": [
       "<Figure size 400x200 with 2 Axes>"
      ]
     },
     "metadata": {},
     "output_type": "display_data"
    }
   ],
   "source": [
    "## Plot homophily / heterophily 1D matrices\n",
    "plt.figure(figsize=(4,2))\n",
    "ax = plt.subplot(1,2,1)\n",
    "homomul_viz.fig_colored_matrix(\n",
    "\th_mtrx_lst[0],\n",
    "\tax=ax,\n",
    "\txticks=[0,1],\n",
    "\tyticks=[0,1],\n",
    "\tshow_colorbar=False,\n",
    "\tfigsize=None,\n",
    "\tvmin=0,\n",
    "\tvmax=1\n",
    "\t)\n",
    "plt.title(\"Dim 0\")\n",
    "ax = plt.subplot(1,2,2)\n",
    "homomul_viz.fig_colored_matrix(\n",
    "\th_mtrx_lst[1],\n",
    "\tax=ax,\n",
    "\txticks=[0,1],\n",
    "\tyticks=[0,1],\n",
    "\tshow_colorbar=False,\n",
    "\tfigsize=None,\n",
    "\tvmin=0,\n",
    "\tvmax=1\n",
    "\t)\n",
    "plt.title(\"Dim 1\")\n",
    "plt.show()"
   ]
  },
  {
   "attachments": {},
   "cell_type": "markdown",
   "id": "4ea8111b",
   "metadata": {},
   "source": [
    "**Aggregation type**\n",
    "\n",
    "The Aggregation type specifies how the different one-dimensional homophilic tendencies combine. \n",
    "The core element of our model is an aggregation mechanism to compute the affinity (connection probability) between two individuals given their vectors of categorical attributes.\n",
    "\n",
    "Uncompromising individuals may only make ties with people with whom they have high\n",
    "affinity in all dimensions. This is equivalent to attempt a connection in all dimensions and consider the interaction\n",
    "successful only if all attempts were successful."
   ]
  },
  {
   "cell_type": "code",
   "execution_count": 21,
   "id": "53a65143",
   "metadata": {},
   "outputs": [],
   "source": [
    "homophily_kind = \"all\"\n",
    "## all -> Attempt connection in every dimension. All attempts must be successful."
   ]
  },
  {
   "attachments": {},
   "cell_type": "markdown",
   "id": "5a2c88b1",
   "metadata": {},
   "source": [
    "## Generate network\n",
    "\n",
    "For network generation, the following creates a network based on Centola style connections. \n",
    "It creates N nodes based on the composition of the population (N nodes with the corresponding distribution in attributes). \n",
    "\n",
    "The generation process creates N*m edges (resulting in 2m average degree) by selecting random nodes and checking if their affinity is satisfied (based on the type of affinity). \n"
   ]
  },
  {
   "cell_type": "code",
   "execution_count": 22,
   "id": "67198623",
   "metadata": {},
   "outputs": [],
   "source": [
    "G_ER = homomul.am_v2(\n",
    "            h, correl_param, \n",
    "            comp_pop_frac_tnsr,\n",
    "            marginal_distribution = pop_fracs_lst,\n",
    "            N=N,\n",
    "            m=m\n",
    "            )"
   ]
  },
  {
   "cell_type": "code",
   "execution_count": 23,
   "id": "23d6c3a0",
   "metadata": {},
   "outputs": [],
   "source": [
    "## Export the network in gexf format to visualize it with gephi: https://gephi.org/\n",
    "G_out = homomul.G_attr_to_str(G_ER,\"attr\") ## Change tuple to string so that gephi can read the file\n",
    "nx.write_gexf(G_out, \"partial_results/tests/ER_nw.gexf\")"
   ]
  },
  {
   "cell_type": "code",
   "execution_count": 24,
   "id": "c20c2dda",
   "metadata": {},
   "outputs": [
    {
     "data": {
      "image/png": "[encoded data removed]",
      "text/plain": [
       "<Figure size 400x400 with 1 Axes>"
      ]
     },
     "metadata": {},
     "output_type": "display_data"
    },
    {
     "data": {
      "text/plain": [
       "array([[0.87647722, 0.09174455, 0.09156178, 0.01012966],\n",
       "       [0.09174455, 0.93147929, 0.01318598, 0.10319596],\n",
       "       [0.09156178, 0.01318598, 1.        , 0.10649245],\n",
       "       [0.01012966, 0.10319596, 0.10649245, 0.87932266]])"
      ]
     },
     "execution_count": 24,
     "metadata": {},
     "output_type": "execute_result"
    }
   ],
   "source": [
    "import network_stats\n",
    "network_stats.homophily_matrix(G_ER)"
   ]
  },
  {
   "attachments": {},
   "cell_type": "markdown",
   "id": "a7d0236a",
   "metadata": {},
   "source": [
    "## Simulation"
   ]
  },
  {
   "cell_type": "code",
   "execution_count": 12,
   "id": "96d615df",
   "metadata": {},
   "outputs": [],
   "source": [
    "initial = np.random.choice(G_ER.nodes, 1, replace=False)\n",
    "initial = np.append(initial, [x for n in initial for x in list(G_ER.neighbors(n))])\n",
    "G_ER = spread_simulation.complex_spread(G_ER, initial, 0.16)"
   ]
  },
  {
   "cell_type": "code",
   "execution_count": 13,
   "id": "77eb211e",
   "metadata": {},
   "outputs": [
    {
     "data": {
      "text/plain": [
       "0.0015625"
      ]
     },
     "execution_count": 13,
     "metadata": {},
     "output_type": "execute_result"
    }
   ],
   "source": [
    "spread_simulation.fraction_infected(G_ER)"
   ]
  }
 ],
 "metadata": {
  "kernelspec": {
   "display_name": "Python 3 (ipykernel)",
   "language": "python",
   "name": "python3"
  },
  "language_info": {
   "codemirror_mode": {
    "name": "ipython",
    "version": 3
   },
   "file_extension": ".py",
   "mimetype": "text/x-python",
   "name": "python",
   "nbconvert_exporter": "python",
   "pygments_lexer": "ipython3",
   "version": "3.10.6"
  }
 },
 "nbformat": 4,
 "nbformat_minor": 5
}
